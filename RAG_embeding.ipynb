{
  "cells": [
    {
      "cell_type": "code",
      "execution_count": null,
      "id": "28067825-dc9e-4e81-9bda-b66f31607b8c",
      "metadata": {
        "id": "28067825-dc9e-4e81-9bda-b66f31607b8c"
      },
      "outputs": [],
      "source": [
        "import os\n",
        "os.environ[\"KMP_DUPLICATE_LIB_OK\"]=\"TRUE\""
      ]
    },
    {
      "cell_type": "code",
      "source": [
        "!pip install faiss-cpu"
      ],
      "metadata": {
        "colab": {
          "base_uri": "https://localhost:8080/"
        },
        "id": "25mMJM7wMPp2",
        "outputId": "2db92674-6b70-4391-a0a2-3032a6bd5295"
      },
      "id": "25mMJM7wMPp2",
      "execution_count": null,
      "outputs": [
        {
          "output_type": "stream",
          "name": "stdout",
          "text": [
            "Collecting faiss-cpu\n",
            "  Downloading faiss_cpu-1.12.0-cp312-cp312-manylinux_2_27_x86_64.manylinux_2_28_x86_64.whl.metadata (5.1 kB)\n",
            "Requirement already satisfied: numpy<3.0,>=1.25.0 in /usr/local/lib/python3.12/dist-packages (from faiss-cpu) (2.0.2)\n",
            "Requirement already satisfied: packaging in /usr/local/lib/python3.12/dist-packages (from faiss-cpu) (25.0)\n",
            "Downloading faiss_cpu-1.12.0-cp312-cp312-manylinux_2_27_x86_64.manylinux_2_28_x86_64.whl (31.4 MB)\n",
            "\u001b[2K   \u001b[90m━━━━━━━━━━━━━━━━━━━━━━━━━━━━━━━━━━━━━━━━\u001b[0m \u001b[32m31.4/31.4 MB\u001b[0m \u001b[31m19.8 MB/s\u001b[0m eta \u001b[36m0:00:00\u001b[0m\n",
            "\u001b[?25hInstalling collected packages: faiss-cpu\n",
            "Successfully installed faiss-cpu-1.12.0\n"
          ]
        }
      ]
    },
    {
      "cell_type": "code",
      "execution_count": null,
      "id": "fbb7834c-25ce-458d-a519-057c56799ae1",
      "metadata": {
        "id": "fbb7834c-25ce-458d-a519-057c56799ae1"
      },
      "outputs": [],
      "source": [
        "from transformers import AutoTokenizer, AutoModel\n",
        "import torch\n",
        "import pandas as pd\n",
        "import faiss"
      ]
    },
    {
      "cell_type": "code",
      "execution_count": null,
      "id": "746f7285-48a9-46ff-8a2f-1172f40cd01a",
      "metadata": {
        "colab": {
          "base_uri": "https://localhost:8080/",
          "height": 608
        },
        "id": "746f7285-48a9-46ff-8a2f-1172f40cd01a",
        "outputId": "c693daae-9eb6-4198-8b63-4a3f545bcc49"
      },
      "outputs": [
        {
          "output_type": "execute_result",
          "data": {
            "text/plain": [
              "                                     Ссылка  \\\n",
              "0   https://disk.yandex.ru/i/w73mubOIzoMuNQ   \n",
              "1   https://disk.yandex.ru/i/scYY76KwMxt0_w   \n",
              "2  https://disk.yandex.ru/i/5goB4WpoFxNk-g    \n",
              "3  https://disk.yandex.ru/i/OEMSeCixr0icdA    \n",
              "4  https://disk.yandex.ru/i/sCQ4g4CVYrqiFQ    \n",
              "\n",
              "                                              Статья  \\\n",
              "0  Piloting Industry 4.0 in SMEs with RAMI 4.0: a...   \n",
              "1  Research on management informatization constru...   \n",
              "2  The Role of Enterprise Architecture in the Dig...   \n",
              "3  Sustainability of Implementing Enterprise Arch...   \n",
              "4  Electric Utility Enterprise Architecture to Su...   \n",
              "\n",
              "                                Аннотация на русском  \\\n",
              "0  Эта работа представляет собой исследование вне...   \n",
              "1  Статья посвящена исследованию информатизации у...   \n",
              "2  Статья посвящена роли корпоративной архитектур...   \n",
              "3  Данная статья посвящена вопросам внедрения кор...   \n",
              "4  Представлена архитектура предприятия для элект...   \n",
              "\n",
              "                                              Журнал  \\\n",
              "0  BAPTISTA L.F., BARATA J. Piloting Industry 4.0...   \n",
              "1  ZHAO X. Research on management informatization...   \n",
              "2  MATHAROO S. The role of enterprise architectur...   \n",
              "3  HINDARTO D., INDRAJIT R. EKO, DAZK E. Sustaina...   \n",
              "4  PARRA I., RODRÍGUEZ A., ARROYO-FIGUEROA G. Ele...   \n",
              "\n",
              "       10 ключевых слов с определениением на русском  \n",
              "0  Enterprise architecture: корпоративная архитек...  \n",
              "1  Big data: Большие данные - Объёмы разнообразно...  \n",
              "2  Enterprise Architecture: Корпоративная архитек...  \n",
              "3  Enterprise Architecture: Корпоративная архитек...  \n",
              "4  Smart Grid: Умная энергосеть - Энергосистема, ...  "
            ],
            "text/html": [
              "\n",
              "  <div id=\"df-52345171-06fa-44e4-ae2f-5b7782c1042d\" class=\"colab-df-container\">\n",
              "    <div>\n",
              "<style scoped>\n",
              "    .dataframe tbody tr th:only-of-type {\n",
              "        vertical-align: middle;\n",
              "    }\n",
              "\n",
              "    .dataframe tbody tr th {\n",
              "        vertical-align: top;\n",
              "    }\n",
              "\n",
              "    .dataframe thead th {\n",
              "        text-align: right;\n",
              "    }\n",
              "</style>\n",
              "<table border=\"1\" class=\"dataframe\">\n",
              "  <thead>\n",
              "    <tr style=\"text-align: right;\">\n",
              "      <th></th>\n",
              "      <th>Ссылка</th>\n",
              "      <th>Статья</th>\n",
              "      <th>Аннотация на русском</th>\n",
              "      <th>Журнал</th>\n",
              "      <th>10 ключевых слов с определениением на русском</th>\n",
              "    </tr>\n",
              "  </thead>\n",
              "  <tbody>\n",
              "    <tr>\n",
              "      <th>0</th>\n",
              "      <td>https://disk.yandex.ru/i/w73mubOIzoMuNQ</td>\n",
              "      <td>Piloting Industry 4.0 in SMEs with RAMI 4.0: a...</td>\n",
              "      <td>Эта работа представляет собой исследование вне...</td>\n",
              "      <td>BAPTISTA L.F., BARATA J. Piloting Industry 4.0...</td>\n",
              "      <td>Enterprise architecture: корпоративная архитек...</td>\n",
              "    </tr>\n",
              "    <tr>\n",
              "      <th>1</th>\n",
              "      <td>https://disk.yandex.ru/i/scYY76KwMxt0_w</td>\n",
              "      <td>Research on management informatization constru...</td>\n",
              "      <td>Статья посвящена исследованию информатизации у...</td>\n",
              "      <td>ZHAO X. Research on management informatization...</td>\n",
              "      <td>Big data: Большие данные - Объёмы разнообразно...</td>\n",
              "    </tr>\n",
              "    <tr>\n",
              "      <th>2</th>\n",
              "      <td>https://disk.yandex.ru/i/5goB4WpoFxNk-g</td>\n",
              "      <td>The Role of Enterprise Architecture in the Dig...</td>\n",
              "      <td>Статья посвящена роли корпоративной архитектур...</td>\n",
              "      <td>MATHAROO S. The role of enterprise architectur...</td>\n",
              "      <td>Enterprise Architecture: Корпоративная архитек...</td>\n",
              "    </tr>\n",
              "    <tr>\n",
              "      <th>3</th>\n",
              "      <td>https://disk.yandex.ru/i/OEMSeCixr0icdA</td>\n",
              "      <td>Sustainability of Implementing Enterprise Arch...</td>\n",
              "      <td>Данная статья посвящена вопросам внедрения кор...</td>\n",
              "      <td>HINDARTO D., INDRAJIT R. EKO, DAZK E. Sustaina...</td>\n",
              "      <td>Enterprise Architecture: Корпоративная архитек...</td>\n",
              "    </tr>\n",
              "    <tr>\n",
              "      <th>4</th>\n",
              "      <td>https://disk.yandex.ru/i/sCQ4g4CVYrqiFQ</td>\n",
              "      <td>Electric Utility Enterprise Architecture to Su...</td>\n",
              "      <td>Представлена архитектура предприятия для элект...</td>\n",
              "      <td>PARRA I., RODRÍGUEZ A., ARROYO-FIGUEROA G. Ele...</td>\n",
              "      <td>Smart Grid: Умная энергосеть - Энергосистема, ...</td>\n",
              "    </tr>\n",
              "  </tbody>\n",
              "</table>\n",
              "</div>\n",
              "    <div class=\"colab-df-buttons\">\n",
              "\n",
              "  <div class=\"colab-df-container\">\n",
              "    <button class=\"colab-df-convert\" onclick=\"convertToInteractive('df-52345171-06fa-44e4-ae2f-5b7782c1042d')\"\n",
              "            title=\"Convert this dataframe to an interactive table.\"\n",
              "            style=\"display:none;\">\n",
              "\n",
              "  <svg xmlns=\"http://www.w3.org/2000/svg\" height=\"24px\" viewBox=\"0 -960 960 960\">\n",
              "    <path d=\"M120-120v-720h720v720H120Zm60-500h600v-160H180v160Zm220 220h160v-160H400v160Zm0 220h160v-160H400v160ZM180-400h160v-160H180v160Zm440 0h160v-160H620v160ZM180-180h160v-160H180v160Zm440 0h160v-160H620v160Z\"/>\n",
              "  </svg>\n",
              "    </button>\n",
              "\n",
              "  <style>\n",
              "    .colab-df-container {\n",
              "      display:flex;\n",
              "      gap: 12px;\n",
              "    }\n",
              "\n",
              "    .colab-df-convert {\n",
              "      background-color: #E8F0FE;\n",
              "      border: none;\n",
              "      border-radius: 50%;\n",
              "      cursor: pointer;\n",
              "      display: none;\n",
              "      fill: #1967D2;\n",
              "      height: 32px;\n",
              "      padding: 0 0 0 0;\n",
              "      width: 32px;\n",
              "    }\n",
              "\n",
              "    .colab-df-convert:hover {\n",
              "      background-color: #E2EBFA;\n",
              "      box-shadow: 0px 1px 2px rgba(60, 64, 67, 0.3), 0px 1px 3px 1px rgba(60, 64, 67, 0.15);\n",
              "      fill: #174EA6;\n",
              "    }\n",
              "\n",
              "    .colab-df-buttons div {\n",
              "      margin-bottom: 4px;\n",
              "    }\n",
              "\n",
              "    [theme=dark] .colab-df-convert {\n",
              "      background-color: #3B4455;\n",
              "      fill: #D2E3FC;\n",
              "    }\n",
              "\n",
              "    [theme=dark] .colab-df-convert:hover {\n",
              "      background-color: #434B5C;\n",
              "      box-shadow: 0px 1px 3px 1px rgba(0, 0, 0, 0.15);\n",
              "      filter: drop-shadow(0px 1px 2px rgba(0, 0, 0, 0.3));\n",
              "      fill: #FFFFFF;\n",
              "    }\n",
              "  </style>\n",
              "\n",
              "    <script>\n",
              "      const buttonEl =\n",
              "        document.querySelector('#df-52345171-06fa-44e4-ae2f-5b7782c1042d button.colab-df-convert');\n",
              "      buttonEl.style.display =\n",
              "        google.colab.kernel.accessAllowed ? 'block' : 'none';\n",
              "\n",
              "      async function convertToInteractive(key) {\n",
              "        const element = document.querySelector('#df-52345171-06fa-44e4-ae2f-5b7782c1042d');\n",
              "        const dataTable =\n",
              "          await google.colab.kernel.invokeFunction('convertToInteractive',\n",
              "                                                    [key], {});\n",
              "        if (!dataTable) return;\n",
              "\n",
              "        const docLinkHtml = 'Like what you see? Visit the ' +\n",
              "          '<a target=\"_blank\" href=https://colab.research.google.com/notebooks/data_table.ipynb>data table notebook</a>'\n",
              "          + ' to learn more about interactive tables.';\n",
              "        element.innerHTML = '';\n",
              "        dataTable['output_type'] = 'display_data';\n",
              "        await google.colab.output.renderOutput(dataTable, element);\n",
              "        const docLink = document.createElement('div');\n",
              "        docLink.innerHTML = docLinkHtml;\n",
              "        element.appendChild(docLink);\n",
              "      }\n",
              "    </script>\n",
              "  </div>\n",
              "\n",
              "\n",
              "    <div id=\"df-20b06d99-3a3e-49d7-8721-ee70675c772c\">\n",
              "      <button class=\"colab-df-quickchart\" onclick=\"quickchart('df-20b06d99-3a3e-49d7-8721-ee70675c772c')\"\n",
              "                title=\"Suggest charts\"\n",
              "                style=\"display:none;\">\n",
              "\n",
              "<svg xmlns=\"http://www.w3.org/2000/svg\" height=\"24px\"viewBox=\"0 0 24 24\"\n",
              "     width=\"24px\">\n",
              "    <g>\n",
              "        <path d=\"M19 3H5c-1.1 0-2 .9-2 2v14c0 1.1.9 2 2 2h14c1.1 0 2-.9 2-2V5c0-1.1-.9-2-2-2zM9 17H7v-7h2v7zm4 0h-2V7h2v10zm4 0h-2v-4h2v4z\"/>\n",
              "    </g>\n",
              "</svg>\n",
              "      </button>\n",
              "\n",
              "<style>\n",
              "  .colab-df-quickchart {\n",
              "      --bg-color: #E8F0FE;\n",
              "      --fill-color: #1967D2;\n",
              "      --hover-bg-color: #E2EBFA;\n",
              "      --hover-fill-color: #174EA6;\n",
              "      --disabled-fill-color: #AAA;\n",
              "      --disabled-bg-color: #DDD;\n",
              "  }\n",
              "\n",
              "  [theme=dark] .colab-df-quickchart {\n",
              "      --bg-color: #3B4455;\n",
              "      --fill-color: #D2E3FC;\n",
              "      --hover-bg-color: #434B5C;\n",
              "      --hover-fill-color: #FFFFFF;\n",
              "      --disabled-bg-color: #3B4455;\n",
              "      --disabled-fill-color: #666;\n",
              "  }\n",
              "\n",
              "  .colab-df-quickchart {\n",
              "    background-color: var(--bg-color);\n",
              "    border: none;\n",
              "    border-radius: 50%;\n",
              "    cursor: pointer;\n",
              "    display: none;\n",
              "    fill: var(--fill-color);\n",
              "    height: 32px;\n",
              "    padding: 0;\n",
              "    width: 32px;\n",
              "  }\n",
              "\n",
              "  .colab-df-quickchart:hover {\n",
              "    background-color: var(--hover-bg-color);\n",
              "    box-shadow: 0 1px 2px rgba(60, 64, 67, 0.3), 0 1px 3px 1px rgba(60, 64, 67, 0.15);\n",
              "    fill: var(--button-hover-fill-color);\n",
              "  }\n",
              "\n",
              "  .colab-df-quickchart-complete:disabled,\n",
              "  .colab-df-quickchart-complete:disabled:hover {\n",
              "    background-color: var(--disabled-bg-color);\n",
              "    fill: var(--disabled-fill-color);\n",
              "    box-shadow: none;\n",
              "  }\n",
              "\n",
              "  .colab-df-spinner {\n",
              "    border: 2px solid var(--fill-color);\n",
              "    border-color: transparent;\n",
              "    border-bottom-color: var(--fill-color);\n",
              "    animation:\n",
              "      spin 1s steps(1) infinite;\n",
              "  }\n",
              "\n",
              "  @keyframes spin {\n",
              "    0% {\n",
              "      border-color: transparent;\n",
              "      border-bottom-color: var(--fill-color);\n",
              "      border-left-color: var(--fill-color);\n",
              "    }\n",
              "    20% {\n",
              "      border-color: transparent;\n",
              "      border-left-color: var(--fill-color);\n",
              "      border-top-color: var(--fill-color);\n",
              "    }\n",
              "    30% {\n",
              "      border-color: transparent;\n",
              "      border-left-color: var(--fill-color);\n",
              "      border-top-color: var(--fill-color);\n",
              "      border-right-color: var(--fill-color);\n",
              "    }\n",
              "    40% {\n",
              "      border-color: transparent;\n",
              "      border-right-color: var(--fill-color);\n",
              "      border-top-color: var(--fill-color);\n",
              "    }\n",
              "    60% {\n",
              "      border-color: transparent;\n",
              "      border-right-color: var(--fill-color);\n",
              "    }\n",
              "    80% {\n",
              "      border-color: transparent;\n",
              "      border-right-color: var(--fill-color);\n",
              "      border-bottom-color: var(--fill-color);\n",
              "    }\n",
              "    90% {\n",
              "      border-color: transparent;\n",
              "      border-bottom-color: var(--fill-color);\n",
              "    }\n",
              "  }\n",
              "</style>\n",
              "\n",
              "      <script>\n",
              "        async function quickchart(key) {\n",
              "          const quickchartButtonEl =\n",
              "            document.querySelector('#' + key + ' button');\n",
              "          quickchartButtonEl.disabled = true;  // To prevent multiple clicks.\n",
              "          quickchartButtonEl.classList.add('colab-df-spinner');\n",
              "          try {\n",
              "            const charts = await google.colab.kernel.invokeFunction(\n",
              "                'suggestCharts', [key], {});\n",
              "          } catch (error) {\n",
              "            console.error('Error during call to suggestCharts:', error);\n",
              "          }\n",
              "          quickchartButtonEl.classList.remove('colab-df-spinner');\n",
              "          quickchartButtonEl.classList.add('colab-df-quickchart-complete');\n",
              "        }\n",
              "        (() => {\n",
              "          let quickchartButtonEl =\n",
              "            document.querySelector('#df-20b06d99-3a3e-49d7-8721-ee70675c772c button');\n",
              "          quickchartButtonEl.style.display =\n",
              "            google.colab.kernel.accessAllowed ? 'block' : 'none';\n",
              "        })();\n",
              "      </script>\n",
              "    </div>\n",
              "    </div>\n",
              "  </div>\n"
            ],
            "application/vnd.google.colaboratory.intrinsic+json": {
              "type": "dataframe",
              "variable_name": "df",
              "summary": "{\n  \"name\": \"df\",\n  \"rows\": 178,\n  \"fields\": [\n    {\n      \"column\": \"\\u0421\\u0441\\u044b\\u043b\\u043a\\u0430\",\n      \"properties\": {\n        \"dtype\": \"string\",\n        \"num_unique_values\": 178,\n        \"samples\": [\n          \"https://disk.yandex.ru/i/xdGWtvfsYqIAnQ\",\n          \"https://disk.yandex.ru/i/_qdmv36wmhpo_g\",\n          \"https://disk.yandex.ru/i/wGSWsQVpq7ojRQ\"\n        ],\n        \"semantic_type\": \"\",\n        \"description\": \"\"\n      }\n    },\n    {\n      \"column\": \"\\u0421\\u0442\\u0430\\u0442\\u044c\\u044f\",\n      \"properties\": {\n        \"dtype\": \"string\",\n        \"num_unique_values\": 178,\n        \"samples\": [\n          \"\\u0426\\u0438\\u0444\\u0440\\u043e\\u0432\\u044b\\u0435 \\u0434\\u0432\\u043e\\u0439\\u043d\\u0438\\u043a\\u0438 \\u0432 \\u044d\\u043d\\u0435\\u0440\\u0433\\u0435\\u0442\\u0438\\u043a\\u0435\",\n          \"Enterprise Architecture: Enabler of Organizational Agility and Digital Transformation\",\n          \"Business Strategy Modelling based on Enterprise Architecture: A State of the Art Review\"\n        ],\n        \"semantic_type\": \"\",\n        \"description\": \"\"\n      }\n    },\n    {\n      \"column\": \"\\u0410\\u043d\\u043d\\u043e\\u0442\\u0430\\u0446\\u0438\\u044f \\u043d\\u0430 \\u0440\\u0443\\u0441\\u0441\\u043a\\u043e\\u043c\",\n      \"properties\": {\n        \"dtype\": \"string\",\n        \"num_unique_values\": 177,\n        \"samples\": [\n          \"\\u0412 \\u0441\\u0442\\u0430\\u0442\\u044c\\u0435 \\u0440\\u0430\\u0441\\u0441\\u043c\\u0430\\u0442\\u0440\\u0438\\u0432\\u0430\\u0435\\u0442\\u0441\\u044f \\u043a\\u043e\\u043d\\u0446\\u0435\\u043f\\u0446\\u0438\\u044f \\u0446\\u0438\\u0444\\u0440\\u043e\\u0432\\u044b\\u0445 \\u0434\\u0432\\u043e\\u0439\\u043d\\u0438\\u043a\\u043e\\u0432 \\u0432 \\u044d\\u043d\\u0435\\u0440\\u0433\\u0435\\u0442\\u0438\\u043a\\u0435, \\u0438\\u0445 \\u0432\\u0438\\u0434\\u044b \\u0438 \\u0441\\u043f\\u043e\\u0441\\u043e\\u0431\\u044b \\u043f\\u0440\\u0438\\u043c\\u0435\\u043d\\u0435\\u043d\\u0438\\u044f. \\u041e\\u0441\\u043e\\u0431\\u043e\\u0435 \\u0432\\u043d\\u0438\\u043c\\u0430\\u043d\\u0438\\u0435 \\u0443\\u0434\\u0435\\u043b\\u0435\\u043d\\u043e \\u043e\\u0441\\u043e\\u0431\\u0435\\u043d\\u043d\\u043e\\u0441\\u0442\\u044f\\u043c \\u0438 \\u043f\\u0440\\u0435\\u0438\\u043c\\u0443\\u0449\\u0435\\u0441\\u0442\\u0432\\u0430\\u043c \\u0438\\u0441\\u043f\\u043e\\u043b\\u044c\\u0437\\u043e\\u0432\\u0430\\u043d\\u0438\\u044f \\u0446\\u0438\\u0444\\u0440\\u043e\\u0432\\u044b\\u0445 \\u043c\\u043e\\u0434\\u0435\\u043b\\u0435\\u0439 \\u0432 \\u0440\\u0430\\u0437\\u043b\\u0438\\u0447\\u043d\\u044b\\u0445 \\u0441\\u0435\\u043a\\u0442\\u043e\\u0440\\u0430\\u0445 \\u044d\\u043d\\u0435\\u0440\\u0433\\u0435\\u0442\\u0438\\u043a\\u0438, \\u0432\\u043a\\u043b\\u044e\\u0447\\u0430\\u044f \\u0442\\u0435\\u043f\\u043b\\u043e\\u0432\\u044b\\u0435 \\u0441\\u0435\\u0442\\u0438, \\u044d\\u043b\\u0435\\u043a\\u0442\\u0440\\u0438\\u0447\\u0435\\u0441\\u043a\\u0438\\u0435 \\u0441\\u0442\\u0430\\u043d\\u0446\\u0438\\u0438 \\u0438 \\u043b\\u0438\\u043d\\u0438\\u0438 \\u044d\\u043b\\u0435\\u043a\\u0442\\u0440\\u043e\\u043f\\u0435\\u0440\\u0435\\u0434\\u0430\\u0447. \\u041f\\u0440\\u0438\\u0432\\u0435\\u0434\\u0435\\u043d \\u0430\\u043d\\u0430\\u043b\\u0438\\u0437 \\u043f\\u043e\\u043b\\u043e\\u0436\\u0438\\u0442\\u0435\\u043b\\u044c\\u043d\\u044b\\u0445 \\u044d\\u0444\\u0444\\u0435\\u043a\\u0442\\u043e\\u0432, \\u0442\\u0430\\u043a\\u0438\\u0445 \\u043a\\u0430\\u043a \\u043f\\u043e\\u0432\\u044b\\u0448\\u0435\\u043d\\u0438\\u0435 \\u043f\\u0440\\u043e\\u0438\\u0437\\u0432\\u043e\\u0434\\u0438\\u0442\\u0435\\u043b\\u044c\\u043d\\u043e\\u0441\\u0442\\u0438, \\u0441\\u043d\\u0438\\u0436\\u0435\\u043d\\u0438\\u0435 \\u044d\\u043a\\u0441\\u043f\\u043b\\u0443\\u0430\\u0442\\u0430\\u0446\\u0438\\u043e\\u043d\\u043d\\u044b\\u0445 \\u0440\\u0438\\u0441\\u043a\\u043e\\u0432 \\u0438 \\u0443\\u043b\\u0443\\u0447\\u0448\\u0435\\u043d\\u0438\\u0435 \\u044d\\u043d\\u0435\\u0440\\u0433\\u043e\\u044d\\u0444\\u0444\\u0435\\u043a\\u0442\\u0438\\u0432\\u043d\\u043e\\u0441\\u0442\\u0438. \\u041d\\u0435\\u0441\\u043c\\u043e\\u0442\\u0440\\u044f \\u043d\\u0430 \\u043e\\u0447\\u0435\\u0432\\u0438\\u0434\\u043d\\u044b\\u0435 \\u0432\\u044b\\u0433\\u043e\\u0434\\u044b, \\u043e\\u0442\\u043c\\u0435\\u0447\\u0435\\u043d\\u044b \\u043e\\u0433\\u0440\\u0430\\u043d\\u0438\\u0447\\u0435\\u043d\\u0438\\u044f \\u0438 \\u0442\\u0440\\u0443\\u0434\\u043d\\u043e\\u0441\\u0442\\u0438, \\u0432\\u043e\\u0437\\u043d\\u0438\\u043a\\u0430\\u044e\\u0449\\u0438\\u0435 \\u043f\\u0440\\u0438 \\u0432\\u043d\\u0435\\u0434\\u0440\\u0435\\u043d\\u0438\\u0438 \\u0446\\u0438\\u0444\\u0440\\u043e\\u0432\\u044b\\u0445 \\u0434\\u0432\\u043e\\u0439\\u043d\\u0438\\u043a\\u043e\\u0432, \\u0432\\u043a\\u043b\\u044e\\u0447\\u0430\\u044f \\u0432\\u044b\\u0441\\u043e\\u043a\\u0438\\u0435 \\u0432\\u0440\\u0435\\u043c\\u0435\\u043d\\u043d\\u044b\\u0435 \\u0438 \\u0444\\u0438\\u043d\\u0430\\u043d\\u0441\\u043e\\u0432\\u044b\\u0435 \\u0437\\u0430\\u0442\\u0440\\u0430\\u0442\\u044b, \\u043d\\u0435\\u043e\\u0431\\u0445\\u043e\\u0434\\u0438\\u043c\\u043e\\u0441\\u0442\\u044c \\u043a\\u0432\\u0430\\u043b\\u0438\\u0444\\u0438\\u0446\\u0438\\u0440\\u043e\\u0432\\u0430\\u043d\\u043d\\u044b\\u0445 \\u0441\\u043f\\u0435\\u0446\\u0438\\u0430\\u043b\\u0438\\u0441\\u0442\\u043e\\u0432 \\u0438 \\u0440\\u0438\\u0441\\u043a\\u0438 \\u043a\\u0438\\u0431\\u0435\\u0440\\u0430\\u0442\\u0430\\u043a.\",\n          \"\\u041f\\u0440\\u0435\\u0434\\u043f\\u0440\\u0438\\u044f\\u0442\\u0438\\u0435 \\u0441\\u0442\\u0430\\u043b\\u043a\\u0438\\u0432\\u0430\\u0435\\u0442\\u0441\\u044f \\u0441 \\u0440\\u0430\\u0441\\u0442\\u0443\\u0449\\u0438\\u043c\\u0438 \\u0442\\u0435\\u0445\\u043d\\u043e\\u043b\\u043e\\u0433\\u0438\\u0447\\u0435\\u0441\\u043a\\u0438\\u043c\\u0438 \\u0438\\u0437\\u043c\\u0435\\u043d\\u0435\\u043d\\u0438\\u044f\\u043c\\u0438, \\u044d\\u043a\\u043e\\u043d\\u043e\\u043c\\u0438\\u0447\\u0435\\u0441\\u043a\\u0438\\u043c\\u0438 \\u0446\\u0438\\u043a\\u043b\\u0430\\u043c\\u0438 \\u0438 \\u043a\\u043b\\u0438\\u0435\\u043d\\u0442\\u0441\\u043a\\u0438\\u043c\\u0438 \\u043e\\u0436\\u0438\\u0434\\u0430\\u043d\\u0438\\u044f\\u043c\\u0438, \\u0437\\u0430\\u0441\\u0442\\u0430\\u0432\\u043b\\u044f\\u044e\\u0449\\u0438\\u043c\\u0438 \\u043e\\u0440\\u0433\\u0430\\u043d\\u0438\\u0437\\u0430\\u0446\\u0438\\u044e \\u0440\\u0430\\u0434\\u0438\\u043a\\u0430\\u043b\\u044c\\u043d\\u043e \\u0442\\u0440\\u0430\\u043d\\u0441\\u0444\\u043e\\u0440\\u043c\\u0438\\u0440\\u043e\\u0432\\u0430\\u0442\\u044c\\u0441\\u044f \\u0438 \\u043f\\u043e\\u0434\\u0434\\u0435\\u0440\\u0436\\u0438\\u0432\\u0430\\u0442\\u044c \\u0438\\u043d\\u043d\\u043e\\u0432\\u0430\\u0446\\u0438\\u0438 \\u043f\\u043e\\u0441\\u043b\\u0435\\u0434\\u043e\\u0432\\u0430\\u0442\\u0435\\u043b\\u044c\\u043d\\u044b\\u043c \\u043e\\u0431\\u0440\\u0430\\u0437\\u043e\\u043c. \\u0421\\u0442\\u0430\\u0442\\u044c\\u044f \\u043f\\u0440\\u0435\\u0434\\u0441\\u0442\\u0430\\u0432\\u043b\\u044f\\u0435\\u0442 \\u0441\\u043e\\u0431\\u043e\\u0439 \\u044d\\u043c\\u043f\\u0438\\u0440\\u0438\\u0447\\u0435\\u0441\\u043a\\u043e\\u0435 \\u0438\\u0441\\u0441\\u043b\\u0435\\u0434\\u043e\\u0432\\u0430\\u043d\\u0438\\u0435 \\u0432\\u043b\\u0438\\u044f\\u043d\\u0438\\u044f \\u0437\\u0440\\u0435\\u043b\\u043e\\u0441\\u0442\\u0438 \\u043a\\u043e\\u0440\\u043f\\u043e\\u0440\\u0430\\u0442\\u0438\\u0432\\u043d\\u043e\\u0439 \\u0430\\u0440\\u0445\\u0438\\u0442\\u0435\\u043a\\u0442\\u0443\\u0440\\u044b (EA) \\u043d\\u0430 \\u0441\\u043f\\u043e\\u0441\\u043e\\u0431\\u043d\\u043e\\u0441\\u0442\\u044c \\u043e\\u0440\\u0433\\u0430\\u043d\\u0438\\u0437\\u0430\\u0446\\u0438\\u0438 \\u0431\\u044b\\u0441\\u0442\\u0440\\u043e \\u0440\\u0435\\u0430\\u0433\\u0438\\u0440\\u043e\\u0432\\u0430\\u0442\\u044c \\u043d\\u0430 \\u0438\\u0437\\u043c\\u0435\\u043d\\u0435\\u043d\\u0438\\u044f (\\u043e\\u0440\\u0433\\u0430\\u043d\\u0438\\u0437\\u0430\\u0446\\u0438\\u043e\\u043d\\u043d\\u0430\\u044f \\u0433\\u0438\\u0431\\u043a\\u043e\\u0441\\u0442\\u044c) \\u0438 \\u0443\\u0441\\u043f\\u0435\\u0448\\u043d\\u043e \\u0440\\u0435\\u0430\\u043b\\u0438\\u0437\\u043e\\u0432\\u044b\\u0432\\u0430\\u0442\\u044c \\u0446\\u0438\\u0444\\u0440\\u043e\\u0432\\u0443\\u044e \\u0442\\u0440\\u0430\\u043d\\u0441\\u0444\\u043e\\u0440\\u043c\\u0430\\u0446\\u0438\\u044e. \\u0418\\u0441\\u0441\\u043b\\u0435\\u0434\\u043e\\u0432\\u0430\\u043d\\u0438\\u0435 \\u0431\\u044b\\u043b\\u043e \\u043f\\u0440\\u043e\\u0432\\u0435\\u0434\\u0435\\u043d\\u043e \\u0441\\u0440\\u0435\\u0434\\u0438 212 \\u043a\\u0440\\u0443\\u043f\\u043d\\u044b\\u0445 \\u0438 \\u0441\\u0440\\u0435\\u0434\\u043d\\u0438\\u0445 \\u043a\\u043e\\u043c\\u043f\\u0430\\u043d\\u0438\\u0439 \\u0432 \\u0442\\u0440\\u0435\\u0445 \\u043e\\u0442\\u0440\\u0430\\u0441\\u043b\\u044f\\u0445: \\u0444\\u0438\\u043d\\u0430\\u043d\\u0441\\u043e\\u0432\\u0430\\u044f \\u0441\\u0444\\u0435\\u0440\\u0430, \\u0437\\u0434\\u0440\\u0430\\u0432\\u043e\\u043e\\u0445\\u0440\\u0430\\u043d\\u0435\\u043d\\u0438\\u0435 \\u0438 \\u043f\\u0440\\u043e\\u043c\\u044b\\u0448\\u043b\\u0435\\u043d\\u043d\\u043e\\u0441\\u0442\\u044c. \\u0410\\u043d\\u0430\\u043b\\u0438\\u0437 \\u0441\\u0442\\u0440\\u0443\\u043a\\u0442\\u0443\\u0440\\u043d\\u043e\\u0439 \\u043c\\u043e\\u0434\\u0435\\u043b\\u0438 \\u0443\\u0440\\u0430\\u0432\\u043d\\u0435\\u043d\\u0438\\u0439 (SEM) \\u043f\\u043e\\u043a\\u0430\\u0437\\u0430\\u043b \\u043f\\u043e\\u043b\\u043e\\u0436\\u0438\\u0442\\u0435\\u043b\\u044c\\u043d\\u0443\\u044e \\u0432\\u0437\\u0430\\u0438\\u043c\\u043e\\u0441\\u0432\\u044f\\u0437\\u044c \\u043c\\u0435\\u0436\\u0434\\u0443 \\u0437\\u0440\\u0435\\u043b\\u043e\\u0441\\u0442\\u044c\\u044e EA \\u0438 \\u043f\\u043e\\u0432\\u044b\\u0448\\u0435\\u043d\\u0438\\u0435\\u043c \\u043e\\u0440\\u0433\\u0430\\u043d\\u0438\\u0437\\u0430\\u0446\\u0438\\u043e\\u043d\\u043d\\u043e\\u0439 \\u0433\\u0438\\u0431\\u043a\\u043e\\u0441\\u0442\\u0438 (\\u043a\\u043e\\u044d\\u0444\\u0444\\u0438\\u0446\\u0438\\u0435\\u043d\\u0442 SEM: 0,72, \\u0440 < 0,001), \\u0437\\u043d\\u0430\\u0447\\u0438\\u0442\\u0435\\u043b\\u044c\\u043d\\u044b\\u043c\\u0438 \\u0443\\u043b\\u0443\\u0447\\u0448\\u0435\\u043d\\u0438\\u044f\\u043c\\u0438 \\u043f\\u043e\\u043a\\u0430\\u0437\\u0430\\u0442\\u0435\\u043b\\u0435\\u0439 \\u0446\\u0438\\u0444\\u0440\\u043e\\u0432\\u043e\\u0439 \\u0442\\u0440\\u0430\\u043d\\u0441\\u0444\\u043e\\u0440\\u043c\\u0430\\u0446\\u0438\\u0438, \\u0432\\u043a\\u043b\\u044e\\u0447\\u0430\\u044f \\u0432\\u044b\\u0440\\u0430\\u0432\\u043d\\u0438\\u0432\\u0430\\u043d\\u0438\\u0435 \\u0418\\u0422 \\u0438 \\u0431\\u0438\\u0437\\u043d\\u0435\\u0441\\u0430 (+67%), \\u0441\\u043a\\u043e\\u0440\\u043e\\u0441\\u0442\\u044c \\u043f\\u0440\\u0438\\u043d\\u044f\\u0442\\u0438\\u044f \\u0440\\u0435\\u0448\\u0435\\u043d\\u0438\\u0439 (+42%) \\u0438 \\u044d\\u0444\\u0444\\u0435\\u043a\\u0442\\u0438\\u0432\\u043d\\u043e\\u0441\\u0442\\u044c \\u043e\\u043f\\u0435\\u0440\\u0430\\u0446\\u0438\\u043e\\u043d\\u043d\\u043e\\u0439 \\u0434\\u0435\\u044f\\u0442\\u0435\\u043b\\u044c\\u043d\\u043e\\u0441\\u0442\\u0438 (+38%). \\u0422\\u0430\\u043a\\u0438\\u043c \\u043e\\u0431\\u0440\\u0430\\u0437\\u043e\\u043c, \\u0437\\u0440\\u0435\\u043b\\u043e\\u0441\\u0442\\u044c EA \\u0432\\u044b\\u0441\\u0442\\u0443\\u043f\\u0430\\u0435\\u0442 \\u043f\\u043e\\u0441\\u0440\\u0435\\u0434\\u043d\\u0438\\u043a\\u043e\\u043c \\u043c\\u0435\\u0436\\u0434\\u0443 \\u043e\\u0440\\u0433\\u0430\\u043d\\u0438\\u0437\\u0430\\u0446\\u0438\\u0435\\u0439 \\u0438 \\u0443\\u0441\\u043f\\u0435\\u0448\\u043d\\u043e\\u0439 \\u0440\\u0435\\u0430\\u043b\\u0438\\u0437\\u0430\\u0446\\u0438\\u0435\\u0439 \\u0446\\u0438\\u0444\\u0440\\u043e\\u0432\\u043e\\u0439 \\u0442\\u0440\\u0430\\u043d\\u0441\\u0444\\u043e\\u0440\\u043c\\u0430\\u0446\\u0438\\u0438. \\u041e\\u0441\\u043d\\u043e\\u0432\\u043d\\u043e\\u0435 \\u0437\\u043d\\u0430\\u0447\\u0435\\u043d\\u0438\\u0435 \\u0441\\u0442\\u0430\\u0442\\u044c\\u0438 \\u0437\\u0430\\u043a\\u043b\\u044e\\u0447\\u0430\\u0435\\u0442\\u0441\\u044f \\u0432 \\u043f\\u0435\\u0440\\u0435\\u043e\\u0441\\u043c\\u044b\\u0441\\u043b\\u0435\\u043d\\u0438\\u0438 \\u0442\\u0440\\u0430\\u0434\\u0438\\u0446\\u0438\\u043e\\u043d\\u043d\\u043e\\u0439 \\u043a\\u043e\\u043d\\u0446\\u0435\\u043f\\u0446\\u0438\\u0438 EA \\u043a\\u0430\\u043a \\u0441\\u0442\\u0430\\u0442\\u0438\\u0447\\u043d\\u043e\\u0433\\u043e \\u0438\\u043d\\u0441\\u0442\\u0440\\u0443\\u043c\\u0435\\u043d\\u0442\\u0430 \\u0443\\u043f\\u0440\\u0430\\u0432\\u043b\\u0435\\u043d\\u0438\\u044f \\u0418\\u0422 \\u0438 \\u043f\\u0440\\u0435\\u0432\\u0440\\u0430\\u0449\\u0435\\u043d\\u0438\\u0438 \\u0435\\u0451 \\u0432 \\u0441\\u0442\\u0440\\u0430\\u0442\\u0435\\u0433\\u0438\\u0447\\u0435\\u0441\\u043a\\u0438 \\u0432\\u0430\\u0436\\u043d\\u0443\\u044e \\u0441\\u0438\\u043b\\u0443, \\u043f\\u043e\\u0434\\u0434\\u0435\\u0440\\u0436\\u0438\\u0432\\u0430\\u044e\\u0449\\u0443\\u044e \\u0430\\u0434\\u0430\\u043f\\u0442\\u0430\\u0446\\u0438\\u044e \\u0438 \\u043f\\u0440\\u0435\\u043e\\u0431\\u0440\\u0430\\u0437\\u043e\\u0432\\u0430\\u043d\\u0438\\u0435 \\u0432 \\u0443\\u0441\\u043b\\u043e\\u0432\\u0438\\u044f\\u0445 \\u043d\\u0435\\u043e\\u043f\\u0440\\u0435\\u0434\\u0435\\u043b\\u0435\\u043d\\u043d\\u043e\\u0441\\u0442\\u0438 \\u0446\\u0438\\u0444\\u0440\\u043e\\u0432\\u043e\\u0433\\u043e \\u043c\\u0438\\u0440\\u0430.\",\n          \"\\u0421\\u0442\\u0430\\u0442\\u044c\\u044f \\u043f\\u043e\\u0441\\u0432\\u044f\\u0449\\u0435\\u043d\\u0430 \\u043e\\u0431\\u0437\\u043e\\u0440\\u0443 \\u0441\\u043e\\u0432\\u0440\\u0435\\u043c\\u0435\\u043d\\u043d\\u043e\\u0433\\u043e \\u0441\\u043e\\u0441\\u0442\\u043e\\u044f\\u043d\\u0438\\u044f \\u043c\\u043e\\u0434\\u0435\\u043b\\u0438\\u0440\\u043e\\u0432\\u0430\\u043d\\u0438\\u044f \\u0431\\u0438\\u0437\\u043d\\u0435\\u0441-\\u0441\\u0442\\u0440\\u0430\\u0442\\u0435\\u0433\\u0438\\u0439 \\u043d\\u0430 \\u043e\\u0441\\u043d\\u043e\\u0432\\u0435 \\u0430\\u0440\\u0445\\u0438\\u0442\\u0435\\u043a\\u0442\\u0443\\u0440\\u044b \\u043f\\u0440\\u0435\\u0434\\u043f\\u0440\\u0438\\u044f\\u0442\\u0438\\u044f (EA). \\u0410\\u0432\\u0442\\u043e\\u0440\\u044b \\u0430\\u043d\\u0430\\u043b\\u0438\\u0437\\u0438\\u0440\\u0443\\u044e\\u0442 \\u0441\\u0443\\u0449\\u0435\\u0441\\u0442\\u0432\\u0443\\u044e\\u0449\\u0438\\u0435 \\u043f\\u043e\\u0434\\u0445\\u043e\\u0434\\u044b \\u043a \\u043c\\u043e\\u0434\\u0435\\u043b\\u0438\\u0440\\u043e\\u0432\\u0430\\u043d\\u0438\\u044e \\u0431\\u0438\\u0437\\u043d\\u0435\\u0441-\\u0441\\u0442\\u0440\\u0430\\u0442\\u0435\\u0433\\u0438\\u0439 \\u0441 \\u0438\\u0441\\u043f\\u043e\\u043b\\u044c\\u0437\\u043e\\u0432\\u0430\\u043d\\u0438\\u0435\\u043c EA, \\u0432\\u044b\\u044f\\u0432\\u043b\\u044f\\u044e\\u0442 \\u043f\\u0440\\u043e\\u0431\\u043b\\u0435\\u043c\\u044b \\u0438 \\u043f\\u0440\\u0435\\u0434\\u043b\\u0430\\u0433\\u0430\\u044e\\u0442 \\u043d\\u0430\\u043f\\u0440\\u0430\\u0432\\u043b\\u0435\\u043d\\u0438\\u044f \\u0434\\u043b\\u044f \\u0434\\u0430\\u043b\\u044c\\u043d\\u0435\\u0439\\u0448\\u0438\\u0445 \\u0438\\u0441\\u0441\\u043b\\u0435\\u0434\\u043e\\u0432\\u0430\\u043d\\u0438\\u0439. \\u041e\\u0441\\u043d\\u043e\\u0432\\u043d\\u043e\\u0435 \\u0432\\u043d\\u0438\\u043c\\u0430\\u043d\\u0438\\u0435 \\u0443\\u0434\\u0435\\u043b\\u044f\\u0435\\u0442\\u0441\\u044f \\u0438\\u043d\\u0442\\u0435\\u0433\\u0440\\u0430\\u0446\\u0438\\u0438 \\u0431\\u0438\\u0437\\u043d\\u0435\\u0441-\\u0441\\u0442\\u0440\\u0430\\u0442\\u0435\\u0433\\u0438\\u0439 \\u0438 \\u043f\\u0440\\u043e\\u0446\\u0435\\u0441\\u0441\\u043e\\u0432, \\u0430 \\u0442\\u0430\\u043a\\u0436\\u0435 \\u0438\\u0441\\u043f\\u043e\\u043b\\u044c\\u0437\\u043e\\u0432\\u0430\\u043d\\u0438\\u044e \\u0440\\u0430\\u0437\\u043b\\u0438\\u0447\\u043d\\u044b\\u0445 \\u043c\\u0435\\u0442\\u043e\\u0434\\u043e\\u043b\\u043e\\u0433\\u0438\\u0439 \\u0438 \\u044f\\u0437\\u044b\\u043a\\u043e\\u0432 \\u043c\\u043e\\u0434\\u0435\\u043b\\u0438\\u0440\\u043e\\u0432\\u0430\\u043d\\u0438\\u044f.\"\n        ],\n        \"semantic_type\": \"\",\n        \"description\": \"\"\n      }\n    },\n    {\n      \"column\": \"\\u0416\\u0443\\u0440\\u043d\\u0430\\u043b\",\n      \"properties\": {\n        \"dtype\": \"string\",\n        \"num_unique_values\": 141,\n        \"samples\": [\n          \"\\u0411\\u0438\\u0437\\u043d\\u0435\\u0441-\\u0438\\u043d\\u0444\\u043e\\u0440\\u043c\\u0430\\u0442\\u0438\\u043a\\u0430\",\n          \"OTM 2009 Workshops\",\n          \"IEEE Access\"\n        ],\n        \"semantic_type\": \"\",\n        \"description\": \"\"\n      }\n    },\n    {\n      \"column\": \"10 \\u043a\\u043b\\u044e\\u0447\\u0435\\u0432\\u044b\\u0445 \\u0441\\u043b\\u043e\\u0432 \\u0441 \\u043e\\u043f\\u0440\\u0435\\u0434\\u0435\\u043b\\u0435\\u043d\\u0438\\u0435\\u043d\\u0438\\u0435\\u043c \\u043d\\u0430 \\u0440\\u0443\\u0441\\u0441\\u043a\\u043e\\u043c\",\n      \"properties\": {\n        \"dtype\": \"string\",\n        \"num_unique_values\": 177,\n        \"samples\": [\n          \"\\u0426\\u0438\\u0444\\u0440\\u043e\\u0432\\u043e\\u0439 \\u0434\\u0432\\u043e\\u0439\\u043d\\u0438\\u043a (Digital twin)\\u041e\\u043f\\u0440\\u0435\\u0434\\u0435\\u043b\\u0435\\u043d\\u0438\\u0435: \\u0432\\u0438\\u0440\\u0442\\u0443\\u0430\\u043b\\u044c\\u043d\\u0430\\u044f \\u043c\\u043e\\u0434\\u0435\\u043b\\u044c \\u0444\\u0438\\u0437\\u0438\\u0447\\u0435\\u0441\\u043a\\u043e\\u0433\\u043e \\u043e\\u0431\\u044a\\u0435\\u043a\\u0442\\u0430 \\u0438\\u043b\\u0438 \\u043f\\u0440\\u043e\\u0446\\u0435\\u0441\\u0441\\u0430, \\u043e\\u0442\\u0440\\u0430\\u0436\\u0430\\u044e\\u0449\\u0430\\u044f \\u0435\\u0433\\u043e \\u0442\\u0435\\u043a\\u0443\\u0449\\u0435\\u0435 \\u0441\\u043e\\u0441\\u0442\\u043e\\u044f\\u043d\\u0438\\u0435 \\u0438 \\u043f\\u0440\\u043e\\u0433\\u043d\\u043e\\u0437\\u044b \\u043f\\u043e\\u0432\\u0435\\u0434\\u0435\\u043d\\u0438\\u044f.\\n\\u042d\\u043d\\u0435\\u0440\\u0433\\u0435\\u0442\\u0438\\u043a\\u0430 (Energy)\\u041e\\u043f\\u0440\\u0435\\u0434\\u0435\\u043b\\u0435\\u043d\\u0438\\u0435: \\u043e\\u0442\\u0440\\u0430\\u0441\\u043b\\u044c \\u044d\\u043a\\u043e\\u043d\\u043e\\u043c\\u0438\\u043a\\u0438, \\u0441\\u0432\\u044f\\u0437\\u0430\\u043d\\u043d\\u0430\\u044f \\u0441 \\u043f\\u0440\\u043e\\u0438\\u0437\\u0432\\u043e\\u0434\\u0441\\u0442\\u0432\\u043e\\u043c, \\u043f\\u0435\\u0440\\u0435\\u0434\\u0430\\u0447\\u0435\\u0439 \\u0438 \\u0440\\u0430\\u0441\\u043f\\u0440\\u0435\\u0434\\u0435\\u043b\\u0435\\u043d\\u0438\\u0435\\u043c \\u044d\\u043d\\u0435\\u0440\\u0433\\u0438\\u0438.\\n\\u041f\\u0440\\u043e\\u0442\\u043e\\u0442\\u0438\\u043f (Prototype)\\u041e\\u043f\\u0440\\u0435\\u0434\\u0435\\u043b\\u0435\\u043d\\u0438\\u0435: \\u043f\\u0435\\u0440\\u0432\\u043e\\u043d\\u0430\\u0447\\u0430\\u043b\\u044c\\u043d\\u044b\\u0439 \\u043e\\u0431\\u0440\\u0430\\u0437\\u0435\\u0446 \\u0438\\u043b\\u0438 \\u0432\\u0435\\u0440\\u0441\\u0438\\u044f, \\u0438\\u0441\\u043f\\u043e\\u043b\\u044c\\u0437\\u0443\\u0435\\u043c\\u0430\\u044f \\u0434\\u043b\\u044f \\u0442\\u0435\\u0441\\u0442\\u0438\\u0440\\u043e\\u0432\\u0430\\u043d\\u0438\\u044f \\u0438 \\u043f\\u043e\\u0441\\u043b\\u0435\\u0434\\u0443\\u044e\\u0449\\u0435\\u0433\\u043e \\u0443\\u0441\\u043e\\u0432\\u0435\\u0440\\u0448\\u0435\\u043d\\u0441\\u0442\\u0432\\u043e\\u0432\\u0430\\u043d\\u0438\\u044f.\\n\\u0410\\u0440\\u0445\\u0438\\u0442\\u0435\\u043a\\u0442\\u0443\\u0440\\u0430 \\u0434\\u0432\\u043e\\u0439\\u043d\\u0438\\u043a\\u0430 (Architecture of digital twin)\\u041e\\u043f\\u0440\\u0435\\u0434\\u0435\\u043b\\u0435\\u043d\\u0438\\u0435: \\u0441\\u0442\\u0440\\u0443\\u043a\\u0442\\u0443\\u0440\\u0430 \\u0438 \\u0441\\u043f\\u043e\\u0441\\u043e\\u0431\\u044b \\u043e\\u0440\\u0433\\u0430\\u043d\\u0438\\u0437\\u0430\\u0446\\u0438\\u0438 \\u0446\\u0438\\u0444\\u0440\\u043e\\u0432\\u043e\\u0433\\u043e \\u0434\\u0432\\u043e\\u0439\\u043d\\u0438\\u043a\\u0430, \\u043e\\u043f\\u0440\\u0435\\u0434\\u0435\\u043b\\u044f\\u044e\\u0449\\u0438\\u0435 \\u0435\\u0433\\u043e \\u0444\\u0443\\u043d\\u043a\\u0446\\u0438\\u043e\\u043d\\u0430\\u043b\\u044c\\u043d\\u043e\\u0441\\u0442\\u044c \\u0438 \\u0432\\u0437\\u0430\\u0438\\u043c\\u043e\\u0434\\u0435\\u0439\\u0441\\u0442\\u0432\\u0438\\u0435 \\u0441 \\u0440\\u0435\\u0430\\u043b\\u044c\\u043d\\u044b\\u043c \\u043e\\u0431\\u044a\\u0435\\u043a\\u0442\\u043e\\u043c.\\n\\u0422\\u0435\\u043f\\u043b\\u043e\\u0441\\u043d\\u0430\\u0431\\u0436\\u0435\\u043d\\u0438\\u0435 (Heat supply)\\u041e\\u043f\\u0440\\u0435\\u0434\\u0435\\u043b\\u0435\\u043d\\u0438\\u0435: \\u043f\\u0440\\u043e\\u0446\\u0435\\u0441\\u0441 \\u043f\\u043e\\u0434\\u0430\\u0447\\u0438 \\u0442\\u0435\\u043f\\u043b\\u0430 \\u043f\\u043e\\u0442\\u0440\\u0435\\u0431\\u0438\\u0442\\u0435\\u043b\\u044f\\u043c \\u0447\\u0435\\u0440\\u0435\\u0437 \\u0446\\u0435\\u043d\\u0442\\u0440\\u0430\\u043b\\u0438\\u0437\\u043e\\u0432\\u0430\\u043d\\u043d\\u0443\\u044e \\u0441\\u0438\\u0441\\u0442\\u0435\\u043c\\u0443 \\u043e\\u0442\\u043e\\u043f\\u043b\\u0435\\u043d\\u0438\\u044f.\\n\\u041c\\u043e\\u043d\\u0438\\u0442\\u043e\\u0440\\u0438\\u043d\\u0433 (Monitoring)\\u041e\\u043f\\u0440\\u0435\\u0434\\u0435\\u043b\\u0435\\u043d\\u0438\\u0435: \\u043d\\u0430\\u0431\\u043b\\u044e\\u0434\\u0435\\u043d\\u0438\\u0435 \\u0438 \\u0444\\u0438\\u043a\\u0441\\u0430\\u0446\\u0438\\u044f \\u0442\\u0435\\u043a\\u0443\\u0449\\u0438\\u0445 \\u043f\\u0430\\u0440\\u0430\\u043c\\u0435\\u0442\\u0440\\u043e\\u0432 \\u0438 \\u0445\\u0430\\u0440\\u0430\\u043a\\u0442\\u0435\\u0440\\u0438\\u0441\\u0442\\u0438\\u043a \\u043e\\u0431\\u044a\\u0435\\u043a\\u0442\\u0430 \\u0438\\u043b\\u0438 \\u043f\\u0440\\u043e\\u0446\\u0435\\u0441\\u0441\\u0430 \\u0441 \\u0446\\u0435\\u043b\\u044c\\u044e \\u0441\\u0432\\u043e\\u0435\\u0432\\u0440\\u0435\\u043c\\u0435\\u043d\\u043d\\u043e\\u0433\\u043e \\u0432\\u044b\\u044f\\u0432\\u043b\\u0435\\u043d\\u0438\\u044f \\u043e\\u0442\\u043a\\u043b\\u043e\\u043d\\u0435\\u043d\\u0438\\u0439 \\u0438 \\u043f\\u0440\\u0438\\u043d\\u044f\\u0442\\u0438\\u044f \\u0440\\u0435\\u0448\\u0435\\u043d\\u0438\\u0439.\\n\\u0410\\u0432\\u0442\\u043e\\u043c\\u0430\\u0442\\u0438\\u0437\\u0430\\u0446\\u0438\\u044f (Automation)\\u041e\\u043f\\u0440\\u0435\\u0434\\u0435\\u043b\\u0435\\u043d\\u0438\\u0435: \\u043f\\u0440\\u043e\\u0446\\u0435\\u0441\\u0441 \\u043f\\u0435\\u0440\\u0435\\u0432\\u043e\\u0434\\u0430 \\u0432\\u044b\\u043f\\u043e\\u043b\\u043d\\u0435\\u043d\\u0438\\u044f \\u043f\\u0440\\u043e\\u0438\\u0437\\u0432\\u043e\\u0434\\u0441\\u0442\\u0432\\u0435\\u043d\\u043d\\u044b\\u0445 \\u0438 \\u0443\\u043f\\u0440\\u0430\\u0432\\u043b\\u0435\\u043d\\u0447\\u0435\\u0441\\u043a\\u0438\\u0445 \\u0437\\u0430\\u0434\\u0430\\u0447 \\u043d\\u0430 \\u0430\\u0432\\u0442\\u043e\\u043c\\u0430\\u0442\\u0438\\u0447\\u0435\\u0441\\u043a\\u0438\\u0435 \\u0441\\u0438\\u0441\\u0442\\u0435\\u043c\\u044b.\\n\\u0422\\u0435\\u0445\\u043d\\u043e\\u0433\\u0435\\u043d\\u043d\\u0430\\u044f \\u043e\\u043f\\u0430\\u0441\\u043d\\u043e\\u0441\\u0442\\u044c (Technogenic hazard)\\u041e\\u043f\\u0440\\u0435\\u0434\\u0435\\u043b\\u0435\\u043d\\u0438\\u0435: \\u0443\\u0433\\u0440\\u043e\\u0437\\u0430, \\u0432\\u043e\\u0437\\u043d\\u0438\\u043a\\u0430\\u044e\\u0449\\u0430\\u044f \\u0432 \\u0440\\u0435\\u0437\\u0443\\u043b\\u044c\\u0442\\u0430\\u0442\\u0435 \\u0447\\u0435\\u043b\\u043e\\u0432\\u0435\\u0447\\u0435\\u0441\\u043a\\u043e\\u0439 \\u0434\\u0435\\u044f\\u0442\\u0435\\u043b\\u044c\\u043d\\u043e\\u0441\\u0442\\u0438, \\u043d\\u0430\\u043f\\u0440\\u0438\\u043c\\u0435\\u0440, \\u0430\\u0432\\u0430\\u0440\\u0438\\u0438 \\u043d\\u0430 \\u043b\\u0438\\u043d\\u0438\\u044f\\u0445 \\u044d\\u043b\\u0435\\u043a\\u0442\\u0440\\u043e\\u043f\\u0435\\u0440\\u0435\\u0434\\u0430\\u0447 \\u0438\\u043b\\u0438 \\u0442\\u0435\\u043f\\u043b\\u043e\\u0446\\u0435\\u043d\\u0442\\u0440\\u0430\\u043b\\u0438.\\n\\u0411\\u0435\\u0437\\u043e\\u043f\\u0430\\u0441\\u043d\\u043e\\u0441\\u0442\\u044c (Safety)\\u041e\\u043f\\u0440\\u0435\\u0434\\u0435\\u043b\\u0435\\u043d\\u0438\\u0435: \\u0441\\u043e\\u0441\\u0442\\u043e\\u044f\\u043d\\u0438\\u0435 \\u0437\\u0430\\u0449\\u0438\\u0449\\u0435\\u043d\\u043d\\u043e\\u0441\\u0442\\u0438 \\u0447\\u0435\\u043b\\u043e\\u0432\\u0435\\u043a\\u0430, \\u043e\\u0431\\u0449\\u0435\\u0441\\u0442\\u0432\\u0430 \\u0438 \\u043e\\u043a\\u0440\\u0443\\u0436\\u0430\\u044e\\u0449\\u0435\\u0439 \\u0441\\u0440\\u0435\\u0434\\u044b \\u043e\\u0442 \\u043e\\u043f\\u0430\\u0441\\u043d\\u043e\\u0441\\u0442\\u0435\\u0439 \\u0438 \\u0443\\u0433\\u0440\\u043e\\u0437.\\n\\u041a\\u0438\\u0431\\u0435\\u0440\\u0443\\u0433\\u0440\\u043e\\u0437\\u0430 (Cyber threat)\\u041e\\u043f\\u0440\\u0435\\u0434\\u0435\\u043b\\u0435\\u043d\\u0438\\u0435: \\u043f\\u043e\\u0442\\u0435\\u043d\\u0446\\u0438\\u0430\\u043b\\u044c\\u043d\\u0430\\u044f \\u043e\\u043f\\u0430\\u0441\\u043d\\u043e\\u0441\\u0442\\u044c, \\u0441\\u0432\\u044f\\u0437\\u0430\\u043d\\u043d\\u0430\\u044f \\u0441 \\u043d\\u0435\\u0441\\u0430\\u043d\\u043a\\u0446\\u0438\\u043e\\u043d\\u0438\\u0440\\u043e\\u0432\\u0430\\u043d\\u043d\\u044b\\u043c \\u0432\\u043c\\u0435\\u0448\\u0430\\u0442\\u0435\\u043b\\u044c\\u0441\\u0442\\u0432\\u043e\\u043c \\u0432 \\u0446\\u0438\\u0444\\u0440\\u043e\\u0432\\u044b\\u0435 \\u0441\\u0438\\u0441\\u0442\\u0435\\u043c\\u044b \\u0438 \\u0434\\u0430\\u043d\\u043d\\u044b\\u0435.\",\n          \"Enterprise Architecture (\\u041a\\u043e\\u0440\\u043f\\u043e\\u0440\\u0430\\u0442\\u0438\\u0432\\u043d\\u0430\\u044f \\u0430\\u0440\\u0445\\u0438\\u0442\\u0435\\u043a\\u0442\\u0443\\u0440\\u0430)\\u041e\\u043f\\u0440\\u0435\\u0434\\u0435\\u043b\\u0435\\u043d\\u0438\\u0435: \\u0421\\u0442\\u0440\\u0430\\u0442\\u0435\\u0433\\u0438\\u0447\\u0435\\u0441\\u043a\\u0438\\u0439 \\u0438\\u043d\\u0441\\u0442\\u0440\\u0443\\u043c\\u0435\\u043d\\u0442, \\u043f\\u043e\\u0437\\u0432\\u043e\\u043b\\u044f\\u044e\\u0449\\u0438\\u0439 \\u043e\\u0440\\u0433\\u0430\\u043d\\u0438\\u0437\\u0430\\u0446\\u0438\\u044f\\u043c \\u0438\\u043d\\u0442\\u0435\\u0433\\u0440\\u0438\\u0440\\u043e\\u0432\\u0430\\u0442\\u044c \\u0438\\u043d\\u0444\\u043e\\u0440\\u043c\\u0430\\u0446\\u0438\\u043e\\u043d\\u043d\\u044b\\u0435 \\u0441\\u0438\\u0441\\u0442\\u0435\\u043c\\u044b \\u0441 \\u0431\\u0438\\u0437\\u043d\\u0435\\u0441\\u043e\\u043c, \\u0443\\u043f\\u0440\\u0430\\u0432\\u043b\\u044f\\u0442\\u044c \\u0441\\u043b\\u043e\\u0436\\u043d\\u043e\\u0441\\u0442\\u044c\\u044e \\u0438 \\u043e\\u0431\\u0435\\u0441\\u043f\\u0435\\u0447\\u0438\\u0432\\u0430\\u0442\\u044c \\u043d\\u0435\\u043f\\u0440\\u0435\\u0440\\u044b\\u0432\\u043d\\u044b\\u0439 \\u043f\\u0440\\u043e\\u0446\\u0435\\u0441\\u0441 \\u0430\\u0434\\u0430\\u043f\\u0442\\u0430\\u0446\\u0438\\u0438.\\nOrganizational Agility (\\u041e\\u0440\\u0433\\u0430\\u043d\\u0438\\u0437\\u0430\\u0446\\u0438\\u043e\\u043d\\u043d\\u0430\\u044f \\u0433\\u0438\\u0431\\u043a\\u043e\\u0441\\u0442\\u044c)\\u041e\\u043f\\u0440\\u0435\\u0434\\u0435\\u043b\\u0435\\u043d\\u0438\\u0435: \\u0421\\u043f\\u043e\\u0441\\u043e\\u0431\\u043d\\u043e\\u0441\\u0442\\u044c \\u043e\\u0440\\u0433\\u0430\\u043d\\u0438\\u0437\\u0430\\u0446\\u0438\\u0438 \\u0441\\u0432\\u043e\\u0435\\u0432\\u0440\\u0435\\u043c\\u0435\\u043d\\u043d\\u043e \\u0432\\u043e\\u0441\\u043f\\u0440\\u0438\\u043d\\u0438\\u043c\\u0430\\u0442\\u044c \\u0438 \\u044d\\u0444\\u0444\\u0435\\u043a\\u0442\\u0438\\u0432\\u043d\\u043e \\u043e\\u0442\\u0432\\u0435\\u0447\\u0430\\u0442\\u044c \\u043d\\u0430 \\u0432\\u043d\\u0435\\u0448\\u043d\\u0438\\u0435 \\u0438\\u0437\\u043c\\u0435\\u043d\\u0435\\u043d\\u0438\\u044f \\u0440\\u044b\\u043d\\u043a\\u0430, \\u0442\\u0435\\u0445\\u043d\\u043e\\u043b\\u043e\\u0433\\u0438\\u0439 \\u0438 \\u043a\\u043b\\u0438\\u0435\\u043d\\u0442\\u043e\\u0432.\\nDigital Transformation (\\u0426\\u0438\\u0444\\u0440\\u043e\\u0432\\u0430\\u044f \\u0442\\u0440\\u0430\\u043d\\u0441\\u0444\\u043e\\u0440\\u043c\\u0430\\u0446\\u0438\\u044f)\\u041e\\u043f\\u0440\\u0435\\u0434\\u0435\\u043b\\u0435\\u043d\\u0438\\u0435: \\u0420\\u0430\\u0434\\u0438\\u043a\\u0430\\u043b\\u044c\\u043d\\u043e\\u0435 \\u0438\\u0437\\u043c\\u0435\\u043d\\u0435\\u043d\\u0438\\u0435 \\u043e\\u0440\\u0433\\u0430\\u043d\\u0438\\u0437\\u0430\\u0446\\u0438\\u0438 \\u043f\\u0443\\u0442\\u0435\\u043c \\u0430\\u043a\\u0442\\u0438\\u0432\\u043d\\u043e\\u0433\\u043e \\u0432\\u043d\\u0435\\u0434\\u0440\\u0435\\u043d\\u0438\\u044f \\u0441\\u043e\\u0432\\u0440\\u0435\\u043c\\u0435\\u043d\\u043d\\u044b\\u0445 \\u0442\\u0435\\u0445\\u043d\\u043e\\u043b\\u043e\\u0433\\u0438\\u0439 \\u0438 \\u043c\\u0435\\u0442\\u043e\\u0434\\u043e\\u0432 \\u0440\\u0430\\u0431\\u043e\\u0442\\u044b \\u0434\\u043b\\u044f \\u043f\\u043e\\u0432\\u044b\\u0448\\u0435\\u043d\\u0438\\u044f \\u043a\\u043e\\u043d\\u043a\\u0443\\u0440\\u0435\\u043d\\u0442\\u043e\\u0441\\u043f\\u043e\\u0441\\u043e\\u0431\\u043d\\u043e\\u0441\\u0442\\u0438 \\u0438 \\u043f\\u0440\\u043e\\u0438\\u0437\\u0432\\u043e\\u0434\\u0438\\u0442\\u0435\\u043b\\u044c\\u043d\\u043e\\u0441\\u0442\\u0438.\\nIT Governance (\\u0423\\u043f\\u0440\\u0430\\u0432\\u043b\\u0435\\u043d\\u0438\\u0435 \\u0418\\u0422-\\u0438\\u043d\\u0444\\u0440\\u0430\\u0441\\u0442\\u0440\\u0443\\u043a\\u0442\\u0443\\u0440\\u043e\\u0439)\\u041e\\u043f\\u0440\\u0435\\u0434\\u0435\\u043b\\u0435\\u043d\\u0438\\u0435: \\u041a\\u043e\\u043c\\u043f\\u043b\\u0435\\u043a\\u0441 \\u043c\\u0435\\u0440 \\u0438 \\u043c\\u0435\\u0445\\u0430\\u043d\\u0438\\u0437\\u043c\\u043e\\u0432, \\u043d\\u0430\\u043f\\u0440\\u0430\\u0432\\u043b\\u0435\\u043d\\u043d\\u044b\\u0445 \\u043d\\u0430 \\u043e\\u0431\\u0435\\u0441\\u043f\\u0435\\u0447\\u0435\\u043d\\u0438\\u0435 \\u043e\\u043f\\u0442\\u0438\\u043c\\u0430\\u043b\\u044c\\u043d\\u043e\\u0433\\u043e \\u0438\\u0441\\u043f\\u043e\\u043b\\u044c\\u0437\\u043e\\u0432\\u0430\\u043d\\u0438\\u044f \\u0438\\u043d\\u0444\\u043e\\u0440\\u043c\\u0430\\u0446\\u0438\\u043e\\u043d\\u043d\\u044b\\u0445 \\u0442\\u0435\\u0445\\u043d\\u043e\\u043b\\u043e\\u0433\\u0438\\u0439 \\u0438 \\u0438\\u0445 \\u044d\\u0444\\u0444\\u0435\\u043a\\u0442\\u0438\\u0432\\u043d\\u043e\\u0433\\u043e \\u0441\\u043e\\u0433\\u043b\\u0430\\u0441\\u043e\\u0432\\u0430\\u043d\\u0438\\u044f \\u0441 \\u043e\\u0431\\u0449\\u0435\\u0439 \\u0441\\u0442\\u0440\\u0430\\u0442\\u0435\\u0433\\u0438\\u0435\\u0439 \\u043e\\u0440\\u0433\\u0430\\u043d\\u0438\\u0437\\u0430\\u0446\\u0438\\u0438.\\nStrategic Alignment (\\u0421\\u0442\\u0440\\u0430\\u0442\\u0435\\u0433\\u0438\\u0447\\u0435\\u0441\\u043a\\u043e\\u0435 \\u0432\\u044b\\u0440\\u0430\\u0432\\u043d\\u0438\\u0432\\u0430\\u043d\\u0438\\u0435)\\u041e\\u043f\\u0440\\u0435\\u0434\\u0435\\u043b\\u0435\\u043d\\u0438\\u0435: \\u0421\\u043e\\u0433\\u043b\\u0430\\u0441\\u043e\\u0432\\u0430\\u043d\\u043d\\u043e\\u0435 \\u0432\\u0437\\u0430\\u0438\\u043c\\u043e\\u0434\\u0435\\u0439\\u0441\\u0442\\u0432\\u0438\\u0435 \\u0431\\u0438\\u0437\\u043d\\u0435\\u0441-\\u0441\\u0442\\u0440\\u0430\\u0442\\u0435\\u0433\\u0438\\u0439 \\u0438 \\u0442\\u0435\\u0445\\u043d\\u043e\\u043b\\u043e\\u0433\\u0438\\u0447\\u0435\\u0441\\u043a\\u0438\\u0445 \\u0438\\u043d\\u0438\\u0446\\u0438\\u0430\\u0442\\u0438\\u0432, \\u043d\\u0430\\u043f\\u0440\\u0430\\u0432\\u043b\\u0435\\u043d\\u043d\\u043e\\u0435 \\u043d\\u0430 \\u0434\\u043e\\u0441\\u0442\\u0438\\u0436\\u0435\\u043d\\u0438\\u0435 \\u0441\\u0442\\u0440\\u0430\\u0442\\u0435\\u0433\\u0438\\u0447\\u0435\\u0441\\u043a\\u0438\\u0445 \\u0446\\u0435\\u043b\\u0435\\u0439 \\u043e\\u0440\\u0433\\u0430\\u043d\\u0438\\u0437\\u0430\\u0446\\u0438\\u0438.\\nModularization (\\u041c\\u043e\\u0434\\u0443\\u043b\\u044c\\u043d\\u043e\\u0441\\u0442\\u044c)\\u041e\\u043f\\u0440\\u0435\\u0434\\u0435\\u043b\\u0435\\u043d\\u0438\\u0435: \\u041f\\u043e\\u0434\\u0445\\u043e\\u0434 \\u043a \\u043f\\u0440\\u043e\\u0435\\u043a\\u0442\\u0438\\u0440\\u043e\\u0432\\u0430\\u043d\\u0438\\u044e \\u0441\\u0438\\u0441\\u0442\\u0435\\u043c, \\u043f\\u0440\\u0435\\u0434\\u0443\\u0441\\u043c\\u0430\\u0442\\u0440\\u0438\\u0432\\u0430\\u044e\\u0449\\u0438\\u0439 \\u0440\\u0430\\u0437\\u0434\\u0435\\u043b\\u0435\\u043d\\u0438\\u0435 \\u0438\\u0445 \\u043d\\u0430 \\u043e\\u0442\\u0434\\u0435\\u043b\\u044c\\u043d\\u044b\\u0435 \\u043a\\u043e\\u043c\\u043f\\u043e\\u043d\\u0435\\u043d\\u0442\\u044b, \\u0443\\u043f\\u0440\\u043e\\u0449\\u0430\\u044e\\u0449\\u0438\\u0439 \\u0432\\u043d\\u0435\\u0434\\u0440\\u0435\\u043d\\u0438\\u0435 \\u0438\\u0437\\u043c\\u0435\\u043d\\u0435\\u043d\\u0438\\u0439 \\u0438 \\u043f\\u043e\\u0432\\u044b\\u0448\\u0430\\u044e\\u0449\\u0438\\u0439 \\u043e\\u0431\\u0449\\u0443\\u044e \\u0443\\u0441\\u0442\\u043e\\u0439\\u0447\\u0438\\u0432\\u043e\\u0441\\u0442\\u044c \\u0430\\u0440\\u0445\\u0438\\u0442\\u0435\\u043a\\u0442\\u0443\\u0440\\u044b.\\nReal-time Data Integration (\\u0420\\u0435\\u0430\\u043b\\u044c\\u043d\\u0430\\u044f \\u0438\\u043d\\u0442\\u0435\\u0433\\u0440\\u0430\\u0446\\u0438\\u044f \\u0434\\u0430\\u043d\\u043d\\u044b\\u0445)\\u041e\\u043f\\u0440\\u0435\\u0434\\u0435\\u043b\\u0435\\u043d\\u0438\\u0435: \\u0412\\u043e\\u0437\\u043c\\u043e\\u0436\\u043d\\u043e\\u0441\\u0442\\u044c \\u0441\\u0432\\u043e\\u0435\\u0432\\u0440\\u0435\\u043c\\u0435\\u043d\\u043d\\u043e\\u0433\\u043e \\u043e\\u0431\\u044a\\u0435\\u0434\\u0438\\u043d\\u0435\\u043d\\u0438\\u044f \\u0434\\u0430\\u043d\\u043d\\u044b\\u0445 \\u0438\\u0437 \\u0440\\u0430\\u0437\\u043d\\u044b\\u0445 \\u0438\\u0441\\u0442\\u043e\\u0447\\u043d\\u0438\\u043a\\u043e\\u0432, \\u043e\\u0431\\u0435\\u0441\\u043f\\u0435\\u0447\\u0438\\u0432\\u0430\\u044f \\u0431\\u044b\\u0441\\u0442\\u0440\\u0443\\u044e \\u0440\\u0435\\u0430\\u043a\\u0446\\u0438\\u044e \\u043d\\u0430 \\u0441\\u043e\\u0431\\u044b\\u0442\\u0438\\u044f \\u0438 \\u043e\\u043f\\u0442\\u0438\\u043c\\u0430\\u043b\\u044c\\u043d\\u044b\\u0435 \\u043f\\u0440\\u0438\\u043d\\u0438\\u043c\\u0430\\u0435\\u043c\\u044b\\u0435 \\u0440\\u0435\\u0448\\u0435\\u043d\\u0438\\u044f.\\nIterative Development (\\u0418\\u0442\\u0435\\u0440\\u0430\\u0442\\u0438\\u0432\\u043d\\u0430\\u044f \\u0440\\u0430\\u0437\\u0440\\u0430\\u0431\\u043e\\u0442\\u043a\\u0430)\\u041e\\u043f\\u0440\\u0435\\u0434\\u0435\\u043b\\u0435\\u043d\\u0438\\u0435: \\u041c\\u0435\\u0442\\u043e\\u0434\\u043e\\u043b\\u043e\\u0433\\u0438\\u044f \\u043f\\u0440\\u043e\\u0435\\u043a\\u0442\\u0438\\u0440\\u043e\\u0432\\u0430\\u043d\\u0438\\u044f \\u0438 \\u0440\\u0435\\u0430\\u043b\\u0438\\u0437\\u0430\\u0446\\u0438\\u0438, \\u043f\\u0440\\u0435\\u0434\\u0443\\u0441\\u043c\\u0430\\u0442\\u0440\\u0438\\u0432\\u0430\\u044e\\u0449\\u0430\\u044f \\u043c\\u043d\\u043e\\u0433\\u043e\\u043a\\u0440\\u0430\\u0442\\u043d\\u044b\\u0435 \\u0438\\u0442\\u0435\\u0440\\u0430\\u0446\\u0438\\u0438, \\u0443\\u0441\\u043a\\u043e\\u0440\\u044f\\u044e\\u0449\\u0438\\u0435 \\u043f\\u0440\\u043e\\u0446\\u0435\\u0441\\u0441 \\u0432\\u043d\\u0435\\u0441\\u0435\\u043d\\u0438\\u044f \\u0438\\u0437\\u043c\\u0435\\u043d\\u0435\\u043d\\u0438\\u0439 \\u0438 \\u0441\\u043d\\u0438\\u0436\\u0430\\u044e\\u0449\\u0430\\u044f \\u0440\\u0438\\u0441\\u043a\\u0438 \\u043d\\u0435\\u0443\\u0434\\u0430\\u0447\\u0438 \\u043f\\u0440\\u043e\\u0435\\u043a\\u0442\\u043e\\u0432.\\nCloud Adoption (\\u041f\\u0435\\u0440\\u0435\\u0445\\u043e\\u0434 \\u043d\\u0430 \\u043e\\u0431\\u043b\\u0430\\u0447\\u043d\\u044b\\u0435 \\u0442\\u0435\\u0445\\u043d\\u043e\\u043b\\u043e\\u0433\\u0438\\u0438)\\u041e\\u043f\\u0440\\u0435\\u0434\\u0435\\u043b\\u0435\\u043d\\u0438\\u0435: \\u0418\\u0441\\u043f\\u043e\\u043b\\u044c\\u0437\\u043e\\u0432\\u0430\\u043d\\u0438\\u0435 \\u043e\\u0431\\u043b\\u0430\\u0447\\u043d\\u044b\\u0445 \\u0432\\u044b\\u0447\\u0438\\u0441\\u043b\\u0438\\u0442\\u0435\\u043b\\u044c\\u043d\\u044b\\u0445 \\u043c\\u043e\\u0449\\u043d\\u043e\\u0441\\u0442\\u0435\\u0439 \\u0438 \\u0441\\u0435\\u0440\\u0432\\u0438\\u0441\\u043e\\u0432 \\u0434\\u043b\\u044f \\u0441\\u043d\\u0438\\u0436\\u0435\\u043d\\u0438\\u044f \\u043a\\u0430\\u043f\\u0438\\u0442\\u0430\\u043b\\u044c\\u043d\\u044b\\u0445 \\u0440\\u0430\\u0441\\u0445\\u043e\\u0434\\u043e\\u0432 \\u0438 \\u0443\\u0432\\u0435\\u043b\\u0438\\u0447\\u0435\\u043d\\u0438\\u044f \\u0434\\u043e\\u0441\\u0442\\u0443\\u043f\\u043d\\u043e\\u0441\\u0442\\u0438 \\u0438 \\u043c\\u0430\\u0441\\u0448\\u0442\\u0430\\u0431\\u0438\\u0440\\u0443\\u0435\\u043c\\u043e\\u0441\\u0442\\u0438 \\u0418\\u0422-\\u0440\\u0435\\u0441\\u0443\\u0440\\u0441\\u043e\\u0432.\\nDecision-making Speed (\\u0421\\u043a\\u043e\\u0440\\u043e\\u0441\\u0442\\u044c \\u043f\\u0440\\u0438\\u043d\\u044f\\u0442\\u0438\\u044f \\u0440\\u0435\\u0448\\u0435\\u043d\\u0438\\u0439)\\u041e\\u043f\\u0440\\u0435\\u0434\\u0435\\u043b\\u0435\\u043d\\u0438\\u0435: \\u041f\\u043e\\u043a\\u0430\\u0437\\u0430\\u0442\\u0435\\u043b\\u044c \\u0431\\u044b\\u0441\\u0442\\u0440\\u043e\\u0442\\u044b \\u0440\\u0435\\u0430\\u043a\\u0446\\u0438\\u0438 \\u043e\\u0440\\u0433\\u0430\\u043d\\u0438\\u0437\\u0430\\u0446\\u0438\\u0438 \\u043d\\u0430 \\u0432\\u043e\\u0437\\u043d\\u0438\\u043a\\u0430\\u044e\\u0449\\u0438\\u0435 \\u043e\\u0431\\u0441\\u0442\\u043e\\u044f\\u0442\\u0435\\u043b\\u044c\\u0441\\u0442\\u0432\\u0430 \\u0438 \\u043f\\u0440\\u0438\\u043d\\u044f\\u0442\\u0438\\u044f \\u043e\\u0431\\u043e\\u0441\\u043d\\u043e\\u0432\\u0430\\u043d\\u043d\\u044b\\u0445 \\u0440\\u0435\\u0448\\u0435\\u043d\\u0438\\u0439, \\u0432\\u043b\\u0438\\u044f\\u044e\\u0449\\u0438\\u0445 \\u043d\\u0430 \\u0434\\u0430\\u043b\\u044c\\u043d\\u0435\\u0439\\u0448\\u0443\\u044e \\u0434\\u0435\\u044f\\u0442\\u0435\\u043b\\u044c\\u043d\\u043e\\u0441\\u0442\\u044c.\",\n          \"Business Strategy (\\u0411\\u0438\\u0437\\u043d\\u0435\\u0441-\\u0441\\u0442\\u0440\\u0430\\u0442\\u0435\\u0433\\u0438\\u044f)\\u041e\\u043f\\u0440\\u0435\\u0434\\u0435\\u043b\\u0435\\u043d\\u0438\\u0435: \\u041f\\u043b\\u0430\\u043d \\u0434\\u0435\\u0439\\u0441\\u0442\\u0432\\u0438\\u0439, \\u043d\\u0430\\u043f\\u0440\\u0430\\u0432\\u043b\\u0435\\u043d\\u043d\\u044b\\u0439 \\u043d\\u0430 \\u0434\\u043e\\u0441\\u0442\\u0438\\u0436\\u0435\\u043d\\u0438\\u0435 \\u0434\\u043e\\u043b\\u0433\\u043e\\u0441\\u0440\\u043e\\u0447\\u043d\\u044b\\u0445 \\u0446\\u0435\\u043b\\u0435\\u0439 \\u043e\\u0440\\u0433\\u0430\\u043d\\u0438\\u0437\\u0430\\u0446\\u0438\\u0438.\\nStrategic Management (\\u0421\\u0442\\u0440\\u0430\\u0442\\u0435\\u0433\\u0438\\u0447\\u0435\\u0441\\u043a\\u043e\\u0435 \\u0443\\u043f\\u0440\\u0430\\u0432\\u043b\\u0435\\u043d\\u0438\\u0435)\\u041e\\u043f\\u0440\\u0435\\u0434\\u0435\\u043b\\u0435\\u043d\\u0438\\u0435: \\u041f\\u0440\\u043e\\u0446\\u0435\\u0441\\u0441 \\u0443\\u043f\\u0440\\u0430\\u0432\\u043b\\u0435\\u043d\\u0438\\u044f \\u043e\\u0440\\u0433\\u0430\\u043d\\u0438\\u0437\\u0430\\u0446\\u0438\\u0435\\u0439, \\u043d\\u0430\\u043f\\u0440\\u0430\\u0432\\u043b\\u0435\\u043d\\u043d\\u044b\\u0439 \\u043d\\u0430 \\u0434\\u043e\\u0441\\u0442\\u0438\\u0436\\u0435\\u043d\\u0438\\u0435 \\u0435\\u0435 \\u0441\\u0442\\u0440\\u0430\\u0442\\u0435\\u0433\\u0438\\u0447\\u0435\\u0441\\u043a\\u0438\\u0445 \\u0446\\u0435\\u043b\\u0435\\u0439.\\nModelling (\\u041c\\u043e\\u0434\\u0435\\u043b\\u0438\\u0440\\u043e\\u0432\\u0430\\u043d\\u0438\\u0435)\\u041e\\u043f\\u0440\\u0435\\u0434\\u0435\\u043b\\u0435\\u043d\\u0438\\u0435: \\u041f\\u0440\\u043e\\u0446\\u0435\\u0441\\u0441 \\u0441\\u043e\\u0437\\u0434\\u0430\\u043d\\u0438\\u044f \\u043c\\u043e\\u0434\\u0435\\u043b\\u0435\\u0439 \\u0434\\u043b\\u044f \\u043f\\u0440\\u0435\\u0434\\u0441\\u0442\\u0430\\u0432\\u043b\\u0435\\u043d\\u0438\\u044f \\u0438 \\u0430\\u043d\\u0430\\u043b\\u0438\\u0437\\u0430 \\u0440\\u0430\\u0437\\u043b\\u0438\\u0447\\u043d\\u044b\\u0445 \\u0430\\u0441\\u043f\\u0435\\u043a\\u0442\\u043e\\u0432 \\u0441\\u0438\\u0441\\u0442\\u0435\\u043c\\u044b.\\nEnterprise Architecture (\\u0410\\u0440\\u0445\\u0438\\u0442\\u0435\\u043a\\u0442\\u0443\\u0440\\u0430 \\u043f\\u0440\\u0435\\u0434\\u043f\\u0440\\u0438\\u044f\\u0442\\u0438\\u044f)\\u041e\\u043f\\u0440\\u0435\\u0434\\u0435\\u043b\\u0435\\u043d\\u0438\\u0435: \\u041a\\u043e\\u043c\\u043f\\u043b\\u0435\\u043a\\u0441 \\u043f\\u0440\\u0438\\u043d\\u0446\\u0438\\u043f\\u043e\\u0432, \\u043c\\u0435\\u0442\\u043e\\u0434\\u043e\\u0432 \\u0438 \\u043c\\u043e\\u0434\\u0435\\u043b\\u0435\\u0439, \\u0438\\u0441\\u043f\\u043e\\u043b\\u044c\\u0437\\u0443\\u0435\\u043c\\u044b\\u0445 \\u0434\\u043b\\u044f \\u043f\\u0440\\u043e\\u0435\\u043a\\u0442\\u0438\\u0440\\u043e\\u0432\\u0430\\u043d\\u0438\\u044f \\u0438 \\u0443\\u043f\\u0440\\u0430\\u0432\\u043b\\u0435\\u043d\\u0438\\u044f \\u0441\\u0442\\u0440\\u0443\\u043a\\u0442\\u0443\\u0440\\u043e\\u0439 \\u043e\\u0440\\u0433\\u0430\\u043d\\u0438\\u0437\\u0430\\u0446\\u0438\\u0438, \\u0432\\u043a\\u043b\\u044e\\u0447\\u0430\\u044f \\u0431\\u0438\\u0437\\u043d\\u0435\\u0441-\\u043f\\u0440\\u043e\\u0446\\u0435\\u0441\\u0441\\u044b, \\u0438\\u043d\\u0444\\u043e\\u0440\\u043c\\u0430\\u0446\\u0438\\u043e\\u043d\\u043d\\u044b\\u0435 \\u0441\\u0438\\u0441\\u0442\\u0435\\u043c\\u044b \\u0438 \\u0438\\u043d\\u0444\\u0440\\u0430\\u0441\\u0442\\u0440\\u0443\\u043a\\u0442\\u0443\\u0440\\u0443.\\nEnterprise Architecture Management (\\u0423\\u043f\\u0440\\u0430\\u0432\\u043b\\u0435\\u043d\\u0438\\u0435 \\u0430\\u0440\\u0445\\u0438\\u0442\\u0435\\u043a\\u0442\\u0443\\u0440\\u043e\\u0439 \\u043f\\u0440\\u0435\\u0434\\u043f\\u0440\\u0438\\u044f\\u0442\\u0438\\u044f)\\u041e\\u043f\\u0440\\u0435\\u0434\\u0435\\u043b\\u0435\\u043d\\u0438\\u0435: \\u041f\\u0440\\u043e\\u0446\\u0435\\u0441\\u0441 \\u0443\\u043f\\u0440\\u0430\\u0432\\u043b\\u0435\\u043d\\u0438\\u044f \\u0438 \\u043a\\u043e\\u043d\\u0442\\u0440\\u043e\\u043b\\u044f \\u0437\\u0430 \\u0430\\u0440\\u0445\\u0438\\u0442\\u0435\\u043a\\u0442\\u0443\\u0440\\u043e\\u0439 \\u043f\\u0440\\u0435\\u0434\\u043f\\u0440\\u0438\\u044f\\u0442\\u0438\\u044f \\u0434\\u043b\\u044f \\u043e\\u0431\\u0435\\u0441\\u043f\\u0435\\u0447\\u0435\\u043d\\u0438\\u044f \\u0435\\u0435 \\u0441\\u043e\\u043e\\u0442\\u0432\\u0435\\u0442\\u0441\\u0442\\u0432\\u0438\\u044f \\u0441\\u0442\\u0440\\u0430\\u0442\\u0435\\u0433\\u0438\\u0447\\u0435\\u0441\\u043a\\u0438\\u043c \\u0446\\u0435\\u043b\\u044f\\u043c \\u043e\\u0440\\u0433\\u0430\\u043d\\u0438\\u0437\\u0430\\u0446\\u0438\\u0438.\\nEnterprise Engineering (\\u0418\\u043d\\u0436\\u0438\\u043d\\u0438\\u0440\\u0438\\u043d\\u0433 \\u043f\\u0440\\u0435\\u0434\\u043f\\u0440\\u0438\\u044f\\u0442\\u0438\\u044f)\\u041e\\u043f\\u0440\\u0435\\u0434\\u0435\\u043b\\u0435\\u043d\\u0438\\u0435: \\u041f\\u0440\\u043e\\u0446\\u0435\\u0441\\u0441 \\u043f\\u0440\\u043e\\u0435\\u043a\\u0442\\u0438\\u0440\\u043e\\u0432\\u0430\\u043d\\u0438\\u044f \\u0438 \\u0440\\u0435\\u0430\\u043b\\u0438\\u0437\\u0430\\u0446\\u0438\\u0438 \\u0430\\u0440\\u0445\\u0438\\u0442\\u0435\\u043a\\u0442\\u0443\\u0440\\u044b \\u043f\\u0440\\u0435\\u0434\\u043f\\u0440\\u0438\\u044f\\u0442\\u0438\\u044f \\u0434\\u043b\\u044f \\u0434\\u043e\\u0441\\u0442\\u0438\\u0436\\u0435\\u043d\\u0438\\u044f \\u0435\\u0433\\u043e \\u0441\\u0442\\u0440\\u0430\\u0442\\u0435\\u0433\\u0438\\u0447\\u0435\\u0441\\u043a\\u0438\\u0445 \\u0446\\u0435\\u043b\\u0435\\u0439.\\nAlignment (\\u0412\\u044b\\u0440\\u0430\\u0432\\u043d\\u0438\\u0432\\u0430\\u043d\\u0438\\u0435)\\u041e\\u043f\\u0440\\u0435\\u0434\\u0435\\u043b\\u0435\\u043d\\u0438\\u0435: \\u041f\\u0440\\u043e\\u0446\\u0435\\u0441\\u0441 \\u043e\\u0431\\u0435\\u0441\\u043f\\u0435\\u0447\\u0435\\u043d\\u0438\\u044f \\u0441\\u043e\\u043e\\u0442\\u0432\\u0435\\u0442\\u0441\\u0442\\u0432\\u0438\\u044f \\u043c\\u0435\\u0436\\u0434\\u0443 \\u0431\\u0438\\u0437\\u043d\\u0435\\u0441-\\u0441\\u0442\\u0440\\u0430\\u0442\\u0435\\u0433\\u0438\\u0435\\u0439 \\u0438 \\u0418\\u0422-\\u0441\\u0442\\u0440\\u0430\\u0442\\u0435\\u0433\\u0438\\u0435\\u0439 \\u043e\\u0440\\u0433\\u0430\\u043d\\u0438\\u0437\\u0430\\u0446\\u0438\\u0438.\\nValue Chain (\\u0426\\u0435\\u043f\\u043e\\u0447\\u043a\\u0430 \\u0441\\u043e\\u0437\\u0434\\u0430\\u043d\\u0438\\u044f \\u0441\\u0442\\u043e\\u0438\\u043c\\u043e\\u0441\\u0442\\u0438)\\u041e\\u043f\\u0440\\u0435\\u0434\\u0435\\u043b\\u0435\\u043d\\u0438\\u0435: \\u041f\\u043e\\u0441\\u043b\\u0435\\u0434\\u043e\\u0432\\u0430\\u0442\\u0435\\u043b\\u044c\\u043d\\u043e\\u0441\\u0442\\u044c \\u0434\\u0435\\u0439\\u0441\\u0442\\u0432\\u0438\\u0439, \\u043a\\u043e\\u0442\\u043e\\u0440\\u044b\\u0435 \\u043e\\u0440\\u0433\\u0430\\u043d\\u0438\\u0437\\u0430\\u0446\\u0438\\u044f \\u0432\\u044b\\u043f\\u043e\\u043b\\u043d\\u044f\\u0435\\u0442 \\u0434\\u043b\\u044f \\u0441\\u043e\\u0437\\u0434\\u0430\\u043d\\u0438\\u044f \\u0446\\u0435\\u043d\\u043d\\u043e\\u0441\\u0442\\u0438 \\u0434\\u043b\\u044f \\u0441\\u0432\\u043e\\u0438\\u0445 \\u043a\\u043b\\u0438\\u0435\\u043d\\u0442\\u043e\\u0432.\\nSWOT Analysis (SWOT-\\u0430\\u043d\\u0430\\u043b\\u0438\\u0437)\\u041e\\u043f\\u0440\\u0435\\u0434\\u0435\\u043b\\u0435\\u043d\\u0438\\u0435: \\u041c\\u0435\\u0442\\u043e\\u0434 \\u0430\\u043d\\u0430\\u043b\\u0438\\u0437\\u0430 \\u0441\\u0438\\u043b\\u044c\\u043d\\u044b\\u0445 \\u0438 \\u0441\\u043b\\u0430\\u0431\\u044b\\u0445 \\u0441\\u0442\\u043e\\u0440\\u043e\\u043d \\u043e\\u0440\\u0433\\u0430\\u043d\\u0438\\u0437\\u0430\\u0446\\u0438\\u0438, \\u0430 \\u0442\\u0430\\u043a\\u0436\\u0435 \\u0432\\u043e\\u0437\\u043c\\u043e\\u0436\\u043d\\u043e\\u0441\\u0442\\u0435\\u0439 \\u0438 \\u0443\\u0433\\u0440\\u043e\\u0437 \\u0432\\u043d\\u0435\\u0448\\u043d\\u0435\\u0439 \\u0441\\u0440\\u0435\\u0434\\u044b.\\nBalanced Scorecard (\\u0421\\u0431\\u0430\\u043b\\u0430\\u043d\\u0441\\u0438\\u0440\\u043e\\u0432\\u0430\\u043d\\u043d\\u0430\\u044f \\u0441\\u0438\\u0441\\u0442\\u0435\\u043c\\u0430 \\u043f\\u043e\\u043a\\u0430\\u0437\\u0430\\u0442\\u0435\\u043b\\u0435\\u0439)\\u041e\\u043f\\u0440\\u0435\\u0434\\u0435\\u043b\\u0435\\u043d\\u0438\\u0435: \\u0418\\u043d\\u0441\\u0442\\u0440\\u0443\\u043c\\u0435\\u043d\\u0442 \\u0441\\u0442\\u0440\\u0430\\u0442\\u0435\\u0433\\u0438\\u0447\\u0435\\u0441\\u043a\\u043e\\u0433\\u043e \\u0443\\u043f\\u0440\\u0430\\u0432\\u043b\\u0435\\u043d\\u0438\\u044f, \\u043a\\u043e\\u0442\\u043e\\u0440\\u044b\\u0439 \\u043f\\u043e\\u0437\\u0432\\u043e\\u043b\\u044f\\u0435\\u0442 \\u043e\\u0446\\u0435\\u043d\\u0438\\u0432\\u0430\\u0442\\u044c \\u0434\\u043e\\u0441\\u0442\\u0438\\u0436\\u0435\\u043d\\u0438\\u0435 \\u0446\\u0435\\u043b\\u0435\\u0439 \\u043e\\u0440\\u0433\\u0430\\u043d\\u0438\\u0437\\u0430\\u0446\\u0438\\u0438 \\u043f\\u043e \\u043d\\u0435\\u0441\\u043a\\u043e\\u043b\\u044c\\u043a\\u0438\\u043c \\u043a\\u043b\\u044e\\u0447\\u0435\\u0432\\u044b\\u043c \\u043f\\u043e\\u043a\\u0430\\u0437\\u0430\\u0442\\u0435\\u043b\\u044f\\u043c.\"\n        ],\n        \"semantic_type\": \"\",\n        \"description\": \"\"\n      }\n    }\n  ]\n}"
            }
          },
          "metadata": {},
          "execution_count": 4
        }
      ],
      "source": [
        "df = pd.read_csv('https://docs.google.com/spreadsheets/d/1bfQYKxx9LiE7NuolcPqwTph8U9lcVaXs/export?gid=191559656&format=csv')\n",
        "df.head()\n"
      ]
    },
    {
      "cell_type": "code",
      "source": [
        "df.tail()"
      ],
      "metadata": {
        "colab": {
          "base_uri": "https://localhost:8080/",
          "height": 608
        },
        "id": "AXFCj8YWqy7_",
        "outputId": "45c4142d-dcfa-4e50-a750-7003ef0a209b"
      },
      "id": "AXFCj8YWqy7_",
      "execution_count": null,
      "outputs": [
        {
          "output_type": "execute_result",
          "data": {
            "text/plain": [
              "                                      Ссылка  \\\n",
              "173  https://disk.yandex.ru/i/7irZU5qQBKV6lA   \n",
              "174  https://disk.yandex.ru/i/hbkEDrKSJRjSPg   \n",
              "175  https://disk.yandex.ru/i/sPzn4okaWONUCg   \n",
              "176  https://disk.yandex.ru/i/TTH143J15-Y1fA   \n",
              "177  https://disk.yandex.ru/i/AFVTcE-bJnSp9g   \n",
              "\n",
              "                                                Статья  \\\n",
              "173  Сравнение архитектурных подходов к анализу инф...   \n",
              "174  Разработка архитектуры предприятия с использов...   \n",
              "175  Технология документирования процесса разработк...   \n",
              "176  Изучение подходов к построению архитектуры пре...   \n",
              "177  Архитектура системы управления цифровыми двойн...   \n",
              "\n",
              "                                  Аннотация на русском  \\\n",
              "173  Статья посвящена исследованию необходимости мо...   \n",
              "174  Статья посвящена разработке архитектуры предпр...   \n",
              "175  В статье рассматривается проблема отсутствия э...   \n",
              "176  Статья посвящена изучению архитектуры предприя...   \n",
              "177  Статья посвящена разработке архитектуры систем...   \n",
              "\n",
              "                                                Журнал  \\\n",
              "173                            Инженерный вестник Дона   \n",
              "174  Международный журнал открытых информационных т...   \n",
              "175                               Всероссийский журнал   \n",
              "176                                           Менеджер   \n",
              "177                                      Вестник РГРТУ   \n",
              "\n",
              "         10 ключевых слов с определениением на русском  \n",
              "173  Архитектура предприятия (Enterprise architectu...  \n",
              "174  Архитектура предприятия (Enterprise architectu...  \n",
              "175  Разработка стратегии (Strategy development)Опр...  \n",
              "176  Архитектура предприятия (Enterprise architectu...  \n",
              "177  Цифровые двойники (Digital twins)Определение: ...  "
            ],
            "text/html": [
              "\n",
              "  <div id=\"df-3fc8f886-0495-488f-a9ba-58bff353d8bd\" class=\"colab-df-container\">\n",
              "    <div>\n",
              "<style scoped>\n",
              "    .dataframe tbody tr th:only-of-type {\n",
              "        vertical-align: middle;\n",
              "    }\n",
              "\n",
              "    .dataframe tbody tr th {\n",
              "        vertical-align: top;\n",
              "    }\n",
              "\n",
              "    .dataframe thead th {\n",
              "        text-align: right;\n",
              "    }\n",
              "</style>\n",
              "<table border=\"1\" class=\"dataframe\">\n",
              "  <thead>\n",
              "    <tr style=\"text-align: right;\">\n",
              "      <th></th>\n",
              "      <th>Ссылка</th>\n",
              "      <th>Статья</th>\n",
              "      <th>Аннотация на русском</th>\n",
              "      <th>Журнал</th>\n",
              "      <th>10 ключевых слов с определениением на русском</th>\n",
              "    </tr>\n",
              "  </thead>\n",
              "  <tbody>\n",
              "    <tr>\n",
              "      <th>173</th>\n",
              "      <td>https://disk.yandex.ru/i/7irZU5qQBKV6lA</td>\n",
              "      <td>Сравнение архитектурных подходов к анализу инф...</td>\n",
              "      <td>Статья посвящена исследованию необходимости мо...</td>\n",
              "      <td>Инженерный вестник Дона</td>\n",
              "      <td>Архитектура предприятия (Enterprise architectu...</td>\n",
              "    </tr>\n",
              "    <tr>\n",
              "      <th>174</th>\n",
              "      <td>https://disk.yandex.ru/i/hbkEDrKSJRjSPg</td>\n",
              "      <td>Разработка архитектуры предприятия с использов...</td>\n",
              "      <td>Статья посвящена разработке архитектуры предпр...</td>\n",
              "      <td>Международный журнал открытых информационных т...</td>\n",
              "      <td>Архитектура предприятия (Enterprise architectu...</td>\n",
              "    </tr>\n",
              "    <tr>\n",
              "      <th>175</th>\n",
              "      <td>https://disk.yandex.ru/i/sPzn4okaWONUCg</td>\n",
              "      <td>Технология документирования процесса разработк...</td>\n",
              "      <td>В статье рассматривается проблема отсутствия э...</td>\n",
              "      <td>Всероссийский журнал</td>\n",
              "      <td>Разработка стратегии (Strategy development)Опр...</td>\n",
              "    </tr>\n",
              "    <tr>\n",
              "      <th>176</th>\n",
              "      <td>https://disk.yandex.ru/i/TTH143J15-Y1fA</td>\n",
              "      <td>Изучение подходов к построению архитектуры пре...</td>\n",
              "      <td>Статья посвящена изучению архитектуры предприя...</td>\n",
              "      <td>Менеджер</td>\n",
              "      <td>Архитектура предприятия (Enterprise architectu...</td>\n",
              "    </tr>\n",
              "    <tr>\n",
              "      <th>177</th>\n",
              "      <td>https://disk.yandex.ru/i/AFVTcE-bJnSp9g</td>\n",
              "      <td>Архитектура системы управления цифровыми двойн...</td>\n",
              "      <td>Статья посвящена разработке архитектуры систем...</td>\n",
              "      <td>Вестник РГРТУ</td>\n",
              "      <td>Цифровые двойники (Digital twins)Определение: ...</td>\n",
              "    </tr>\n",
              "  </tbody>\n",
              "</table>\n",
              "</div>\n",
              "    <div class=\"colab-df-buttons\">\n",
              "\n",
              "  <div class=\"colab-df-container\">\n",
              "    <button class=\"colab-df-convert\" onclick=\"convertToInteractive('df-3fc8f886-0495-488f-a9ba-58bff353d8bd')\"\n",
              "            title=\"Convert this dataframe to an interactive table.\"\n",
              "            style=\"display:none;\">\n",
              "\n",
              "  <svg xmlns=\"http://www.w3.org/2000/svg\" height=\"24px\" viewBox=\"0 -960 960 960\">\n",
              "    <path d=\"M120-120v-720h720v720H120Zm60-500h600v-160H180v160Zm220 220h160v-160H400v160Zm0 220h160v-160H400v160ZM180-400h160v-160H180v160Zm440 0h160v-160H620v160ZM180-180h160v-160H180v160Zm440 0h160v-160H620v160Z\"/>\n",
              "  </svg>\n",
              "    </button>\n",
              "\n",
              "  <style>\n",
              "    .colab-df-container {\n",
              "      display:flex;\n",
              "      gap: 12px;\n",
              "    }\n",
              "\n",
              "    .colab-df-convert {\n",
              "      background-color: #E8F0FE;\n",
              "      border: none;\n",
              "      border-radius: 50%;\n",
              "      cursor: pointer;\n",
              "      display: none;\n",
              "      fill: #1967D2;\n",
              "      height: 32px;\n",
              "      padding: 0 0 0 0;\n",
              "      width: 32px;\n",
              "    }\n",
              "\n",
              "    .colab-df-convert:hover {\n",
              "      background-color: #E2EBFA;\n",
              "      box-shadow: 0px 1px 2px rgba(60, 64, 67, 0.3), 0px 1px 3px 1px rgba(60, 64, 67, 0.15);\n",
              "      fill: #174EA6;\n",
              "    }\n",
              "\n",
              "    .colab-df-buttons div {\n",
              "      margin-bottom: 4px;\n",
              "    }\n",
              "\n",
              "    [theme=dark] .colab-df-convert {\n",
              "      background-color: #3B4455;\n",
              "      fill: #D2E3FC;\n",
              "    }\n",
              "\n",
              "    [theme=dark] .colab-df-convert:hover {\n",
              "      background-color: #434B5C;\n",
              "      box-shadow: 0px 1px 3px 1px rgba(0, 0, 0, 0.15);\n",
              "      filter: drop-shadow(0px 1px 2px rgba(0, 0, 0, 0.3));\n",
              "      fill: #FFFFFF;\n",
              "    }\n",
              "  </style>\n",
              "\n",
              "    <script>\n",
              "      const buttonEl =\n",
              "        document.querySelector('#df-3fc8f886-0495-488f-a9ba-58bff353d8bd button.colab-df-convert');\n",
              "      buttonEl.style.display =\n",
              "        google.colab.kernel.accessAllowed ? 'block' : 'none';\n",
              "\n",
              "      async function convertToInteractive(key) {\n",
              "        const element = document.querySelector('#df-3fc8f886-0495-488f-a9ba-58bff353d8bd');\n",
              "        const dataTable =\n",
              "          await google.colab.kernel.invokeFunction('convertToInteractive',\n",
              "                                                    [key], {});\n",
              "        if (!dataTable) return;\n",
              "\n",
              "        const docLinkHtml = 'Like what you see? Visit the ' +\n",
              "          '<a target=\"_blank\" href=https://colab.research.google.com/notebooks/data_table.ipynb>data table notebook</a>'\n",
              "          + ' to learn more about interactive tables.';\n",
              "        element.innerHTML = '';\n",
              "        dataTable['output_type'] = 'display_data';\n",
              "        await google.colab.output.renderOutput(dataTable, element);\n",
              "        const docLink = document.createElement('div');\n",
              "        docLink.innerHTML = docLinkHtml;\n",
              "        element.appendChild(docLink);\n",
              "      }\n",
              "    </script>\n",
              "  </div>\n",
              "\n",
              "\n",
              "    <div id=\"df-3f7afca1-6842-44c6-94cc-4970330ed2a3\">\n",
              "      <button class=\"colab-df-quickchart\" onclick=\"quickchart('df-3f7afca1-6842-44c6-94cc-4970330ed2a3')\"\n",
              "                title=\"Suggest charts\"\n",
              "                style=\"display:none;\">\n",
              "\n",
              "<svg xmlns=\"http://www.w3.org/2000/svg\" height=\"24px\"viewBox=\"0 0 24 24\"\n",
              "     width=\"24px\">\n",
              "    <g>\n",
              "        <path d=\"M19 3H5c-1.1 0-2 .9-2 2v14c0 1.1.9 2 2 2h14c1.1 0 2-.9 2-2V5c0-1.1-.9-2-2-2zM9 17H7v-7h2v7zm4 0h-2V7h2v10zm4 0h-2v-4h2v4z\"/>\n",
              "    </g>\n",
              "</svg>\n",
              "      </button>\n",
              "\n",
              "<style>\n",
              "  .colab-df-quickchart {\n",
              "      --bg-color: #E8F0FE;\n",
              "      --fill-color: #1967D2;\n",
              "      --hover-bg-color: #E2EBFA;\n",
              "      --hover-fill-color: #174EA6;\n",
              "      --disabled-fill-color: #AAA;\n",
              "      --disabled-bg-color: #DDD;\n",
              "  }\n",
              "\n",
              "  [theme=dark] .colab-df-quickchart {\n",
              "      --bg-color: #3B4455;\n",
              "      --fill-color: #D2E3FC;\n",
              "      --hover-bg-color: #434B5C;\n",
              "      --hover-fill-color: #FFFFFF;\n",
              "      --disabled-bg-color: #3B4455;\n",
              "      --disabled-fill-color: #666;\n",
              "  }\n",
              "\n",
              "  .colab-df-quickchart {\n",
              "    background-color: var(--bg-color);\n",
              "    border: none;\n",
              "    border-radius: 50%;\n",
              "    cursor: pointer;\n",
              "    display: none;\n",
              "    fill: var(--fill-color);\n",
              "    height: 32px;\n",
              "    padding: 0;\n",
              "    width: 32px;\n",
              "  }\n",
              "\n",
              "  .colab-df-quickchart:hover {\n",
              "    background-color: var(--hover-bg-color);\n",
              "    box-shadow: 0 1px 2px rgba(60, 64, 67, 0.3), 0 1px 3px 1px rgba(60, 64, 67, 0.15);\n",
              "    fill: var(--button-hover-fill-color);\n",
              "  }\n",
              "\n",
              "  .colab-df-quickchart-complete:disabled,\n",
              "  .colab-df-quickchart-complete:disabled:hover {\n",
              "    background-color: var(--disabled-bg-color);\n",
              "    fill: var(--disabled-fill-color);\n",
              "    box-shadow: none;\n",
              "  }\n",
              "\n",
              "  .colab-df-spinner {\n",
              "    border: 2px solid var(--fill-color);\n",
              "    border-color: transparent;\n",
              "    border-bottom-color: var(--fill-color);\n",
              "    animation:\n",
              "      spin 1s steps(1) infinite;\n",
              "  }\n",
              "\n",
              "  @keyframes spin {\n",
              "    0% {\n",
              "      border-color: transparent;\n",
              "      border-bottom-color: var(--fill-color);\n",
              "      border-left-color: var(--fill-color);\n",
              "    }\n",
              "    20% {\n",
              "      border-color: transparent;\n",
              "      border-left-color: var(--fill-color);\n",
              "      border-top-color: var(--fill-color);\n",
              "    }\n",
              "    30% {\n",
              "      border-color: transparent;\n",
              "      border-left-color: var(--fill-color);\n",
              "      border-top-color: var(--fill-color);\n",
              "      border-right-color: var(--fill-color);\n",
              "    }\n",
              "    40% {\n",
              "      border-color: transparent;\n",
              "      border-right-color: var(--fill-color);\n",
              "      border-top-color: var(--fill-color);\n",
              "    }\n",
              "    60% {\n",
              "      border-color: transparent;\n",
              "      border-right-color: var(--fill-color);\n",
              "    }\n",
              "    80% {\n",
              "      border-color: transparent;\n",
              "      border-right-color: var(--fill-color);\n",
              "      border-bottom-color: var(--fill-color);\n",
              "    }\n",
              "    90% {\n",
              "      border-color: transparent;\n",
              "      border-bottom-color: var(--fill-color);\n",
              "    }\n",
              "  }\n",
              "</style>\n",
              "\n",
              "      <script>\n",
              "        async function quickchart(key) {\n",
              "          const quickchartButtonEl =\n",
              "            document.querySelector('#' + key + ' button');\n",
              "          quickchartButtonEl.disabled = true;  // To prevent multiple clicks.\n",
              "          quickchartButtonEl.classList.add('colab-df-spinner');\n",
              "          try {\n",
              "            const charts = await google.colab.kernel.invokeFunction(\n",
              "                'suggestCharts', [key], {});\n",
              "          } catch (error) {\n",
              "            console.error('Error during call to suggestCharts:', error);\n",
              "          }\n",
              "          quickchartButtonEl.classList.remove('colab-df-spinner');\n",
              "          quickchartButtonEl.classList.add('colab-df-quickchart-complete');\n",
              "        }\n",
              "        (() => {\n",
              "          let quickchartButtonEl =\n",
              "            document.querySelector('#df-3f7afca1-6842-44c6-94cc-4970330ed2a3 button');\n",
              "          quickchartButtonEl.style.display =\n",
              "            google.colab.kernel.accessAllowed ? 'block' : 'none';\n",
              "        })();\n",
              "      </script>\n",
              "    </div>\n",
              "    </div>\n",
              "  </div>\n"
            ],
            "application/vnd.google.colaboratory.intrinsic+json": {
              "type": "dataframe",
              "summary": "{\n  \"name\": \"df\",\n  \"rows\": 5,\n  \"fields\": [\n    {\n      \"column\": \"\\u0421\\u0441\\u044b\\u043b\\u043a\\u0430\",\n      \"properties\": {\n        \"dtype\": \"string\",\n        \"num_unique_values\": 5,\n        \"samples\": [\n          \"https://disk.yandex.ru/i/hbkEDrKSJRjSPg\",\n          \"https://disk.yandex.ru/i/AFVTcE-bJnSp9g\",\n          \"https://disk.yandex.ru/i/sPzn4okaWONUCg\"\n        ],\n        \"semantic_type\": \"\",\n        \"description\": \"\"\n      }\n    },\n    {\n      \"column\": \"\\u0421\\u0442\\u0430\\u0442\\u044c\\u044f\",\n      \"properties\": {\n        \"dtype\": \"string\",\n        \"num_unique_values\": 5,\n        \"samples\": [\n          \"\\u0420\\u0430\\u0437\\u0440\\u0430\\u0431\\u043e\\u0442\\u043a\\u0430 \\u0430\\u0440\\u0445\\u0438\\u0442\\u0435\\u043a\\u0442\\u0443\\u0440\\u044b \\u043f\\u0440\\u0435\\u0434\\u043f\\u0440\\u0438\\u044f\\u0442\\u0438\\u044f \\u0441 \\u0438\\u0441\\u043f\\u043e\\u043b\\u044c\\u0437\\u043e\\u0432\\u0430\\u043d\\u0438\\u0435\\u043c TOGAF ADM (\\u043d\\u0430 \\u043f\\u0440\\u0438\\u043c\\u0435\\u0440\\u0435 PT Dirgamitra Pasifik)\",\n          \"\\u0410\\u0440\\u0445\\u0438\\u0442\\u0435\\u043a\\u0442\\u0443\\u0440\\u0430 \\u0441\\u0438\\u0441\\u0442\\u0435\\u043c\\u044b \\u0443\\u043f\\u0440\\u0430\\u0432\\u043b\\u0435\\u043d\\u0438\\u044f \\u0446\\u0438\\u0444\\u0440\\u043e\\u0432\\u044b\\u043c\\u0438 \\u0434\\u0432\\u043e\\u0439\\u043d\\u0438\\u043a\\u0430\\u043c\\u0438 \\u043f\\u0440\\u043e\\u0438\\u0437\\u0432\\u043e\\u0434\\u0441\\u0442\\u0432 \\u043a\\u0430\\u043a \\u043e\\u0441\\u043d\\u043e\\u0432\\u0430 \\u0438\\u043d\\u0442\\u0435\\u0433\\u0440\\u0430\\u0446\\u0438\\u0438 \\u0440\\u0430\\u0437\\u043b\\u0438\\u0447\\u043d\\u044b\\u0445 \\u043c\\u043e\\u0434\\u0435\\u043b\\u0435\\u0439 \\u0438\\u0445 \\u043f\\u0440\\u0435\\u0434\\u0441\\u0442\\u0430\\u0432\\u043b\\u0435\\u043d\\u0438\\u0439\",\n          \"\\u0422\\u0435\\u0445\\u043d\\u043e\\u043b\\u043e\\u0433\\u0438\\u044f \\u0434\\u043e\\u043a\\u0443\\u043c\\u0435\\u043d\\u0442\\u0438\\u0440\\u043e\\u0432\\u0430\\u043d\\u0438\\u044f \\u043f\\u0440\\u043e\\u0446\\u0435\\u0441\\u0441\\u0430 \\u0440\\u0430\\u0437\\u0440\\u0430\\u0431\\u043e\\u0442\\u043a\\u0438 \\u043a\\u043e\\u0440\\u043f\\u043e\\u0440\\u0430\\u0442\\u0438\\u0432\\u043d\\u043e\\u0439 \\u0441\\u0442\\u0440\\u0430\\u0442\\u0435\\u0433\\u0438\\u0438\"\n        ],\n        \"semantic_type\": \"\",\n        \"description\": \"\"\n      }\n    },\n    {\n      \"column\": \"\\u0410\\u043d\\u043d\\u043e\\u0442\\u0430\\u0446\\u0438\\u044f \\u043d\\u0430 \\u0440\\u0443\\u0441\\u0441\\u043a\\u043e\\u043c\",\n      \"properties\": {\n        \"dtype\": \"string\",\n        \"num_unique_values\": 5,\n        \"samples\": [\n          \"\\u0421\\u0442\\u0430\\u0442\\u044c\\u044f \\u043f\\u043e\\u0441\\u0432\\u044f\\u0449\\u0435\\u043d\\u0430 \\u0440\\u0430\\u0437\\u0440\\u0430\\u0431\\u043e\\u0442\\u043a\\u0435 \\u0430\\u0440\\u0445\\u0438\\u0442\\u0435\\u043a\\u0442\\u0443\\u0440\\u044b \\u043f\\u0440\\u0435\\u0434\\u043f\\u0440\\u0438\\u044f\\u0442\\u0438\\u044f PT Dirgamitra Pasifik \\u0441 \\u0438\\u0441\\u043f\\u043e\\u043b\\u044c\\u0437\\u043e\\u0432\\u0430\\u043d\\u0438\\u0435\\u043c \\u043c\\u0435\\u0442\\u043e\\u0434\\u043e\\u043b\\u043e\\u0433\\u0438\\u0438 TOGAF ADM. \\u0412 \\u043a\\u043e\\u043c\\u043f\\u0430\\u043d\\u0438\\u0438, \\u0437\\u0430\\u043d\\u0438\\u043c\\u0430\\u044e\\u0449\\u0435\\u0439\\u0441\\u044f \\u0434\\u0438\\u0441\\u0442\\u0440\\u0438\\u0431\\u044c\\u044e\\u0446\\u0438\\u0435\\u0439 \\u0430\\u0432\\u0442\\u043e\\u0437\\u0430\\u043f\\u0447\\u0430\\u0441\\u0442\\u0435\\u0439, \\u043e\\u043f\\u0435\\u0440\\u0430\\u0442\\u0438\\u0432\\u043d\\u044b\\u0435 \\u043f\\u0440\\u043e\\u0446\\u0435\\u0441\\u0441\\u044b \\u043e\\u0441\\u0443\\u0449\\u0435\\u0441\\u0442\\u0432\\u043b\\u044f\\u044e\\u0442\\u0441\\u044f \\u0441 \\u043f\\u043e\\u043c\\u043e\\u0449\\u044c\\u044e Microsoft Office, \\u0447\\u0442\\u043e \\u043f\\u0440\\u0438\\u0432\\u043e\\u0434\\u0438\\u0442 \\u043a \\u0437\\u0430\\u0434\\u0435\\u0440\\u0436\\u043a\\u0430\\u043c \\u0432 \\u0444\\u0438\\u043d\\u0430\\u043d\\u0441\\u043e\\u0432\\u043e\\u0439 \\u043e\\u0442\\u0447\\u0435\\u0442\\u043d\\u043e\\u0441\\u0442\\u0438 \\u0438 \\u043f\\u0440\\u043e\\u0431\\u043b\\u0435\\u043c\\u0430\\u043c \\u0441 \\u043a\\u043e\\u043d\\u0444\\u0438\\u0434\\u0435\\u043d\\u0446\\u0438\\u0430\\u043b\\u044c\\u043d\\u043e\\u0441\\u0442\\u044c\\u044e \\u0434\\u0430\\u043d\\u043d\\u044b\\u0445. \\u0412 \\u0440\\u0435\\u0437\\u0443\\u043b\\u044c\\u0442\\u0430\\u0442\\u0435 \\u043f\\u0440\\u0438\\u043c\\u0435\\u043d\\u0435\\u043d\\u0438\\u044f TOGAF ADM \\u0440\\u0430\\u0437\\u0440\\u0430\\u0431\\u043e\\u0442\\u0430\\u043d\\u0430 \\u0430\\u0440\\u0445\\u0438\\u0442\\u0435\\u043a\\u0442\\u0443\\u0440\\u0430, \\u0432\\u043a\\u043b\\u044e\\u0447\\u0430\\u044e\\u0449\\u0430\\u044f \\u043c\\u0430\\u0440\\u043a\\u0435\\u0442\\u0438\\u043d\\u0433\\u043e\\u0432\\u0443\\u044e, \\u0437\\u0430\\u043a\\u0443\\u043f\\u043e\\u0447\\u043d\\u0443\\u044e, \\u0441\\u043a\\u043b\\u0430\\u0434\\u0441\\u043a\\u0443\\u044e, \\u0444\\u0438\\u043d\\u0430\\u043d\\u0441\\u043e\\u0432\\u0443\\u044e \\u0438 \\u043a\\u0430\\u0434\\u0440\\u043e\\u0432\\u0443\\u044e \\u0441\\u0438\\u0441\\u0442\\u0435\\u043c\\u044b, \\u043a\\u043e\\u0442\\u043e\\u0440\\u044b\\u0435 \\u0431\\u0443\\u0434\\u0443\\u0442 \\u0438\\u043d\\u0442\\u0435\\u0433\\u0440\\u0438\\u0440\\u043e\\u0432\\u0430\\u043d\\u044b \\u0434\\u043b\\u044f \\u043f\\u043e\\u0432\\u044b\\u0448\\u0435\\u043d\\u0438\\u044f \\u044d\\u0444\\u0444\\u0435\\u043a\\u0442\\u0438\\u0432\\u043d\\u043e\\u0441\\u0442\\u0438 \\u0440\\u0430\\u0431\\u043e\\u0442\\u044b \\u043a\\u043e\\u043c\\u043f\\u0430\\u043d\\u0438\\u0438.\",\n          \"\\u0421\\u0442\\u0430\\u0442\\u044c\\u044f \\u043f\\u043e\\u0441\\u0432\\u044f\\u0449\\u0435\\u043d\\u0430 \\u0440\\u0430\\u0437\\u0440\\u0430\\u0431\\u043e\\u0442\\u043a\\u0435 \\u0430\\u0440\\u0445\\u0438\\u0442\\u0435\\u043a\\u0442\\u0443\\u0440\\u044b \\u0441\\u0438\\u0441\\u0442\\u0435\\u043c\\u044b \\u0443\\u043f\\u0440\\u0430\\u0432\\u043b\\u0435\\u043d\\u0438\\u044f \\u0446\\u0438\\u0444\\u0440\\u043e\\u0432\\u044b\\u043c\\u0438 \\u0434\\u0432\\u043e\\u0439\\u043d\\u0438\\u043a\\u0430\\u043c\\u0438 \\u043f\\u0440\\u043e\\u0438\\u0437\\u0432\\u043e\\u0434\\u0441\\u0442\\u0432\\u0435\\u043d\\u043d\\u044b\\u0445 \\u0441\\u0438\\u0441\\u0442\\u0435\\u043c, \\u043e\\u0431\\u0435\\u0441\\u043f\\u0435\\u0447\\u0438\\u0432\\u0430\\u044e\\u0449\\u0435\\u0439 \\u0433\\u043e\\u0440\\u0438\\u0437\\u043e\\u043d\\u0442\\u0430\\u043b\\u044c\\u043d\\u0443\\u044e \\u0438 \\u0432\\u0435\\u0440\\u0442\\u0438\\u043a\\u0430\\u043b\\u044c\\u043d\\u0443\\u044e \\u0438\\u043d\\u0442\\u0435\\u0433\\u0440\\u0430\\u0446\\u0438\\u044e \\u0443\\u0447\\u0430\\u0441\\u0442\\u043d\\u0438\\u043a\\u043e\\u0432 \\u0436\\u0438\\u0437\\u043d\\u0435\\u043d\\u043d\\u043e\\u0433\\u043e \\u0446\\u0438\\u043a\\u043b\\u0430 \\u043f\\u0440\\u043e\\u0434\\u0443\\u043a\\u0442\\u0430. \\u0420\\u0430\\u0441\\u0441\\u043c\\u0430\\u0442\\u0440\\u0438\\u0432\\u0430\\u044e\\u0442\\u0441\\u044f \\u043c\\u0435\\u0442\\u043e\\u0434\\u0438\\u0447\\u0435\\u0441\\u043a\\u0438\\u0435 \\u043f\\u043e\\u0434\\u0445\\u043e\\u0434\\u044b \\u043a \\u043f\\u0440\\u043e\\u0435\\u043a\\u0442\\u0438\\u0440\\u043e\\u0432\\u0430\\u043d\\u0438\\u044e \\u0442\\u0430\\u043a\\u043e\\u0439 \\u0430\\u0440\\u0445\\u0438\\u0442\\u0435\\u043a\\u0442\\u0443\\u0440\\u044b \\u043d\\u0430 \\u043e\\u0441\\u043d\\u043e\\u0432\\u0435 \\u043c\\u0435\\u0436\\u0434\\u0443\\u043d\\u0430\\u0440\\u043e\\u0434\\u043d\\u044b\\u0445 \\u0441\\u0442\\u0430\\u043d\\u0434\\u0430\\u0440\\u0442\\u043e\\u0432 \\u0438 \\u043f\\u0440\\u0430\\u043a\\u0442\\u0438\\u043a \\u0430\\u0440\\u0445\\u0438\\u0442\\u0435\\u043a\\u0442\\u0443\\u0440\\u043d\\u043e\\u0433\\u043e \\u0438 \\u0441\\u0438\\u0441\\u0442\\u0435\\u043c\\u043d\\u043e-\\u0438\\u043d\\u0436\\u0435\\u043d\\u0435\\u0440\\u043d\\u043e\\u0433\\u043e \\u043f\\u0440\\u043e\\u0435\\u043a\\u0442\\u0438\\u0440\\u043e\\u0432\\u0430\\u043d\\u0438\\u044f. \\u041f\\u0440\\u0435\\u0434\\u043b\\u043e\\u0436\\u0435\\u043d\\u0430 \\u0442\\u0438\\u043f\\u043e\\u0432\\u0430\\u044f \\u0430\\u0440\\u0445\\u0438\\u0442\\u0435\\u043a\\u0442\\u0443\\u0440\\u0430 \\u0441\\u0438\\u0441\\u0442\\u0435\\u043c\\u044b \\u0443\\u043f\\u0440\\u0430\\u0432\\u043b\\u0435\\u043d\\u0438\\u044f \\u0446\\u0438\\u0444\\u0440\\u043e\\u0432\\u044b\\u043c\\u0438 \\u0434\\u0432\\u043e\\u0439\\u043d\\u0438\\u043a\\u0430\\u043c\\u0438, \\u043a\\u043e\\u0442\\u043e\\u0440\\u0430\\u044f \\u043c\\u043e\\u0436\\u0435\\u0442 \\u0441\\u0442\\u0430\\u0442\\u044c \\u043e\\u0441\\u043d\\u043e\\u0432\\u043e\\u0439 \\u0434\\u043b\\u044f \\u0432\\u043d\\u0435\\u0434\\u0440\\u0435\\u043d\\u0438\\u044f \\u0440\\u0430\\u0441\\u043f\\u0440\\u0435\\u0434\\u0435\\u043b\\u0435\\u043d\\u043d\\u044b\\u0445 \\u043e\\u0442\\u0440\\u0430\\u0441\\u043b\\u0435\\u0432\\u044b\\u0445 \\u0441\\u0438\\u0441\\u0442\\u0435\\u043c \\u0443\\u043f\\u0440\\u0430\\u0432\\u043b\\u0435\\u043d\\u0438\\u044f \\u0434\\u0430\\u043d\\u043d\\u044b\\u043c\\u0438.\",\n          \"\\u0412 \\u0441\\u0442\\u0430\\u0442\\u044c\\u0435 \\u0440\\u0430\\u0441\\u0441\\u043c\\u0430\\u0442\\u0440\\u0438\\u0432\\u0430\\u0435\\u0442\\u0441\\u044f \\u043f\\u0440\\u043e\\u0431\\u043b\\u0435\\u043c\\u0430 \\u043e\\u0442\\u0441\\u0443\\u0442\\u0441\\u0442\\u0432\\u0438\\u044f \\u044d\\u0444\\u0444\\u0435\\u043a\\u0442\\u0438\\u0432\\u043d\\u044b\\u0445 \\u0438\\u043d\\u0441\\u0442\\u0440\\u0443\\u043c\\u0435\\u043d\\u0442\\u043e\\u0432 \\u0444\\u043e\\u0440\\u043c\\u0430\\u043b\\u0438\\u0437\\u0430\\u0446\\u0438\\u0438 \\u0438 \\u0434\\u043e\\u043a\\u0443\\u043c\\u0435\\u043d\\u0442\\u0438\\u0440\\u043e\\u0432\\u0430\\u043d\\u0438\\u044f \\u043c\\u0438\\u0441\\u0441\\u0438\\u0438, \\u0441\\u0442\\u0440\\u0430\\u0442\\u0435\\u0433\\u0438\\u0438 \\u0438 \\u0446\\u0435\\u043b\\u0435\\u0439 \\u043e\\u0440\\u0433\\u0430\\u043d\\u0438\\u0437\\u0430\\u0446\\u0438\\u0438 \\u0432 \\u0441\\u0444\\u0435\\u0440\\u0435 \\u0441\\u0442\\u0440\\u0430\\u0442\\u0435\\u0433\\u0438\\u0447\\u0435\\u0441\\u043a\\u043e\\u0433\\u043e \\u043c\\u0435\\u043d\\u0435\\u0434\\u0436\\u043c\\u0435\\u043d\\u0442\\u0430. \\u041f\\u0440\\u0435\\u0434\\u043b\\u043e\\u0436\\u0435\\u043d\\u0430 \\u0442\\u0435\\u0445\\u043d\\u043e\\u043b\\u043e\\u0433\\u0438\\u044f \\u0434\\u043e\\u043a\\u0443\\u043c\\u0435\\u043d\\u0442\\u0438\\u0440\\u043e\\u0432\\u0430\\u043d\\u0438\\u044f \\u043f\\u0440\\u043e\\u0446\\u0435\\u0441\\u0441\\u0430 \\u0441\\u0442\\u0440\\u0430\\u0442\\u0435\\u0433\\u0438\\u0447\\u0435\\u0441\\u043a\\u043e\\u0433\\u043e \\u043c\\u0435\\u043d\\u0435\\u0434\\u0436\\u043c\\u0435\\u043d\\u0442\\u0430 \\u043d\\u0430 \\u0431\\u0430\\u0437\\u0435 \\u043c\\u0435\\u0442\\u043e\\u0434\\u043e\\u043b\\u043e\\u0433\\u0438\\u0438 TOGAF \\u0438 \\u044f\\u0437\\u044b\\u043a\\u0430 \\u0432\\u0438\\u0437\\u0443\\u0430\\u043b\\u044c\\u043d\\u043e\\u0433\\u043e \\u043c\\u043e\\u0434\\u0435\\u043b\\u0438\\u0440\\u043e\\u0432\\u0430\\u043d\\u0438\\u044f ArchiMate. \\u041e\\u043f\\u0438\\u0441\\u0430\\u043d\\u044b \\u043e\\u0441\\u043d\\u043e\\u0432\\u043d\\u044b\\u0435 \\u043f\\u043e\\u043d\\u044f\\u0442\\u0438\\u044f \\u0438 \\u043f\\u0440\\u043e\\u0446\\u0435\\u0441\\u0441 \\u0434\\u043e\\u043a\\u0443\\u043c\\u0435\\u043d\\u0442\\u0438\\u0440\\u043e\\u0432\\u0430\\u043d\\u0438\\u044f \\u0441\\u0442\\u0440\\u0430\\u0442\\u0435\\u0433\\u0438\\u0438 \\u043a\\u043e\\u043c\\u043f\\u0430\\u043d\\u0438\\u0438, \\u0447\\u0442\\u043e \\u043f\\u043e\\u0437\\u0432\\u043e\\u043b\\u044f\\u0435\\u0442 \\u0441\\u043e\\u0437\\u0434\\u0430\\u0442\\u044c \\u0435\\u0434\\u0438\\u043d\\u0443\\u044e \\u043c\\u0435\\u0442\\u043e\\u0434\\u043e\\u043b\\u043e\\u0433\\u0438\\u0447\\u0435\\u0441\\u043a\\u0443\\u044e \\u043f\\u043b\\u0430\\u0442\\u0444\\u043e\\u0440\\u043c\\u0443 \\u0434\\u043b\\u044f \\u043e\\u0431\\u044a\\u0435\\u0434\\u0438\\u043d\\u0435\\u043d\\u0438\\u044f \\u0442\\u0440\\u0430\\u0434\\u0438\\u0446\\u0438\\u043e\\u043d\\u043d\\u044b\\u0445 \\u043c\\u0435\\u0442\\u043e\\u0434\\u043e\\u0432 \\u0441\\u0442\\u0440\\u0430\\u0442\\u0435\\u0433\\u0438\\u0447\\u0435\\u0441\\u043a\\u043e\\u0433\\u043e \\u0430\\u043d\\u0430\\u043b\\u0438\\u0437\\u0430 \\u0438 \\u0434\\u0435\\u0442\\u0430\\u043b\\u044c\\u043d\\u044b\\u0445 \\u044f\\u0437\\u044b\\u043a\\u043e\\u0432 \\u043e\\u043f\\u0438\\u0441\\u0430\\u043d\\u0438\\u044f \\u0431\\u0438\\u0437\\u043d\\u0435\\u0441-\\u043f\\u0440\\u043e\\u0446\\u0435\\u0441\\u0441\\u043e\\u0432.\"\n        ],\n        \"semantic_type\": \"\",\n        \"description\": \"\"\n      }\n    },\n    {\n      \"column\": \"\\u0416\\u0443\\u0440\\u043d\\u0430\\u043b\",\n      \"properties\": {\n        \"dtype\": \"string\",\n        \"num_unique_values\": 5,\n        \"samples\": [\n          \"\\u041c\\u0435\\u0436\\u0434\\u0443\\u043d\\u0430\\u0440\\u043e\\u0434\\u043d\\u044b\\u0439 \\u0436\\u0443\\u0440\\u043d\\u0430\\u043b \\u043e\\u0442\\u043a\\u0440\\u044b\\u0442\\u044b\\u0445 \\u0438\\u043d\\u0444\\u043e\\u0440\\u043c\\u0430\\u0446\\u0438\\u043e\\u043d\\u043d\\u044b\\u0445 \\u0442\\u0435\\u0445\\u043d\\u043e\\u043b\\u043e\\u0433\\u0438\\u0439 (International Journal of Open Information Technologies)\",\n          \"\\u0412\\u0435\\u0441\\u0442\\u043d\\u0438\\u043a \\u0420\\u0413\\u0420\\u0422\\u0423\",\n          \"\\u0412\\u0441\\u0435\\u0440\\u043e\\u0441\\u0441\\u0438\\u0439\\u0441\\u043a\\u0438\\u0439 \\u0436\\u0443\\u0440\\u043d\\u0430\\u043b\"\n        ],\n        \"semantic_type\": \"\",\n        \"description\": \"\"\n      }\n    },\n    {\n      \"column\": \"10 \\u043a\\u043b\\u044e\\u0447\\u0435\\u0432\\u044b\\u0445 \\u0441\\u043b\\u043e\\u0432 \\u0441 \\u043e\\u043f\\u0440\\u0435\\u0434\\u0435\\u043b\\u0435\\u043d\\u0438\\u0435\\u043d\\u0438\\u0435\\u043c \\u043d\\u0430 \\u0440\\u0443\\u0441\\u0441\\u043a\\u043e\\u043c\",\n      \"properties\": {\n        \"dtype\": \"string\",\n        \"num_unique_values\": 5,\n        \"samples\": [\n          \"\\u0410\\u0440\\u0445\\u0438\\u0442\\u0435\\u043a\\u0442\\u0443\\u0440\\u0430 \\u043f\\u0440\\u0435\\u0434\\u043f\\u0440\\u0438\\u044f\\u0442\\u0438\\u044f (Enterprise architecture)\\u041e\\u043f\\u0440\\u0435\\u0434\\u0435\\u043b\\u0435\\u043d\\u0438\\u0435: \\u0421\\u0438\\u0441\\u0442\\u0435\\u043c\\u043d\\u043e\\u0435 \\u043e\\u043f\\u0438\\u0441\\u0430\\u043d\\u0438\\u0435 \\u0432\\u0441\\u0435\\u0445 \\u043a\\u043b\\u044e\\u0447\\u0435\\u0432\\u044b\\u0445 \\u044d\\u043b\\u0435\\u043c\\u0435\\u043d\\u0442\\u043e\\u0432 \\u043f\\u0440\\u0435\\u0434\\u043f\\u0440\\u0438\\u044f\\u0442\\u0438\\u044f \\u0438 \\u0438\\u0445 \\u0432\\u0437\\u0430\\u0438\\u043c\\u043e\\u0441\\u0432\\u044f\\u0437\\u0435\\u0439, \\u0432\\u043a\\u043b\\u044e\\u0447\\u0430\\u044e\\u0449\\u0435\\u0435 \\u0431\\u0438\\u0437\\u043d\\u0435\\u0441-\\u043f\\u0440\\u043e\\u0446\\u0435\\u0441\\u0441\\u044b, \\u0438\\u043d\\u0444\\u043e\\u0440\\u043c\\u0430\\u0446\\u0438\\u043e\\u043d\\u043d\\u044b\\u0435 \\u0441\\u0438\\u0441\\u0442\\u0435\\u043c\\u044b \\u0438 \\u0442\\u0435\\u0445\\u043d\\u043e\\u043b\\u043e\\u0433\\u0438\\u0438.\\nTOGAF ADM (The Open Group Architecture Framework Architecture Development Method)\\u041e\\u043f\\u0440\\u0435\\u0434\\u0435\\u043b\\u0435\\u043d\\u0438\\u0435: \\u041c\\u0435\\u0442\\u043e\\u0434\\u043e\\u043b\\u043e\\u0433\\u0438\\u044f \\u0440\\u0430\\u0437\\u0440\\u0430\\u0431\\u043e\\u0442\\u043a\\u0438 \\u0430\\u0440\\u0445\\u0438\\u0442\\u0435\\u043a\\u0442\\u0443\\u0440\\u044b \\u043f\\u0440\\u0435\\u0434\\u043f\\u0440\\u0438\\u044f\\u0442\\u0438\\u044f, \\u0432\\u043a\\u043b\\u044e\\u0447\\u0430\\u044e\\u0449\\u0430\\u044f \\u044d\\u0442\\u0430\\u043f\\u044b \\u043e\\u0442 \\u043f\\u0440\\u0435\\u0434\\u0432\\u0430\\u0440\\u0438\\u0442\\u0435\\u043b\\u044c\\u043d\\u043e\\u0433\\u043e \\u0430\\u043d\\u0430\\u043b\\u0438\\u0437\\u0430 \\u0434\\u043e \\u043f\\u043b\\u0430\\u043d\\u0438\\u0440\\u043e\\u0432\\u0430\\u043d\\u0438\\u044f \\u043c\\u0438\\u0433\\u0440\\u0430\\u0446\\u0438\\u0438.\\n\\u0418\\u043d\\u0444\\u043e\\u0440\\u043c\\u0430\\u0446\\u0438\\u043e\\u043d\\u043d\\u0430\\u044f \\u043f\\u043e\\u0434\\u0434\\u0435\\u0440\\u0436\\u043a\\u0430 (Information support)\\u041e\\u043f\\u0440\\u0435\\u0434\\u0435\\u043b\\u0435\\u043d\\u0438\\u0435: \\u0421\\u043e\\u0432\\u043e\\u043a\\u0443\\u043f\\u043d\\u043e\\u0441\\u0442\\u044c \\u0438\\u043d\\u0444\\u043e\\u0440\\u043c\\u0430\\u0446\\u0438\\u043e\\u043d\\u043d\\u044b\\u0445 \\u0441\\u0438\\u0441\\u0442\\u0435\\u043c \\u0438 \\u0442\\u0435\\u0445\\u043d\\u043e\\u043b\\u043e\\u0433\\u0438\\u0439, \\u043e\\u0431\\u0435\\u0441\\u043f\\u0435\\u0447\\u0438\\u0432\\u0430\\u044e\\u0449\\u0438\\u0445 \\u043f\\u043e\\u0434\\u0434\\u0435\\u0440\\u0436\\u043a\\u0443 \\u0431\\u0438\\u0437\\u043d\\u0435\\u0441-\\u043f\\u0440\\u043e\\u0446\\u0435\\u0441\\u0441\\u043e\\u0432 \\u043f\\u0440\\u0435\\u0434\\u043f\\u0440\\u0438\\u044f\\u0442\\u0438\\u044f.\\n\\u0418\\u043d\\u0444\\u043e\\u0440\\u043c\\u0430\\u0442\\u0438\\u0437\\u0430\\u0446\\u0438\\u044f \\u043f\\u0440\\u0435\\u0434\\u043f\\u0440\\u0438\\u044f\\u0442\\u0438\\u044f (Enterprise informatization)\\u041e\\u043f\\u0440\\u0435\\u0434\\u0435\\u043b\\u0435\\u043d\\u0438\\u0435: \\u041f\\u0440\\u043e\\u0446\\u0435\\u0441\\u0441 \\u0432\\u043d\\u0435\\u0434\\u0440\\u0435\\u043d\\u0438\\u044f \\u0438 \\u0438\\u0441\\u043f\\u043e\\u043b\\u044c\\u0437\\u043e\\u0432\\u0430\\u043d\\u0438\\u044f \\u0438\\u043d\\u0444\\u043e\\u0440\\u043c\\u0430\\u0446\\u0438\\u043e\\u043d\\u043d\\u044b\\u0445 \\u0442\\u0435\\u0445\\u043d\\u043e\\u043b\\u043e\\u0433\\u0438\\u0439 \\u0434\\u043b\\u044f \\u043f\\u043e\\u0432\\u044b\\u0448\\u0435\\u043d\\u0438\\u044f \\u044d\\u0444\\u0444\\u0435\\u043a\\u0442\\u0438\\u0432\\u043d\\u043e\\u0441\\u0442\\u0438 \\u0434\\u0435\\u044f\\u0442\\u0435\\u043b\\u044c\\u043d\\u043e\\u0441\\u0442\\u0438 \\u043f\\u0440\\u0435\\u0434\\u043f\\u0440\\u0438\\u044f\\u0442\\u0438\\u044f.\\n\\u0411\\u0438\\u0437\\u043d\\u0435\\u0441-\\u043f\\u0440\\u043e\\u0446\\u0435\\u0441\\u0441\\u044b (Business processes)\\u041e\\u043f\\u0440\\u0435\\u0434\\u0435\\u043b\\u0435\\u043d\\u0438\\u0435: \\u041f\\u043e\\u0441\\u043b\\u0435\\u0434\\u043e\\u0432\\u0430\\u0442\\u0435\\u043b\\u044c\\u043d\\u043e\\u0441\\u0442\\u044c \\u0434\\u0435\\u0439\\u0441\\u0442\\u0432\\u0438\\u0439, \\u043d\\u0430\\u043f\\u0440\\u0430\\u0432\\u043b\\u0435\\u043d\\u043d\\u044b\\u0445 \\u043d\\u0430 \\u0434\\u043e\\u0441\\u0442\\u0438\\u0436\\u0435\\u043d\\u0438\\u0435 \\u043a\\u043e\\u043d\\u043a\\u0440\\u0435\\u0442\\u043d\\u044b\\u0445 \\u0446\\u0435\\u043b\\u0435\\u0439 \\u043f\\u0440\\u0435\\u0434\\u043f\\u0440\\u0438\\u044f\\u0442\\u0438\\u044f.\\n\\u0422\\u0435\\u0445\\u043d\\u043e\\u043b\\u043e\\u0433\\u0438\\u0447\\u0435\\u0441\\u043a\\u0430\\u044f \\u0430\\u0440\\u0445\\u0438\\u0442\\u0435\\u043a\\u0442\\u0443\\u0440\\u0430 (Technological architecture)\\u041e\\u043f\\u0440\\u0435\\u0434\\u0435\\u043b\\u0435\\u043d\\u0438\\u0435: \\u0427\\u0430\\u0441\\u0442\\u044c \\u0430\\u0440\\u0445\\u0438\\u0442\\u0435\\u043a\\u0442\\u0443\\u0440\\u044b \\u043f\\u0440\\u0435\\u0434\\u043f\\u0440\\u0438\\u044f\\u0442\\u0438\\u044f, \\u043e\\u043f\\u0438\\u0441\\u044b\\u0432\\u0430\\u044e\\u0449\\u0430\\u044f \\u0442\\u0435\\u0445\\u043d\\u0438\\u0447\\u0435\\u0441\\u043a\\u0438\\u0435 \\u0441\\u0440\\u0435\\u0434\\u0441\\u0442\\u0432\\u0430 \\u0438 \\u0438\\u043d\\u0444\\u0440\\u0430\\u0441\\u0442\\u0440\\u0443\\u043a\\u0442\\u0443\\u0440\\u0443, \\u043e\\u0431\\u0435\\u0441\\u043f\\u0435\\u0447\\u0438\\u0432\\u0430\\u044e\\u0449\\u0438\\u0435 \\u0440\\u0430\\u0431\\u043e\\u0442\\u0443 \\u0438\\u043d\\u0444\\u043e\\u0440\\u043c\\u0430\\u0446\\u0438\\u043e\\u043d\\u043d\\u044b\\u0445 \\u0441\\u0438\\u0441\\u0442\\u0435\\u043c.\\n\\u0424\\u0443\\u043d\\u043a\\u0446\\u0438\\u043e\\u043d\\u0430\\u043b\\u044c\\u043d\\u044b\\u0435 \\u043a\\u043e\\u043c\\u043f\\u043e\\u043d\\u0435\\u043d\\u0442\\u044b (Functional components)\\u041e\\u043f\\u0440\\u0435\\u0434\\u0435\\u043b\\u0435\\u043d\\u0438\\u0435: \\u041e\\u0442\\u0434\\u0435\\u043b\\u044c\\u043d\\u044b\\u0435 \\u044d\\u043b\\u0435\\u043c\\u0435\\u043d\\u0442\\u044b \\u0430\\u0440\\u0445\\u0438\\u0442\\u0435\\u043a\\u0442\\u0443\\u0440\\u044b \\u043f\\u0440\\u0435\\u0434\\u043f\\u0440\\u0438\\u044f\\u0442\\u0438\\u044f, \\u0432\\u044b\\u043f\\u043e\\u043b\\u043d\\u044f\\u044e\\u0449\\u0438\\u0435 \\u043e\\u043f\\u0440\\u0435\\u0434\\u0435\\u043b\\u0435\\u043d\\u043d\\u044b\\u0435 \\u0444\\u0443\\u043d\\u043a\\u0446\\u0438\\u0438 \\u0432 \\u0431\\u0438\\u0437\\u043d\\u0435\\u0441-\\u043f\\u0440\\u043e\\u0446\\u0435\\u0441\\u0441\\u0430\\u0445.\\n\\u041f\\u0440\\u043e\\u0435\\u043a\\u0442\\u0438\\u0440\\u043e\\u0432\\u0430\\u043d\\u0438\\u0435 \\u0430\\u0440\\u0445\\u0438\\u0442\\u0435\\u043a\\u0442\\u0443\\u0440\\u044b (Designing the enterprise architecture)\\u041e\\u043f\\u0440\\u0435\\u0434\\u0435\\u043b\\u0435\\u043d\\u0438\\u0435: \\u041f\\u0440\\u043e\\u0446\\u0435\\u0441\\u0441 \\u0441\\u043e\\u0437\\u0434\\u0430\\u043d\\u0438\\u044f \\u0438 \\u043e\\u043f\\u0442\\u0438\\u043c\\u0438\\u0437\\u0430\\u0446\\u0438\\u0438 \\u0430\\u0440\\u0445\\u0438\\u0442\\u0435\\u043a\\u0442\\u0443\\u0440\\u044b \\u043f\\u0440\\u0435\\u0434\\u043f\\u0440\\u0438\\u044f\\u0442\\u0438\\u044f \\u0434\\u043b\\u044f \\u0434\\u043e\\u0441\\u0442\\u0438\\u0436\\u0435\\u043d\\u0438\\u044f \\u0441\\u0442\\u0440\\u0430\\u0442\\u0435\\u0433\\u0438\\u0447\\u0435\\u0441\\u043a\\u0438\\u0445 \\u0446\\u0435\\u043b\\u0435\\u0439.\\n\\u041c\\u0438\\u0433\\u0440\\u0430\\u0446\\u0438\\u044f (Migration)\\u041e\\u043f\\u0440\\u0435\\u0434\\u0435\\u043b\\u0435\\u043d\\u0438\\u0435: \\u041f\\u0440\\u043e\\u0446\\u0435\\u0441\\u0441 \\u043f\\u0435\\u0440\\u0435\\u0445\\u043e\\u0434\\u0430 \\u043e\\u0442 \\u0442\\u0435\\u043a\\u0443\\u0449\\u0435\\u0439 \\u0430\\u0440\\u0445\\u0438\\u0442\\u0435\\u043a\\u0442\\u0443\\u0440\\u044b \\u043f\\u0440\\u0435\\u0434\\u043f\\u0440\\u0438\\u044f\\u0442\\u0438\\u044f \\u043a \\u043d\\u043e\\u0432\\u043e\\u0439, \\u0431\\u043e\\u043b\\u0435\\u0435 \\u044d\\u0444\\u0444\\u0435\\u043a\\u0442\\u0438\\u0432\\u043d\\u043e\\u0439.\\n\\u041a\\u043e\\u043d\\u0444\\u0438\\u0434\\u0435\\u043d\\u0446\\u0438\\u0430\\u043b\\u044c\\u043d\\u043e\\u0441\\u0442\\u044c (Confidentiality)\\u041e\\u043f\\u0440\\u0435\\u0434\\u0435\\u043b\\u0435\\u043d\\u0438\\u0435: \\u0417\\u0430\\u0449\\u0438\\u0442\\u0430 \\u0434\\u0430\\u043d\\u043d\\u044b\\u0445 \\u043e\\u0442 \\u043d\\u0435\\u0441\\u0430\\u043d\\u043a\\u0446\\u0438\\u043e\\u043d\\u0438\\u0440\\u043e\\u0432\\u0430\\u043d\\u043d\\u043e\\u0433\\u043e \\u0434\\u043e\\u0441\\u0442\\u0443\\u043f\\u0430 \\u0438 \\u0438\\u0441\\u043f\\u043e\\u043b\\u044c\\u0437\\u043e\\u0432\\u0430\\u043d\\u0438\\u044f.\",\n          \"\\u0426\\u0438\\u0444\\u0440\\u043e\\u0432\\u044b\\u0435 \\u0434\\u0432\\u043e\\u0439\\u043d\\u0438\\u043a\\u0438 (Digital twins)\\u041e\\u043f\\u0440\\u0435\\u0434\\u0435\\u043b\\u0435\\u043d\\u0438\\u0435: \\u0426\\u0438\\u0444\\u0440\\u043e\\u0432\\u0430\\u044f \\u043a\\u043e\\u043f\\u0438\\u044f \\u043e\\u0431\\u044a\\u0435\\u043a\\u0442\\u0430, \\u0438\\u0441\\u043f\\u043e\\u043b\\u044c\\u0437\\u0443\\u0435\\u043c\\u0430\\u044f \\u0434\\u043b\\u044f \\u0443\\u043f\\u0440\\u0430\\u0432\\u043b\\u0435\\u043d\\u0438\\u044f \\u0438 \\u0430\\u043d\\u0430\\u043b\\u0438\\u0437\\u0430 \\u0435\\u0433\\u043e \\u0441\\u043e\\u0441\\u0442\\u043e\\u044f\\u043d\\u0438\\u044f.\\n\\u041f\\u0440\\u043e\\u0438\\u0437\\u0432\\u043e\\u0434\\u0441\\u0442\\u0432\\u0435\\u043d\\u043d\\u0430\\u044f \\u0441\\u0438\\u0441\\u0442\\u0435\\u043c\\u0430 \\u043f\\u0440\\u0435\\u0434\\u043f\\u0440\\u0438\\u044f\\u0442\\u0438\\u044f (Enterprise production system)\\u041e\\u043f\\u0440\\u0435\\u0434\\u0435\\u043b\\u0435\\u043d\\u0438\\u0435: \\u0421\\u043e\\u0432\\u043e\\u043a\\u0443\\u043f\\u043d\\u043e\\u0441\\u0442\\u044c \\u043f\\u0440\\u043e\\u0446\\u0435\\u0441\\u0441\\u043e\\u0432 \\u0438 \\u0440\\u0435\\u0441\\u0443\\u0440\\u0441\\u043e\\u0432, \\u043e\\u0431\\u0435\\u0441\\u043f\\u0435\\u0447\\u0438\\u0432\\u0430\\u044e\\u0449\\u0438\\u0445 \\u043f\\u0440\\u043e\\u0438\\u0437\\u0432\\u043e\\u0434\\u0441\\u0442\\u0432\\u043e \\u043f\\u0440\\u043e\\u0434\\u0443\\u043a\\u0446\\u0438\\u0438.\\n\\u0410\\u0440\\u0445\\u0438\\u0442\\u0435\\u043a\\u0442\\u0443\\u0440\\u043d\\u043e\\u0435 \\u043f\\u0440\\u043e\\u0435\\u043a\\u0442\\u0438\\u0440\\u043e\\u0432\\u0430\\u043d\\u0438\\u0435 (Architectural design)\\u041e\\u043f\\u0440\\u0435\\u0434\\u0435\\u043b\\u0435\\u043d\\u0438\\u0435: \\u041f\\u0440\\u043e\\u0446\\u0435\\u0441\\u0441 \\u0441\\u043e\\u0437\\u0434\\u0430\\u043d\\u0438\\u044f \\u0441\\u0442\\u0440\\u0443\\u043a\\u0442\\u0443\\u0440\\u043d\\u043e\\u0433\\u043e \\u043e\\u043f\\u0438\\u0441\\u0430\\u043d\\u0438\\u044f \\u0441\\u0438\\u0441\\u0442\\u0435\\u043c\\u044b, \\u043e\\u043f\\u0440\\u0435\\u0434\\u0435\\u043b\\u044f\\u044e\\u0449\\u0435\\u0433\\u043e \\u0435\\u0451 \\u043a\\u043e\\u043c\\u043f\\u043e\\u043d\\u0435\\u043d\\u0442\\u044b \\u0438 \\u0438\\u0445 \\u0432\\u0437\\u0430\\u0438\\u043c\\u043e\\u0434\\u0435\\u0439\\u0441\\u0442\\u0432\\u0438\\u0435.\\n\\u0421\\u0438\\u0441\\u0442\\u0435\\u043c\\u043d\\u0430\\u044f \\u0438\\u043d\\u0436\\u0435\\u043d\\u0435\\u0440\\u0438\\u044f (System engineering)\\u041e\\u043f\\u0440\\u0435\\u0434\\u0435\\u043b\\u0435\\u043d\\u0438\\u0435: \\u0414\\u0438\\u0441\\u0446\\u0438\\u043f\\u043b\\u0438\\u043d\\u0430, \\u0437\\u0430\\u043d\\u0438\\u043c\\u0430\\u044e\\u0449\\u0430\\u044f\\u0441\\u044f \\u043f\\u0440\\u043e\\u0435\\u043a\\u0442\\u0438\\u0440\\u043e\\u0432\\u0430\\u043d\\u0438\\u0435\\u043c \\u0438 \\u0443\\u043f\\u0440\\u0430\\u0432\\u043b\\u0435\\u043d\\u0438\\u0435\\u043c \\u043a\\u043e\\u043c\\u043f\\u043b\\u0435\\u043a\\u0441\\u043d\\u044b\\u043c\\u0438 \\u0441\\u0438\\u0441\\u0442\\u0435\\u043c\\u0430\\u043c\\u0438.\\n\\u0421\\u0438\\u0441\\u0442\\u0435\\u043c\\u0430 \\u0443\\u043f\\u0440\\u0430\\u0432\\u043b\\u0435\\u043d\\u0438\\u044f \\u0446\\u0438\\u0444\\u0440\\u043e\\u0432\\u044b\\u043c\\u0438 \\u0434\\u0432\\u043e\\u0439\\u043d\\u0438\\u043a\\u0430\\u043c\\u0438 (Digital twin management system)\\u041e\\u043f\\u0440\\u0435\\u0434\\u0435\\u043b\\u0435\\u043d\\u0438\\u0435: \\u0421\\u0438\\u0441\\u0442\\u0435\\u043c\\u0430, \\u043e\\u0431\\u0435\\u0441\\u043f\\u0435\\u0447\\u0438\\u0432\\u0430\\u044e\\u0449\\u0430\\u044f \\u0443\\u043f\\u0440\\u0430\\u0432\\u043b\\u0435\\u043d\\u0438\\u0435 \\u0446\\u0438\\u0444\\u0440\\u043e\\u0432\\u044b\\u043c\\u0438 \\u0434\\u0432\\u043e\\u0439\\u043d\\u0438\\u043a\\u0430\\u043c\\u0438 \\u0438 \\u0438\\u0445 \\u0438\\u043d\\u0442\\u0435\\u0433\\u0440\\u0430\\u0446\\u0438\\u044e.\\n\\u0418\\u043d\\u0442\\u0435\\u0440\\u043e\\u043f\\u0435\\u0440\\u0430\\u0431\\u0435\\u043b\\u044c\\u043d\\u043e\\u0441\\u0442\\u044c (Interoperability)\\u041e\\u043f\\u0440\\u0435\\u0434\\u0435\\u043b\\u0435\\u043d\\u0438\\u0435: \\u0421\\u043f\\u043e\\u0441\\u043e\\u0431\\u043d\\u043e\\u0441\\u0442\\u044c \\u0440\\u0430\\u0437\\u043b\\u0438\\u0447\\u043d\\u044b\\u0445 \\u0441\\u0438\\u0441\\u0442\\u0435\\u043c \\u0432\\u0437\\u0430\\u0438\\u043c\\u043e\\u0434\\u0435\\u0439\\u0441\\u0442\\u0432\\u043e\\u0432\\u0430\\u0442\\u044c \\u0438 \\u043e\\u0431\\u043c\\u0435\\u043d\\u0438\\u0432\\u0430\\u0442\\u044c\\u0441\\u044f \\u0434\\u0430\\u043d\\u043d\\u044b\\u043c\\u0438.\\n\\u0413\\u043e\\u0440\\u0438\\u0437\\u043e\\u043d\\u0442\\u0430\\u043b\\u044c\\u043d\\u0430\\u044f \\u0438\\u043d\\u0442\\u0435\\u0433\\u0440\\u0430\\u0446\\u0438\\u044f (Horizontal integration)\\u041e\\u043f\\u0440\\u0435\\u0434\\u0435\\u043b\\u0435\\u043d\\u0438\\u0435: \\u0418\\u043d\\u0442\\u0435\\u0433\\u0440\\u0430\\u0446\\u0438\\u044f \\u0441\\u0438\\u0441\\u0442\\u0435\\u043c \\u043d\\u0430 \\u043e\\u0434\\u043d\\u043e\\u043c \\u0443\\u0440\\u043e\\u0432\\u043d\\u0435, \\u043d\\u0430\\u043f\\u0440\\u0438\\u043c\\u0435\\u0440, \\u043c\\u0435\\u0436\\u0434\\u0443 \\u0440\\u0430\\u0437\\u043b\\u0438\\u0447\\u043d\\u044b\\u043c\\u0438 \\u043f\\u043e\\u0434\\u0440\\u0430\\u0437\\u0434\\u0435\\u043b\\u0435\\u043d\\u0438\\u044f\\u043c\\u0438.\\n\\u0412\\u0435\\u0440\\u0442\\u0438\\u043a\\u0430\\u043b\\u044c\\u043d\\u0430\\u044f \\u0438\\u043d\\u0442\\u0435\\u0433\\u0440\\u0430\\u0446\\u0438\\u044f (Vertical integration)\\u041e\\u043f\\u0440\\u0435\\u0434\\u0435\\u043b\\u0435\\u043d\\u0438\\u0435: \\u0418\\u043d\\u0442\\u0435\\u0433\\u0440\\u0430\\u0446\\u0438\\u044f \\u0441\\u0438\\u0441\\u0442\\u0435\\u043c \\u043d\\u0430 \\u0440\\u0430\\u0437\\u043d\\u044b\\u0445 \\u0443\\u0440\\u043e\\u0432\\u043d\\u044f\\u0445, \\u043d\\u0430\\u043f\\u0440\\u0438\\u043c\\u0435\\u0440, \\u043c\\u0435\\u0436\\u0434\\u0443 \\u043f\\u0440\\u043e\\u0438\\u0437\\u0432\\u043e\\u0434\\u0441\\u0442\\u0432\\u043e\\u043c \\u0438 \\u0443\\u043f\\u0440\\u0430\\u0432\\u043b\\u0435\\u043d\\u0438\\u0435\\u043c.\\n\\u0416\\u0438\\u0437\\u043d\\u0435\\u043d\\u043d\\u044b\\u0439 \\u0446\\u0438\\u043a\\u043b \\u043f\\u0440\\u043e\\u0434\\u0443\\u043a\\u0442\\u0430 (Product lifecycle)\\u041e\\u043f\\u0440\\u0435\\u0434\\u0435\\u043b\\u0435\\u043d\\u0438\\u0435: \\u0412\\u0435\\u0441\\u044c \\u043f\\u0440\\u043e\\u0446\\u0435\\u0441\\u0441 \\u043e\\u0442 \\u0441\\u043e\\u0437\\u0434\\u0430\\u043d\\u0438\\u044f \\u0434\\u043e \\u0443\\u0442\\u0438\\u043b\\u0438\\u0437\\u0430\\u0446\\u0438\\u0438 \\u043f\\u0440\\u043e\\u0434\\u0443\\u043a\\u0442\\u0430.\\n\\u0418\\u043d\\u0444\\u043e\\u0440\\u043c\\u0430\\u0446\\u0438\\u043e\\u043d\\u043d\\u0430\\u044f \\u043c\\u043e\\u0434\\u0435\\u043b\\u044c (Information model)\\u041e\\u043f\\u0440\\u0435\\u0434\\u0435\\u043b\\u0435\\u043d\\u0438\\u0435: \\u0424\\u043e\\u0440\\u043c\\u0430\\u043b\\u044c\\u043d\\u043e\\u0435 \\u043e\\u043f\\u0438\\u0441\\u0430\\u043d\\u0438\\u0435 \\u0434\\u0430\\u043d\\u043d\\u044b\\u0445 \\u0438 \\u0438\\u0445 \\u0441\\u0442\\u0440\\u0443\\u043a\\u0442\\u0443\\u0440\\u044b, \\u0438\\u0441\\u043f\\u043e\\u043b\\u044c\\u0437\\u0443\\u0435\\u043c\\u044b\\u0445 \\u0432 \\u0441\\u0438\\u0441\\u0442\\u0435\\u043c\\u0435.\",\n          \"\\u0420\\u0430\\u0437\\u0440\\u0430\\u0431\\u043e\\u0442\\u043a\\u0430 \\u0441\\u0442\\u0440\\u0430\\u0442\\u0435\\u0433\\u0438\\u0438 (Strategy development)\\u041e\\u043f\\u0440\\u0435\\u0434\\u0435\\u043b\\u0435\\u043d\\u0438\\u0435: \\u041f\\u0440\\u043e\\u0446\\u0435\\u0441\\u0441 \\u0441\\u043e\\u0437\\u0434\\u0430\\u043d\\u0438\\u044f \\u0438 \\u0432\\u043d\\u0435\\u0434\\u0440\\u0435\\u043d\\u0438\\u044f \\u0434\\u043e\\u043b\\u0433\\u043e\\u0441\\u0440\\u043e\\u0447\\u043d\\u044b\\u0445 \\u043f\\u043b\\u0430\\u043d\\u043e\\u0432 \\u0438 \\u0446\\u0435\\u043b\\u0435\\u0439 \\u043e\\u0440\\u0433\\u0430\\u043d\\u0438\\u0437\\u0430\\u0446\\u0438\\u0438 \\u0434\\u043b\\u044f \\u0434\\u043e\\u0441\\u0442\\u0438\\u0436\\u0435\\u043d\\u0438\\u044f \\u043a\\u043e\\u043d\\u043a\\u0443\\u0440\\u0435\\u043d\\u0442\\u043d\\u044b\\u0445 \\u043f\\u0440\\u0435\\u0438\\u043c\\u0443\\u0449\\u0435\\u0441\\u0442\\u0432.\\n\\u041a\\u043e\\u0440\\u043f\\u043e\\u0440\\u0430\\u0442\\u0438\\u0432\\u043d\\u0430\\u044f \\u0430\\u0440\\u0445\\u0438\\u0442\\u0435\\u043a\\u0442\\u0443\\u0440\\u0430 (Corporate architecture)\\u041e\\u043f\\u0440\\u0435\\u0434\\u0435\\u043b\\u0435\\u043d\\u0438\\u0435: \\u041a\\u043e\\u043c\\u043f\\u043b\\u0435\\u043a\\u0441\\u043d\\u043e\\u0435 \\u043e\\u043f\\u0438\\u0441\\u0430\\u043d\\u0438\\u0435 \\u0432\\u0441\\u0435\\u0445 \\u043a\\u043b\\u044e\\u0447\\u0435\\u0432\\u044b\\u0445 \\u044d\\u043b\\u0435\\u043c\\u0435\\u043d\\u0442\\u043e\\u0432 \\u0438 \\u0432\\u0437\\u0430\\u0438\\u043c\\u043e\\u0441\\u0432\\u044f\\u0437\\u0435\\u0439 \\u043e\\u0440\\u0433\\u0430\\u043d\\u0438\\u0437\\u0430\\u0446\\u0438\\u0438, \\u0432\\u043a\\u043b\\u044e\\u0447\\u0430\\u044f \\u0431\\u0438\\u0437\\u043d\\u0435\\u0441-\\u043f\\u0440\\u043e\\u0446\\u0435\\u0441\\u0441\\u044b, \\u0438\\u043d\\u0444\\u043e\\u0440\\u043c\\u0430\\u0446\\u0438\\u043e\\u043d\\u043d\\u044b\\u0435 \\u0441\\u0438\\u0441\\u0442\\u0435\\u043c\\u044b \\u0438 \\u0442\\u0435\\u0445\\u043d\\u043e\\u043b\\u043e\\u0433\\u0438\\u0438.\\n\\u0414\\u043e\\u043a\\u0443\\u043c\\u0435\\u043d\\u0442\\u0438\\u0440\\u043e\\u0432\\u0430\\u043d\\u0438\\u0435 (Documentation)\\u041e\\u043f\\u0440\\u0435\\u0434\\u0435\\u043b\\u0435\\u043d\\u0438\\u0435: \\u041f\\u0440\\u043e\\u0446\\u0435\\u0441\\u0441 \\u0444\\u0438\\u043a\\u0441\\u0430\\u0446\\u0438\\u0438 \\u0438 \\u043f\\u0440\\u0435\\u0434\\u0441\\u0442\\u0430\\u0432\\u043b\\u0435\\u043d\\u0438\\u044f \\u0438\\u043d\\u0444\\u043e\\u0440\\u043c\\u0430\\u0446\\u0438\\u0438 \\u043e \\u043f\\u0440\\u043e\\u0446\\u0435\\u0441\\u0441\\u0430\\u0445, \\u0441\\u0438\\u0441\\u0442\\u0435\\u043c\\u0430\\u0445 \\u0438 \\u0440\\u0435\\u0448\\u0435\\u043d\\u0438\\u044f\\u0445 \\u0432 \\u0432\\u0438\\u0434\\u0435 \\u0434\\u043e\\u043a\\u0443\\u043c\\u0435\\u043d\\u0442\\u043e\\u0432.\\n\\u0410\\u0440\\u0445\\u0438\\u0442\\u0435\\u043a\\u0442\\u0443\\u0440\\u043d\\u043e\\u0435 \\u043c\\u043e\\u0434\\u0435\\u043b\\u0438\\u0440\\u043e\\u0432\\u0430\\u043d\\u0438\\u0435 (Architectural modeling)\\u041e\\u043f\\u0440\\u0435\\u0434\\u0435\\u043b\\u0435\\u043d\\u0438\\u0435: \\u041f\\u0440\\u043e\\u0446\\u0435\\u0441\\u0441 \\u0441\\u043e\\u0437\\u0434\\u0430\\u043d\\u0438\\u044f \\u043c\\u043e\\u0434\\u0435\\u043b\\u0435\\u0439, \\u043e\\u043f\\u0438\\u0441\\u044b\\u0432\\u0430\\u044e\\u0449\\u0438\\u0445 \\u0441\\u0442\\u0440\\u0443\\u043a\\u0442\\u0443\\u0440\\u0443 \\u0438 \\u0444\\u0443\\u043d\\u043a\\u0446\\u0438\\u0438 \\u0441\\u0438\\u0441\\u0442\\u0435\\u043c\\u044b \\u0438\\u043b\\u0438 \\u043e\\u0440\\u0433\\u0430\\u043d\\u0438\\u0437\\u0430\\u0446\\u0438\\u0438.\\nArchiMate (ArchiMate)\\u041e\\u043f\\u0440\\u0435\\u0434\\u0435\\u043b\\u0435\\u043d\\u0438\\u0435: \\u042f\\u0437\\u044b\\u043a \\u0432\\u0438\\u0437\\u0443\\u0430\\u043b\\u044c\\u043d\\u043e\\u0433\\u043e \\u043c\\u043e\\u0434\\u0435\\u043b\\u0438\\u0440\\u043e\\u0432\\u0430\\u043d\\u0438\\u044f, \\u0438\\u0441\\u043f\\u043e\\u043b\\u044c\\u0437\\u0443\\u0435\\u043c\\u044b\\u0439 \\u0434\\u043b\\u044f \\u043e\\u043f\\u0438\\u0441\\u0430\\u043d\\u0438\\u044f \\u0431\\u0438\\u0437\\u043d\\u0435\\u0441-\\u0441\\u0438\\u0441\\u0442\\u0435\\u043c, \\u043f\\u0440\\u043e\\u0446\\u0435\\u0441\\u0441\\u043e\\u0432 \\u0438 \\u0418\\u0422-\\u0438\\u043d\\u0444\\u0440\\u0430\\u0441\\u0442\\u0440\\u0443\\u043a\\u0442\\u0443\\u0440\\u044b.\\n\\u041a\\u043e\\u0440\\u043f\\u043e\\u0440\\u0430\\u0442\\u0438\\u0432\\u043d\\u0430\\u044f \\u0441\\u0442\\u0440\\u0430\\u0442\\u0435\\u0433\\u0438\\u044f (Corporate strategy)\\u041e\\u043f\\u0440\\u0435\\u0434\\u0435\\u043b\\u0435\\u043d\\u0438\\u0435: \\u0421\\u0442\\u0440\\u0430\\u0442\\u0435\\u0433\\u0438\\u044f, \\u043e\\u043f\\u0440\\u0435\\u0434\\u0435\\u043b\\u044f\\u044e\\u0449\\u0430\\u044f \\u0434\\u043e\\u043b\\u0433\\u043e\\u0441\\u0440\\u043e\\u0447\\u043d\\u044b\\u0435 \\u0446\\u0435\\u043b\\u0438 \\u0438 \\u043d\\u0430\\u043f\\u0440\\u0430\\u0432\\u043b\\u0435\\u043d\\u0438\\u044f \\u0440\\u0430\\u0437\\u0432\\u0438\\u0442\\u0438\\u044f \\u043a\\u043e\\u043c\\u043f\\u0430\\u043d\\u0438\\u0438 \\u043d\\u0430 \\u0443\\u0440\\u043e\\u0432\\u043d\\u0435 \\u0432\\u0441\\u0435\\u0439 \\u043e\\u0440\\u0433\\u0430\\u043d\\u0438\\u0437\\u0430\\u0446\\u0438\\u0438.\\nTOGAF (The Open Group Architecture Framework)\\u041e\\u043f\\u0440\\u0435\\u0434\\u0435\\u043b\\u0435\\u043d\\u0438\\u0435: \\u041c\\u0435\\u0442\\u043e\\u0434\\u043e\\u043b\\u043e\\u0433\\u0438\\u044f \\u0440\\u0430\\u0437\\u0440\\u0430\\u0431\\u043e\\u0442\\u043a\\u0438 \\u0438 \\u0443\\u043f\\u0440\\u0430\\u0432\\u043b\\u0435\\u043d\\u0438\\u044f \\u0430\\u0440\\u0445\\u0438\\u0442\\u0435\\u043a\\u0442\\u0443\\u0440\\u043e\\u0439 \\u043f\\u0440\\u0435\\u0434\\u043f\\u0440\\u0438\\u044f\\u0442\\u0438\\u044f, \\u0432\\u043a\\u043b\\u044e\\u0447\\u0430\\u044e\\u0449\\u0430\\u044f \\u043d\\u0430\\u0431\\u043e\\u0440 \\u043f\\u0440\\u0438\\u043d\\u0446\\u0438\\u043f\\u043e\\u0432, \\u043c\\u0435\\u0442\\u043e\\u0434\\u043e\\u0432 \\u0438 \\u0438\\u043d\\u0441\\u0442\\u0440\\u0443\\u043c\\u0435\\u043d\\u0442\\u043e\\u0432.\\n\\u0421\\u0442\\u0435\\u0439\\u043a\\u0445\\u043e\\u043b\\u0434\\u0435\\u0440 (Stakeholder)\\u041e\\u043f\\u0440\\u0435\\u0434\\u0435\\u043b\\u0435\\u043d\\u0438\\u0435: \\u0417\\u0430\\u0438\\u043d\\u0442\\u0435\\u0440\\u0435\\u0441\\u043e\\u0432\\u0430\\u043d\\u043d\\u0430\\u044f \\u0441\\u0442\\u043e\\u0440\\u043e\\u043d\\u0430, \\u0447\\u044c\\u0438 \\u0438\\u043d\\u0442\\u0435\\u0440\\u0435\\u0441\\u044b \\u0438 \\u043f\\u043e\\u0442\\u0440\\u0435\\u0431\\u043d\\u043e\\u0441\\u0442\\u0438 \\u0443\\u0447\\u0438\\u0442\\u044b\\u0432\\u0430\\u044e\\u0442\\u0441\\u044f \\u043f\\u0440\\u0438 \\u0440\\u0430\\u0437\\u0440\\u0430\\u0431\\u043e\\u0442\\u043a\\u0435 \\u0441\\u0442\\u0440\\u0430\\u0442\\u0435\\u0433\\u0438\\u0438.\\n\\u0426\\u0435\\u043b\\u0438 (Goals)\\u041e\\u043f\\u0440\\u0435\\u0434\\u0435\\u043b\\u0435\\u043d\\u0438\\u0435: \\u041a\\u043e\\u043d\\u043a\\u0440\\u0435\\u0442\\u043d\\u044b\\u0435 \\u0440\\u0435\\u0437\\u0443\\u043b\\u044c\\u0442\\u0430\\u0442\\u044b, \\u043a \\u043a\\u043e\\u0442\\u043e\\u0440\\u044b\\u043c \\u0441\\u0442\\u0440\\u0435\\u043c\\u0438\\u0442\\u0441\\u044f \\u043e\\u0440\\u0433\\u0430\\u043d\\u0438\\u0437\\u0430\\u0446\\u0438\\u044f \\u0432 \\u0440\\u0430\\u043c\\u043a\\u0430\\u0445 \\u0441\\u0432\\u043e\\u0435\\u0439 \\u0441\\u0442\\u0440\\u0430\\u0442\\u0435\\u0433\\u0438\\u0438.\\n\\u0424\\u043e\\u0440\\u043c\\u0430\\u043b\\u0438\\u0437\\u0430\\u0446\\u0438\\u044f (Formalization)\\u041e\\u043f\\u0440\\u0435\\u0434\\u0435\\u043b\\u0435\\u043d\\u0438\\u0435: \\u041f\\u0440\\u043e\\u0446\\u0435\\u0441\\u0441 \\u043f\\u0435\\u0440\\u0435\\u0432\\u043e\\u0434\\u0430 \\u043d\\u0435\\u0444\\u043e\\u0440\\u043c\\u0430\\u043b\\u044c\\u043d\\u044b\\u0445 \\u0437\\u043d\\u0430\\u043d\\u0438\\u0439 \\u0438 \\u043f\\u0440\\u043e\\u0446\\u0435\\u0441\\u0441\\u043e\\u0432 \\u0432 \\u0441\\u0442\\u0440\\u0443\\u043a\\u0442\\u0443\\u0440\\u0438\\u0440\\u043e\\u0432\\u0430\\u043d\\u043d\\u044b\\u0435 \\u0438 \\u0434\\u043e\\u043a\\u0443\\u043c\\u0435\\u043d\\u0442\\u0438\\u0440\\u043e\\u0432\\u0430\\u043d\\u043d\\u044b\\u0435 \\u0444\\u043e\\u0440\\u043c\\u044b.\"\n        ],\n        \"semantic_type\": \"\",\n        \"description\": \"\"\n      }\n    }\n  ]\n}"
            }
          },
          "metadata": {},
          "execution_count": 5
        }
      ]
    },
    {
      "cell_type": "code",
      "execution_count": null,
      "id": "91db7076-d5b4-4a60-91ee-4a30296d97e3",
      "metadata": {
        "id": "91db7076-d5b4-4a60-91ee-4a30296d97e3"
      },
      "outputs": [],
      "source": [
        "documents = [' '.join(x) for x in zip (df['Статья'], df['Аннотация на русском'], df['10 ключевых слов с определениением на русском'])]\n",
        "labels = list(df['Статья'])"
      ]
    },
    {
      "cell_type": "code",
      "source": [
        "documents[0]"
      ],
      "metadata": {
        "colab": {
          "base_uri": "https://localhost:8080/",
          "height": 244
        },
        "id": "vReZGTT37lIS",
        "outputId": "78c2861c-8c71-4c57-b4b3-6053ec5bbd43"
      },
      "id": "vReZGTT37lIS",
      "execution_count": null,
      "outputs": [
        {
          "output_type": "execute_result",
          "data": {
            "text/plain": [
              "'Piloting Industry 4.0 in SMEs with RAMI 4.0: an enterprise architecture approach Эта работа представляет собой исследование внедрения подходов Industry 4.0 в малые и средние предприятия (МСП) с использованием референсной архитектурной модели Industrie 4.0 (RAMI 4.0). Основной задачей является разработка и внедрение комплексной архитектуры, облегчающей цифровую трансформацию бизнеса. Исследование включает разработку пилотного проекта, направленного на создание мобильного приложения, которое улучшает взаимодействие с клиентами и повышает прозрачность производственного процесса. Проект реализуется на примере небольшой технической фирмы, занимающейся нанесением покрытий на компоненты промышленной продукции.\\nПредложенный подход иллюстрирует, как RAMI 4.0 может служить основой для построения цифровой экосистемы, обеспечивая согласованность технических, экономических и социальных аспектов трансформации. Полученные результаты показывают потенциал данного подхода для масштабируемого развертывания цифровых решений в малых предприятиях. Enterprise architecture: корпоративная архитектура - Структура и принципы проектирования информационной и технологической инфраструктуры организации, определяющие, каким образом интегрированы процессы, технологии и данные.\\nIndustry 4.0: Четвёртая промышленная революция - Концепция перехода к новым формам индустриализации, основанные на киберфизических системах, искусственном интеллекте, роботизации и широкополосных сетях передачи данных.\\nRAMI 4.0: Референсная архитектурная модель Industrie 4.0 - Архитектурная структура, созданная специально для описания, планирования и реализации проектов Industry 4.0, состоящая из трёх измерений: уровней иерархии, жизненного цикла и слоёв функциональности.\\nSmall and Medium Enterprises (SMEs): малые и средние предприятия - Организации, характеризующиеся небольшим числом сотрудников и ограниченными финансовыми ресурсами, стремящиеся повысить свою конкурентоспособность за счёт инновационных технологий.\\nBusiness process: бизнес-процесс - Последовательность действий, выполняемых организацией для достижения конкретных результатов, необходимых для удовлетворения потребностей клиентов и акционеров.\\nDigital transformation: цифровая трансформация - Переход организаций к использованию новых цифровых технологий для улучшения внутренних процессов, повышения конкурентоспособности и расширения рынка сбыта.\\nQR code: QR-код - Двухмерный штрихкод, содержащий зашифрованную информацию, доступную для считывания мобильными устройствами.\\nAugmented Reality (AR): дополненная реальность - Технология наложения виртуальных объектов на реальный мир, воспринимаемый человеком через специальные устройства (очки, смартфоны).\\nMobile App: мобильное приложение - Программное обеспечение, разработанное для мобильных устройств (смартфонов, планшетов), позволяющее пользователям получать доступ к сервисам и данным компании.\\nTraceability: прослеживаемость - Возможность отслеживать историю продукта, начиная от сырья и заканчивая конечным продуктом, обеспечивая контроль качества и безопасность продукции.'"
            ],
            "application/vnd.google.colaboratory.intrinsic+json": {
              "type": "string"
            }
          },
          "metadata": {},
          "execution_count": 7
        }
      ]
    },
    {
      "cell_type": "code",
      "source": [
        "len(documents)"
      ],
      "metadata": {
        "colab": {
          "base_uri": "https://localhost:8080/"
        },
        "id": "wA4RfBiDqlFj",
        "outputId": "1d4024d3-a636-4edb-97cc-e2e447c6e3b5"
      },
      "id": "wA4RfBiDqlFj",
      "execution_count": null,
      "outputs": [
        {
          "output_type": "execute_result",
          "data": {
            "text/plain": [
              "178"
            ]
          },
          "metadata": {},
          "execution_count": 8
        }
      ]
    },
    {
      "cell_type": "code",
      "execution_count": null,
      "id": "1087e341-a079-435c-ace4-c29289f0f601",
      "metadata": {
        "colab": {
          "base_uri": "https://localhost:8080/",
          "height": 333,
          "referenced_widgets": [
            "14d5f9cb0fbf4fd0a9bd90b487584c5f",
            "1b6773b973af450b9961c76e8a6e87ff",
            "9a96202f023140f38434b129c2110aba",
            "f2b81c9131784f71ba9b767dbb1b2cec",
            "6fda9bb895dc488d8838f9f09e773a52",
            "a2d233e0aa3b41c8a8202aebc0caaabb",
            "5a6137283f404b2598f3fe2812430b72",
            "fd8a624cfeb54bdcb0d7a36de5ec67d5",
            "5b2c057bbddc407ab6fea64409764bba",
            "86ae3fbb23234cc88835468090475e34",
            "3056bb10cdc74d4c86263c538552e051",
            "2549180b5e874b0c99f45d16724b967f",
            "a584f3dcd88f45ccb3613c1be5650e4d",
            "56e416acc4ab4dff860853de01485513",
            "c2886af34da74bbb8a9eb7a687079bcb",
            "58e456a81e964548ac3862dfaa7b8464",
            "7de4c3c0aa82418483b57beaa8c6aca1",
            "e117c48c1ad948bd81d9896dfcf11227",
            "ff9f6cba044b43eb9692658ff5c06e89",
            "2dcc9e4b59b9404190fd358d2280a842",
            "8bc7524eea824604a14ba4810c298a2e",
            "f57aa9b68f9747f4a64f1cdb5675a59a",
            "13a52ea0d3de4d7e8e513e66839e8c04",
            "c7bdb3b586c84a01bbee9125df3ba744",
            "ae93cd444392478ab9cc4fe19d0b5941",
            "aa7f3c239aab414b9c86d37a50511043",
            "842f1c3d2e7d46c3bb3b0dcdb35c3fbd",
            "e5771d2a7ce64db4b8671109fa4c948b",
            "0fa30e8f6c1d42f6aba89b02ada7c9f0",
            "88b6eb53de6e4d5eaa50c957954edc96",
            "ae28a2bb6e4145c1a6841ebc1cd58704",
            "7cab051bbb844d99a07f132f5ebd2837",
            "90019a697254478a94c99ff1d8cbf55d",
            "8d1c6085ee0448b09021e76a2c88e288",
            "760142fb984a4077911ea9b22301ebbb",
            "d2677d8266c946379d984af58b311fbe",
            "c5d7a77423394d3e802cbb96738ba09a",
            "79a5761dd4174735b924f92018c62015",
            "0ff7e12fbb0b4351b01f1def0065ad3e",
            "35845417f58542d4a9c4cdd89f4eeee0",
            "98992b71b8d04ce7a27194726378d6b5",
            "8488024dbba74ee3b2fa77224a838864",
            "09743f5b6103476780bb2c183e2dfa03",
            "13f42a17c8924a70b07247e56ac4c3cb",
            "5533a3d23b3f47febc5dfea13ae0f88d",
            "ae82e7c101d14da3939397b448b7e9d3",
            "9abf9c13f79045a7bd7d774a0362c40f",
            "fd616e6ebbc940168cc200e956c4a884",
            "6a41ca3f34ba49778345c40c50c26862",
            "06a12e96e14f4fd280b531459be2aa70",
            "c1dcabdff6d14cfe969f339a601db1c7",
            "456617185d4946fd99c1e5e9563de413",
            "ab1c6885939f48bf9860da6e5691b432",
            "3bc413f0cb3848a3b75fe40ecde88eb8",
            "fafdfa60f9c14ada822871f8c04f7363",
            "e83f06c39ebe4f4f88be72f34e7eab3c",
            "3f211383353945daa3742d4671291f73",
            "6bdba6c10fa54cd182d055bcab13160f",
            "930b636d96354f62870e03e0c0f1f813",
            "145c99385a154744b7cb73eed816289e",
            "0307a72957d64a3c8a8ff57b39dc430a",
            "7641ceea76604559a4ece874c920c9b5",
            "c985fdb177d0431fb2d35f5c0157a59c",
            "6c276da607f24672ab10116fa9b09427",
            "6d7a73788fec412c9ce26c3ee5c29587",
            "7209b7171d5c4ce6aed0feb50a0e643c"
          ]
        },
        "id": "1087e341-a079-435c-ace4-c29289f0f601",
        "outputId": "f94d0b62-2768-422c-de5c-d92704c501c7"
      },
      "outputs": [
        {
          "output_type": "stream",
          "name": "stderr",
          "text": [
            "/usr/local/lib/python3.12/dist-packages/huggingface_hub/utils/_auth.py:94: UserWarning: \n",
            "The secret `HF_TOKEN` does not exist in your Colab secrets.\n",
            "To authenticate with the Hugging Face Hub, create a token in your settings tab (https://huggingface.co/settings/tokens), set it as secret in your Google Colab and restart your session.\n",
            "You will be able to reuse this secret in all of your notebooks.\n",
            "Please note that authentication is recommended but still optional to access public models or datasets.\n",
            "  warnings.warn(\n"
          ]
        },
        {
          "output_type": "display_data",
          "data": {
            "text/plain": [
              "tokenizer_config.json:   0%|          | 0.00/418 [00:00<?, ?B/s]"
            ],
            "application/vnd.jupyter.widget-view+json": {
              "version_major": 2,
              "version_minor": 0,
              "model_id": "14d5f9cb0fbf4fd0a9bd90b487584c5f"
            }
          },
          "metadata": {}
        },
        {
          "output_type": "display_data",
          "data": {
            "text/plain": [
              "sentencepiece.bpe.model:   0%|          | 0.00/5.07M [00:00<?, ?B/s]"
            ],
            "application/vnd.jupyter.widget-view+json": {
              "version_major": 2,
              "version_minor": 0,
              "model_id": "2549180b5e874b0c99f45d16724b967f"
            }
          },
          "metadata": {}
        },
        {
          "output_type": "display_data",
          "data": {
            "text/plain": [
              "tokenizer.json:   0%|          | 0.00/17.1M [00:00<?, ?B/s]"
            ],
            "application/vnd.jupyter.widget-view+json": {
              "version_major": 2,
              "version_minor": 0,
              "model_id": "13a52ea0d3de4d7e8e513e66839e8c04"
            }
          },
          "metadata": {}
        },
        {
          "output_type": "display_data",
          "data": {
            "text/plain": [
              "special_tokens_map.json:   0%|          | 0.00/280 [00:00<?, ?B/s]"
            ],
            "application/vnd.jupyter.widget-view+json": {
              "version_major": 2,
              "version_minor": 0,
              "model_id": "8d1c6085ee0448b09021e76a2c88e288"
            }
          },
          "metadata": {}
        },
        {
          "output_type": "display_data",
          "data": {
            "text/plain": [
              "config.json:   0%|          | 0.00/690 [00:00<?, ?B/s]"
            ],
            "application/vnd.jupyter.widget-view+json": {
              "version_major": 2,
              "version_minor": 0,
              "model_id": "5533a3d23b3f47febc5dfea13ae0f88d"
            }
          },
          "metadata": {}
        },
        {
          "output_type": "display_data",
          "data": {
            "text/plain": [
              "model.safetensors:   0%|          | 0.00/2.24G [00:00<?, ?B/s]"
            ],
            "application/vnd.jupyter.widget-view+json": {
              "version_major": 2,
              "version_minor": 0,
              "model_id": "e83f06c39ebe4f4f88be72f34e7eab3c"
            }
          },
          "metadata": {}
        }
      ],
      "source": [
        "model_name = \"intfloat/multilingual-e5-large\"                                             #Тяжелая нейронная сеть\n",
        "#model_name = \"sentence-transformers/paraphrase-multilingual-mpnet-base-v2\"                #Чуть полегче\n",
        "\n",
        "tokenizer = AutoTokenizer.from_pretrained(model_name)\n",
        "model = AutoModel.from_pretrained(model_name)"
      ]
    },
    {
      "cell_type": "code",
      "execution_count": null,
      "id": "d74ad289-bd3c-4fd2-92e9-7c5fac672ccf",
      "metadata": {
        "id": "d74ad289-bd3c-4fd2-92e9-7c5fac672ccf"
      },
      "outputs": [],
      "source": [
        "# Преобразование документов в векторы\n",
        "def embed_documents(documents):\n",
        "    inputs = tokenizer(documents, padding=True, truncation=True, return_tensors=\"pt\")\n",
        "    with torch.no_grad():\n",
        "        embeddings = model(**inputs).last_hidden_state[:, 0, :]  # Используем [CLS] токен\n",
        "    return embeddings.numpy()\n",
        "\n",
        "# Индексирование документов\n",
        "doc_embeddings = embed_documents(documents)"
      ]
    },
    {
      "cell_type": "code",
      "source": [
        "pd.DataFrame(doc_embeddings).to_csv('aaa.csv',index=False)"
      ],
      "metadata": {
        "id": "SR56OYBRuAvz"
      },
      "id": "SR56OYBRuAvz",
      "execution_count": null,
      "outputs": []
    },
    {
      "cell_type": "code",
      "execution_count": null,
      "id": "76f9385e-45f6-4384-a5d7-b25f8de1234c",
      "metadata": {
        "id": "76f9385e-45f6-4384-a5d7-b25f8de1234c"
      },
      "outputs": [],
      "source": [
        "index = faiss.IndexFlatL2(doc_embeddings.shape[1])\n",
        "index.add(doc_embeddings)"
      ]
    },
    {
      "cell_type": "code",
      "source": [
        "D, I = index.search(doc_embeddings, k=178)"
      ],
      "metadata": {
        "id": "Ix0yQ1zQuwOH"
      },
      "id": "Ix0yQ1zQuwOH",
      "execution_count": null,
      "outputs": []
    },
    {
      "cell_type": "code",
      "source": [
        "pd.DataFrame(D).to_csv('bbb.csv',index=False)"
      ],
      "metadata": {
        "id": "V9OS2guRvCg7"
      },
      "id": "V9OS2guRvCg7",
      "execution_count": null,
      "outputs": []
    },
    {
      "cell_type": "code",
      "source": [
        "pd.DataFrame(I).to_csv('ccc.csv',index=False)"
      ],
      "metadata": {
        "id": "JfhR70S_vos9"
      },
      "id": "JfhR70S_vos9",
      "execution_count": null,
      "outputs": []
    },
    {
      "cell_type": "code",
      "source": [
        "def print_results(query, k=5):\n",
        "  query_embedding = embed_documents([query])\n",
        "  D, I = index.search(query_embedding, k=k)\n",
        "  for el in range(k):\n",
        "    print('На позиции {} стоит {} с расстоянием {}'.format(el, labels[I[0][el]], D[0][el]))\n"
      ],
      "metadata": {
        "id": "7ih2RmMwM6sB"
      },
      "id": "7ih2RmMwM6sB",
      "execution_count": null,
      "outputs": []
    },
    {
      "cell_type": "code",
      "source": [
        "query = 'Предиктивное обслуживание оборудования'\n",
        "k=5 # Выводим 5 наиболее похожих тем\n",
        "print_results(query, k)"
      ],
      "metadata": {
        "colab": {
          "base_uri": "https://localhost:8080/"
        },
        "id": "lNk8roU0CxrF",
        "outputId": "a859cbf2-5063-4282-9efc-d7cc6a3b6d9e"
      },
      "id": "lNk8roU0CxrF",
      "execution_count": null,
      "outputs": [
        {
          "output_type": "stream",
          "name": "stdout",
          "text": [
            "На позиции 0 стоит Предложение архитектуры решения для прогнозного обслуживания с использованием машинного обучения с расстоянием 336.82611083984375\n",
            "На позиции 1 стоит Industrial Maintenance and the Digital Twin-An Architectural Assessment с расстоянием 360.1602783203125\n",
            "На позиции 2 стоит Ретрофитинг цифровых двойников существующих систем с расстоянием 364.56378173828125\n",
            "На позиции 3 стоит Data and Artificial Intelligence Strategy: A Conceptual Enterprise Big Data Cloud Architecture to Enable Market-Oriented Organisations с расстоянием 364.9326477050781\n",
            "На позиции 4 стоит Моделирование архитектуры и инфраструктуры предприятия с расстоянием 371.01824951171875\n"
          ]
        }
      ]
    },
    {
      "cell_type": "code",
      "source": [
        "query = 'Алгоритм принятия решений'\n",
        "k=5 # Выводим 5 наиболее похожих тем\n",
        "print_results(query, k)"
      ],
      "metadata": {
        "colab": {
          "base_uri": "https://localhost:8080/"
        },
        "id": "3A6M3w54Cxnr",
        "outputId": "51a51a28-81ba-4b62-c5b4-8f4cbed6b186"
      },
      "id": "3A6M3w54Cxnr",
      "execution_count": null,
      "outputs": [
        {
          "output_type": "stream",
          "name": "stdout",
          "text": [
            "На позиции 0 стоит Decision Support Systems and Business Strategy: A Conceptual Framework for Strategic Information Systems Planning с расстоянием 376.83038330078125\n",
            "На позиции 1 стоит Разработка структурно-функционального подхода к детализации мотивационного расширения ArchiMate для реализации отраслевых архитектурных решений с расстоянием 392.8999938964844\n",
            "На позиции 2 стоит Архитектура предприятия? Инжиниринг? Или информационно-управляющий комплекс? с расстоянием 403.9961853027344\n",
            "На позиции 3 стоит Предложение архитектуры решения для прогнозного обслуживания с использованием машинного обучения с расстоянием 404.8060302734375\n",
            "На позиции 4 стоит Построение эффективной архитектуры предприятия как необходимое условие адаптации к цифровой экономике с расстоянием 409.8486328125\n"
          ]
        }
      ]
    },
    {
      "cell_type": "code",
      "source": [
        "query = 'Снижение простоев оборудования'\n",
        "k=5 # Выводим 5 наиболее похожих тем\n",
        "print_results(query, k)"
      ],
      "metadata": {
        "colab": {
          "base_uri": "https://localhost:8080/"
        },
        "id": "azGDCbDNCxIP",
        "outputId": "e8c730ea-d9a3-4118-e471-9e858fd1c879"
      },
      "id": "azGDCbDNCxIP",
      "execution_count": null,
      "outputs": [
        {
          "output_type": "stream",
          "name": "stdout",
          "text": [
            "На позиции 0 стоит Предложение архитектуры решения для прогнозного обслуживания с использованием машинного обучения с расстоянием 329.2572937011719\n",
            "На позиции 1 стоит Моделирование архитектуры и инфраструктуры предприятия с расстоянием 357.758056640625\n",
            "На позиции 2 стоит Архитектура предприятия? Инжиниринг? Или информационно-управляющий комплекс? с расстоянием 363.9715576171875\n",
            "На позиции 3 стоит Industrial Maintenance and the Digital Twin-An Architectural Assessment с расстоянием 365.32794189453125\n",
            "На позиции 4 стоит Сравнение архитектурных подходов к анализу информационной поддержки процессов предприятия с расстоянием 373.27288818359375\n"
          ]
        }
      ]
    },
    {
      "cell_type": "code",
      "source": [
        "query = 'Анализ данных'\n",
        "k=5 # Выводим 5 наиболее похожих тем\n",
        "print_results(query, k)"
      ],
      "metadata": {
        "colab": {
          "base_uri": "https://localhost:8080/"
        },
        "id": "hWRd1MxVCxEx",
        "outputId": "6d0c96ce-f9cf-4a9d-91a6-c7aba8e58c3f"
      },
      "id": "hWRd1MxVCxEx",
      "execution_count": null,
      "outputs": [
        {
          "output_type": "stream",
          "name": "stdout",
          "text": [
            "На позиции 0 стоит Research on management informatization construction of electric power enterprise based on big data technology с расстоянием 406.05029296875\n",
            "На позиции 1 стоит Roles and Capabilities of Enterprise Architecture in Big Data Analytics Technology Adoption and Implementation с расстоянием 423.50274658203125\n",
            "На позиции 2 стоит Сетецентрическая модель и архитектура единого информационного пространства «Проектирование на заказ» сложных технических изделий с расстоянием 424.4337463378906\n",
            "На позиции 3 стоит Анализ и развитие подходов к формированию стратегии реализации цифровых продуктов и сервисов с расстоянием 430.0346984863281\n",
            "На позиции 4 стоит Анализ архитектуры предприятия с использованием визуальных средств моделирования с расстоянием 431.0558166503906\n"
          ]
        }
      ]
    },
    {
      "cell_type": "code",
      "source": [
        "query = 'Автоматизация'\n",
        "k=5 # Выводим 5 наиболее похожих тем\n",
        "print_results(query, k)"
      ],
      "metadata": {
        "colab": {
          "base_uri": "https://localhost:8080/"
        },
        "id": "hVIWA2gKCwz8",
        "outputId": "371945e3-d8aa-498a-ef0d-4b24187ff41b"
      },
      "id": "hVIWA2gKCwz8",
      "execution_count": null,
      "outputs": [
        {
          "output_type": "stream",
          "name": "stdout",
          "text": [
            "На позиции 0 стоит Архитектура предприятия? Инжиниринг? Или информационно-управляющий комплекс? с расстоянием 392.8258056640625\n",
            "На позиции 1 стоит Архитектура информационной системы компании с расстоянием 411.6463623046875\n",
            "На позиции 2 стоит Investment Models for Enterprise Architecture (EA) and IT Architecture Projects within the Open Innovation Concept с расстоянием 415.4849853515625\n",
            "На позиции 3 стоит Многоагентная система сетевого предприятия на основе цифровой платформы индустрии четвертого поколения с расстоянием 430.3037414550781\n",
            "На позиции 4 стоит Enterprise Architecture as a Tool for Digital Transformation of Mining Enterprises in the Arctic с расстоянием 432.3798522949219\n"
          ]
        }
      ]
    },
    {
      "cell_type": "code",
      "source": [
        "query = 'Предиктивная аналитика'\n",
        "k=5 # Выводим 5 наиболее похожих тем\n",
        "print_results(query, k)"
      ],
      "metadata": {
        "colab": {
          "base_uri": "https://localhost:8080/"
        },
        "id": "U5R3FhPGCwwl",
        "outputId": "7506a58e-656c-419d-85b3-e3ebccbb272b"
      },
      "id": "U5R3FhPGCwwl",
      "execution_count": null,
      "outputs": [
        {
          "output_type": "stream",
          "name": "stdout",
          "text": [
            "На позиции 0 стоит Roles and Capabilities of Enterprise Architecture in Big Data Analytics Technology Adoption and Implementation с расстоянием 389.2027282714844\n",
            "На позиции 1 стоит Предложение архитектуры решения для прогнозного обслуживания с использованием машинного обучения с расстоянием 392.32012939453125\n",
            "На позиции 2 стоит Data and Artificial Intelligence Strategy: A Conceptual Enterprise Big Data Cloud Architecture to Enable Market-Oriented Organisations с расстоянием 401.3210144042969\n",
            "На позиции 3 стоит Анализ архитектуры предприятия с использованием визуальных средств моделирования с расстоянием 405.5473937988281\n",
            "На позиции 4 стоит Современные инструменты архитектуры предприятия ИТ-компании с расстоянием 408.8315734863281\n"
          ]
        }
      ]
    },
    {
      "cell_type": "code",
      "source": [
        "query = 'Цифровая трансформация'\n",
        "k=5 # Выводим 5 наиболее похожих тем\n",
        "print_results(query, k)"
      ],
      "metadata": {
        "colab": {
          "base_uri": "https://localhost:8080/"
        },
        "id": "PL0he13iCwt6",
        "outputId": "9d2e19a9-67d5-400d-c45b-0832fc4ba0e6"
      },
      "id": "PL0he13iCwt6",
      "execution_count": null,
      "outputs": [
        {
          "output_type": "stream",
          "name": "stdout",
          "text": [
            "На позиции 0 стоит Цифровая трансформация как фактор формирования архитектуры и ИТ-архитектуры предприятия с расстоянием 343.188232421875\n",
            "На позиции 1 стоит Enterprise architectures for the digital transformation in small and medium-sized enterprises с расстоянием 355.4737548828125\n",
            "На позиции 2 стоит Современные тенденции применения архитектурного подхода в цифровой трансформации предприятия с расстоянием 356.88629150390625\n",
            "На позиции 3 стоит Важнейшие проблемы, возникающие в ходе цифровой трансформации предприятий, и подходы к их решению с расстоянием 364.0268859863281\n",
            "На позиции 4 стоит Investment Models for Enterprise Architecture (EA) and IT Architecture Projects within the Open Innovation Concept с расстоянием 365.03778076171875\n"
          ]
        }
      ]
    },
    {
      "cell_type": "code",
      "source": [
        "query = 'Энергетическая гибкость'\n",
        "k=5 # Выводим 5 наиболее похожих тем\n",
        "print_results(query, k)"
      ],
      "metadata": {
        "colab": {
          "base_uri": "https://localhost:8080/"
        },
        "id": "mOujTa3XCwgT",
        "outputId": "d553d261-da55-46e9-acc7-209bb27a1052"
      },
      "id": "mOujTa3XCwgT",
      "execution_count": null,
      "outputs": [
        {
          "output_type": "stream",
          "name": "stdout",
          "text": [
            "На позиции 0 стоит A component-based design approach for energy flexibility in cyber-physical manufacturing systems с расстоянием 334.9061584472656\n",
            "На позиции 1 стоит Цифровые двойники в энергетике с расстоянием 339.0849914550781\n",
            "На позиции 2 стоит The Role of Enterprise Architecture in the Digital Transformation of Energy Companies с расстоянием 357.74468994140625\n",
            "На позиции 3 стоит Using Enterprise Architecture to Integrate Lean Manufacturing, Digitalization, and Sustainability: A Lean Enterprise Case Study in the Chemical Industry с расстоянием 358.16595458984375\n",
            "На позиции 4 стоит Enterprise Architecture as a Tool for Digital Transformation of Mining Enterprises in the Arctic с расстоянием 358.732177734375\n"
          ]
        }
      ]
    },
    {
      "cell_type": "code",
      "source": [
        "query = 'Кибер-физические производственные системы'\n",
        "k=5 # Выводим 5 наиболее похожих тем\n",
        "print_results(query, k)"
      ],
      "metadata": {
        "colab": {
          "base_uri": "https://localhost:8080/"
        },
        "id": "MHksRkMoCwc0",
        "outputId": "d6fed922-fa74-4721-f4b2-9112f028acf6"
      },
      "id": "MHksRkMoCwc0",
      "execution_count": null,
      "outputs": [
        {
          "output_type": "stream",
          "name": "stdout",
          "text": [
            "На позиции 0 стоит A component-based design approach for energy flexibility in cyber-physical manufacturing systems с расстоянием 324.853759765625\n",
            "На позиции 1 стоит Подход к формированию виртуальной метаструктуры цифрового проектного двойника корпоративной информационной системы машиностроительного предприятия с расстоянием 339.93798828125\n",
            "На позиции 2 стоит Cloud based cyber-physical systems: Network evaluation study с расстоянием 348.9039306640625\n",
            "На позиции 3 стоит Многоагентная система сетевого предприятия на основе цифровой платформы индустрии четвертого поколения с расстоянием 350.1091613769531\n",
            "На позиции 4 стоит Development of manufacturing execution systems in accordance with Industry 4.0 requirements: A review of standard- and ontology-based methodologies and tools с расстоянием 357.16571044921875\n"
          ]
        }
      ]
    },
    {
      "cell_type": "code",
      "source": [
        "query = 'Компонентно-ориентированное проектирование'\n",
        "k=5 # Выводим 5 наиболее похожих тем\n",
        "print_results(query, k)"
      ],
      "metadata": {
        "colab": {
          "base_uri": "https://localhost:8080/"
        },
        "id": "yYJxMqLACwZp",
        "outputId": "14998898-c7ee-4e60-a323-54b4a9f13e09"
      },
      "id": "yYJxMqLACwZp",
      "execution_count": null,
      "outputs": [
        {
          "output_type": "stream",
          "name": "stdout",
          "text": [
            "На позиции 0 стоит Разработка высокоуровневого дизайна программно-аналитического комплекса предприятия, обеспечивающего сквозное планирование с расстоянием 348.8984680175781\n",
            "На позиции 1 стоит Сетецентрическая модель и архитектура единого информационного пространства «Проектирование на заказ» сложных технических изделий с расстоянием 350.607177734375\n",
            "На позиции 2 стоит A component-based design approach for energy flexibility in cyber-physical manufacturing systems с расстоянием 353.6875\n",
            "На позиции 3 стоит Data and Artificial Intelligence Strategy: A Conceptual Enterprise Big Data Cloud Architecture to Enable Market-Oriented Organisations с расстоянием 368.2220458984375\n",
            "На позиции 4 стоит Enterprise Architecture for Industry 4.0: Proposed Solutions and Production Data for TOGAF-Based Modeling с расстоянием 372.31329345703125\n"
          ]
        }
      ]
    },
    {
      "cell_type": "code",
      "source": [
        "query = 'Промышленный интернет вещей'\n",
        "k=5 # Выводим 5 наиболее похожих тем\n",
        "print_results(query, k)"
      ],
      "metadata": {
        "colab": {
          "base_uri": "https://localhost:8080/"
        },
        "id": "u2N7QFX0CwUb",
        "outputId": "4e1007ea-0e7e-4213-b693-b612078a5f18"
      },
      "id": "u2N7QFX0CwUb",
      "execution_count": null,
      "outputs": [
        {
          "output_type": "stream",
          "name": "stdout",
          "text": [
            "На позиции 0 стоит Industrial Maintenance and the Digital Twin-An Architectural Assessment с расстоянием 326.9327697753906\n",
            "На позиции 1 стоит Enterprise Architecture as a Tool for Digital Transformation of Mining Enterprises in the Arctic с расстоянием 329.8335876464844\n",
            "На позиции 2 стоит Выравнивание IIoT и ISA-95 для совершенствования управления активами в перерабатывающих отраслях с расстоянием 330.4586181640625\n",
            "На позиции 3 стоит Design choices for next-generation IIoT-connected MES/MOM: An empirical study on smart factories с расстоянием 336.62310791015625\n",
            "На позиции 4 стоит Data and Artificial Intelligence Strategy: A Conceptual Enterprise Big Data Cloud Architecture to Enable Market-Oriented Organisations с расстоянием 337.5532531738281\n"
          ]
        }
      ]
    },
    {
      "cell_type": "code",
      "source": [
        "query = 'RAMI 4.0 (Reference Architectural Model Industrie 4.0)'\n",
        "k=5 # Выводим 5 наиболее похожих тем\n",
        "print_results(query, k)"
      ],
      "metadata": {
        "colab": {
          "base_uri": "https://localhost:8080/"
        },
        "id": "XaiQKpTQCwRB",
        "outputId": "3f1c5c35-d86a-45b2-929e-654749d9eef4"
      },
      "id": "XaiQKpTQCwRB",
      "execution_count": null,
      "outputs": [
        {
          "output_type": "stream",
          "name": "stdout",
          "text": [
            "На позиции 0 стоит Reference Architectural Model Industrie 4.0 (RAMI 4.0)   с расстоянием 255.20474243164062\n",
            "На позиции 1 стоит ГОСТ Р 59799–2021. Умное производство. Модель эталонной архитектуры Индустрии 4.0 (RAMI4.0) с расстоянием 266.92236328125\n",
            "На позиции 2 стоит Piloting Industry 4.0 in SMEs with RAMI 4.0: an enterprise architecture approach с расстоянием 268.55615234375\n",
            "На позиции 3 стоит Architecture Alignment and Interoperability с расстоянием 273.4259338378906\n",
            "На позиции 4 стоит Alignment Report for Reference Architectural Model for Industrie 4.0/ Intelligent Manufacturing System Architecture с расстоянием 282.75689697265625\n"
          ]
        }
      ]
    },
    {
      "cell_type": "code",
      "source": [
        "query = 'Административная оболочка активов (Asset Administration Shell - AAS)'\n",
        "k=5 # Выводим 5 наиболее похожих тем\n",
        "print_results(query, k)"
      ],
      "metadata": {
        "colab": {
          "base_uri": "https://localhost:8080/"
        },
        "id": "AhXbPBNkCwN-",
        "outputId": "ecf7a4e6-d0e0-41e0-8a38-a0b8fe253fc7"
      },
      "id": "AhXbPBNkCwN-",
      "execution_count": null,
      "outputs": [
        {
          "output_type": "stream",
          "name": "stdout",
          "text": [
            "На позиции 0 стоит Digitalization and enterprise architecture management: a perspective on benefits and challenges с расстоянием 328.41357421875\n",
            "На позиции 1 стоит Enterprise architectures for the digital transformation in small and medium-sized enterprises с расстоянием 341.56243896484375\n",
            "На позиции 2 стоит Многоагентная система сетевого предприятия на основе цифровой платформы индустрии четвертого поколения с расстоянием 343.5138854980469\n",
            "На позиции 3 стоит Improving Agency Performance Using Information and Information Technology (Enterprise Architecture Assessment Framework v3.1) с расстоянием 343.6229248046875\n",
            "На позиции 4 стоит Enterprise Architecture for Digital Transformation с расстоянием 344.69110107421875\n"
          ]
        }
      ]
    },
    {
      "cell_type": "code",
      "source": [
        "query = 'Машинное обучение'\n",
        "k=5 # Выводим 5 наиболее похожих тем\n",
        "print_results(query, k)"
      ],
      "metadata": {
        "colab": {
          "base_uri": "https://localhost:8080/"
        },
        "id": "0DGwthAECwLG",
        "outputId": "33bcfa06-f5a6-46f3-8e80-9ae71e7ec72f"
      },
      "id": "0DGwthAECwLG",
      "execution_count": null,
      "outputs": [
        {
          "output_type": "stream",
          "name": "stdout",
          "text": [
            "На позиции 0 стоит Cooperative Robotics and Machine Learning for Smart Manufacturing: Platform Design and Trends Within the Context of Industrial Internet of Things с расстоянием 427.11114501953125\n",
            "На позиции 1 стоит Предложение архитектуры решения для прогнозного обслуживания с использованием машинного обучения с расстоянием 430.3961181640625\n",
            "На позиции 2 стоит Data and Artificial Intelligence Strategy: A Conceptual Enterprise Big Data Cloud Architecture to Enable Market-Oriented Organisations с расстоянием 432.71209716796875\n",
            "На позиции 3 стоит Investment Models for Enterprise Architecture (EA) and IT Architecture Projects within the Open Innovation Concept с расстоянием 440.1752014160156\n",
            "На позиции 4 стоит Типологизация и систематизация подходов к разработке стратегии компании: модели и методы из смежных наук с расстоянием 441.5631103515625\n"
          ]
        }
      ]
    },
    {
      "cell_type": "code",
      "source": [
        "query = 'Виртуальная инженерия (Virtual Engineering)'\n",
        "k=5 # Выводим 5 наиболее похожих тем\n",
        "print_results(query, k)"
      ],
      "metadata": {
        "colab": {
          "base_uri": "https://localhost:8080/"
        },
        "id": "k7ltQYmlCwIG",
        "outputId": "5970ba34-9333-4c79-98af-b879f6564d21"
      },
      "id": "k7ltQYmlCwIG",
      "execution_count": null,
      "outputs": [
        {
          "output_type": "stream",
          "name": "stdout",
          "text": [
            "На позиции 0 стоит Architecting the Firm – Coherency and Consistency in Managing the Enterprise с расстоянием 351.8538818359375\n",
            "На позиции 1 стоит Подход к формированию виртуальной метаструктуры цифрового проектного двойника корпоративной информационной системы машиностроительного предприятия с расстоянием 353.86669921875\n",
            "На позиции 2 стоит Enterprise Architecture for Digital Transformation с расстоянием 360.0633544921875\n",
            "На позиции 3 стоит Industrial Maintenance and the Digital Twin-An Architectural Assessment с расстоянием 363.06005859375\n",
            "На позиции 4 стоит Enterprise Architecture as a Tool for Digital Transformation of Mining Enterprises in the Arctic с расстоянием 365.8456115722656\n"
          ]
        }
      ]
    },
    {
      "cell_type": "code",
      "source": [
        "query = 'OPC UA (Open Platform Communications Unified Architecture)'\n",
        "k=5 # Выводим 5 наиболее похожих тем\n",
        "print_results(query, k)"
      ],
      "metadata": {
        "colab": {
          "base_uri": "https://localhost:8080/"
        },
        "id": "u8jEXlmVCwE_",
        "outputId": "1926b82a-a114-4cb5-9ed9-a052a988319d"
      },
      "id": "u8jEXlmVCwE_",
      "execution_count": null,
      "outputs": [
        {
          "output_type": "stream",
          "name": "stdout",
          "text": [
            "На позиции 0 стоит Цифровая промышленность. Унифицированная архитектура ОРС. Часть 1. Обзор и концепции с расстоянием 319.7960205078125\n",
            "На позиции 1 стоит Enterprise Architecture: A Strategy to Achieve e-Government Dimension of Smart Village Using TOGAF ADM 9.2 с расстоянием 366.5107421875\n",
            "На позиции 2 стоит Enterprise architectures for the digital transformation in small and medium-sized enterprises с расстоянием 370.663330078125\n",
            "На позиции 3 стоит Enterprise Architecture Management for Business Strategy Modelling с расстоянием 371.16815185546875\n",
            "На позиции 4 стоит Business Strategy Modelling based on Enterprise Architecture: A State of the Art Review с расстоянием 372.06494140625\n"
          ]
        }
      ]
    },
    {
      "cell_type": "code",
      "source": [
        "query = 'Техническое обслуживание и ремонт'\n",
        "k=5 # Выводим 5 наиболее похожих тем\n",
        "print_results(query, k)"
      ],
      "metadata": {
        "colab": {
          "base_uri": "https://localhost:8080/"
        },
        "id": "8mDW0vtCM6og",
        "outputId": "2d7b95b6-86fe-4de7-859b-5f4d52509f4d"
      },
      "id": "8mDW0vtCM6og",
      "execution_count": null,
      "outputs": [
        {
          "output_type": "stream",
          "name": "stdout",
          "text": [
            "На позиции 0 стоит Моделирование архитектуры и инфраструктуры предприятия с расстоянием 383.14208984375\n",
            "На позиции 1 стоит Industrial Maintenance and the Digital Twin-An Architectural Assessment с расстоянием 387.1136779785156\n",
            "На позиции 2 стоит Анализ и развитие подходов к формированию стратегии реализации цифровых продуктов и сервисов с расстоянием 391.4576416015625\n",
            "На позиции 3 стоит Архитектурные модели управляемые сервисными соглашениями с расстоянием 392.158935546875\n",
            "На позиции 4 стоит Описание технической архитектуры системы управления предприятием связи с использованием тензорной методологии анализа систем с расстоянием 396.2536926269531\n"
          ]
        }
      ]
    },
    {
      "cell_type": "code",
      "source": [
        "query = 'Цифровой двойник'\n",
        "k=5 # Выводим 5 наиболее похожих тем\n",
        "print_results(query, k)"
      ],
      "metadata": {
        "colab": {
          "base_uri": "https://localhost:8080/"
        },
        "id": "fEzWTRNDNMc9",
        "outputId": "cebe4916-531c-4b33-d05a-2d115542dad5"
      },
      "id": "fEzWTRNDNMc9",
      "execution_count": null,
      "outputs": [
        {
          "output_type": "stream",
          "name": "stdout",
          "text": [
            "На позиции 0 стоит Цифровые двойники в энергетике с расстоянием 334.8797607421875\n",
            "На позиции 1 стоит Ретрофитинг цифровых двойников существующих систем с расстоянием 350.42840576171875\n",
            "На позиции 2 стоит Архитектура системы управления цифровыми двойниками производств как основа интеграции различных моделей их представлений с расстоянием 352.38275146484375\n",
            "На позиции 3 стоит Подход к формированию виртуальной метаструктуры цифрового проектного двойника корпоративной информационной системы машиностроительного предприятия с расстоянием 354.9791259765625\n",
            "На позиции 4 стоит Digital Twins in Manufacturing: A RAMI 4.0 Compliant Concept с расстоянием 357.8473815917969\n"
          ]
        }
      ]
    },
    {
      "cell_type": "code",
      "source": [
        "query = 'Экономический эффект'\n",
        "k=5 # Выводим 5 наиболее похожих тем\n",
        "print_results(query, k)"
      ],
      "metadata": {
        "colab": {
          "base_uri": "https://localhost:8080/"
        },
        "id": "D5jicZFINMZY",
        "outputId": "ed2a0c99-82b6-45ef-f5d5-cc9d0e000a12"
      },
      "id": "D5jicZFINMZY",
      "execution_count": null,
      "outputs": [
        {
          "output_type": "stream",
          "name": "stdout",
          "text": [
            "На позиции 0 стоит Цифровые двойники в энергетике с расстоянием 394.990478515625\n",
            "На позиции 1 стоит Institutional Perspectives on the Process of Enterprise Architecture Adoption с расстоянием 402.10546875\n",
            "На позиции 2 стоит Enterprise Architecture for e-Strategy Standardization and Management: Lessons Learnt from Greece с расстоянием 416.23699951171875\n",
            "На позиции 3 стоит Digitalization and enterprise architecture management: a perspective on benefits and challenges с расстоянием 424.04034423828125\n",
            "На позиции 4 стоит Improving Agency Performance Using Information and Information Technology (Enterprise Architecture Assessment Framework v3.1) с расстоянием 425.6169128417969\n"
          ]
        }
      ]
    },
    {
      "cell_type": "code",
      "source": [
        "query = 'Высокотехнологичные предприятия'\n",
        "k=5 # Выводим 5 наиболее похожих тем\n",
        "print_results(query, k)"
      ],
      "metadata": {
        "colab": {
          "base_uri": "https://localhost:8080/"
        },
        "id": "gr1vd1RnNMWu",
        "outputId": "27dcbc50-93c4-49e0-a01a-9cd48c06f972"
      },
      "id": "gr1vd1RnNMWu",
      "execution_count": null,
      "outputs": [
        {
          "output_type": "stream",
          "name": "stdout",
          "text": [
            "На позиции 0 стоит Enterprise Architecture for Accounting and Finance Transformation: Using Strategy Maps to Develop High-Performance Finance с расстоянием 366.921875\n",
            "На позиции 1 стоит Enterprise Architecture as a Tool for Digital Transformation of Mining Enterprises in the Arctic с расстоянием 367.81036376953125\n",
            "На позиции 2 стоит Пути улучшения использования ИТ-архитектуры предприятия с расстоянием 371.8662109375\n",
            "На позиции 3 стоит Архитектура предприятия? Инжиниринг? Или информационно-управляющий комплекс? с расстоянием 376.3741455078125\n",
            "На позиции 4 стоит Research on management informatization construction of electric power enterprise based on big data technology с расстоянием 377.0616149902344\n"
          ]
        }
      ]
    },
    {
      "cell_type": "code",
      "source": [
        "query = 'Управление архитектурой предприятия'\n",
        "k=5 # Выводим 5 наиболее похожих тем\n",
        "print_results(query, k)"
      ],
      "metadata": {
        "colab": {
          "base_uri": "https://localhost:8080/"
        },
        "id": "W6u4i57XF2Cq",
        "outputId": "c8fa76b8-08b1-4133-b1c3-77c019170317"
      },
      "id": "W6u4i57XF2Cq",
      "execution_count": null,
      "outputs": [
        {
          "output_type": "stream",
          "name": "stdout",
          "text": [
            "На позиции 0 стоит Enterprise Architecture Management for Business Strategy Modelling с расстоянием 266.8367919921875\n",
            "На позиции 1 стоит Enterprise Architecture Design Strategies for UGK Using TOGAF ADM с расстоянием 270.7543640136719\n",
            "На позиции 2 стоит Enterprise Architecture Handbook с расстоянием 281.791259765625\n",
            "На позиции 3 стоит Концепция системы поддержки архитектуры предприятия с расстоянием 282.42620849609375\n",
            "На позиции 4 стоит Современные инструменты архитектуры предприятия ИТ-компании с расстоянием 284.8961181640625\n"
          ]
        }
      ]
    },
    {
      "cell_type": "code",
      "source": [
        "query = 'Предприятие топливно-энергетического сектора'\n",
        "k=5 # Выводим 5 наиболее похожих тем\n",
        "print_results(query, k)"
      ],
      "metadata": {
        "colab": {
          "base_uri": "https://localhost:8080/"
        },
        "id": "_PWxUw6FM6lW",
        "outputId": "28780763-eda4-4cf2-c2b7-f0cd6a8ea6c8"
      },
      "id": "_PWxUw6FM6lW",
      "execution_count": null,
      "outputs": [
        {
          "output_type": "stream",
          "name": "stdout",
          "text": [
            "На позиции 0 стоит Enterprise Architecture as a Tool for Digital Transformation of Mining Enterprises in the Arctic с расстоянием 365.94525146484375\n",
            "На позиции 1 стоит Using Enterprise Architecture to Integrate Lean Manufacturing, Digitalization, and Sustainability: A Lean Enterprise Case Study in the Chemical Industry с расстоянием 371.72711181640625\n",
            "На позиции 2 стоит Electric Utility Enterprise Architecture to Support the Smart Grid с расстоянием 372.59954833984375\n",
            "На позиции 3 стоит Enterprise Business Architecture as a Tool for Sustainable Development in an Enterprise - case study с расстоянием 373.09454345703125\n",
            "На позиции 4 стоит Пути улучшения использования ИТ-архитектуры предприятия с расстоянием 375.4661560058594\n"
          ]
        }
      ]
    },
    {
      "cell_type": "code",
      "source": [
        "query = 'Газпром'\n",
        "k=5 # Выводим 5 наиболее похожих тем\n",
        "print_results(query, k)"
      ],
      "metadata": {
        "colab": {
          "base_uri": "https://localhost:8080/"
        },
        "id": "bJCoNZiyNiPA",
        "outputId": "873b11ef-8053-46a0-ebfc-0fd7b6f6cf3b"
      },
      "id": "bJCoNZiyNiPA",
      "execution_count": null,
      "outputs": [
        {
          "output_type": "stream",
          "name": "stdout",
          "text": [
            "На позиции 0 стоит Enterprise Architecture as a Tool for Digital Transformation of Mining Enterprises in the Arctic с расстоянием 429.8968811035156\n",
            "На позиции 1 стоит Анализ и развитие подходов к формированию стратегии реализации цифровых продуктов и сервисов с расстоянием 434.376953125\n",
            "На позиции 2 стоит Using Enterprise Architecture to Integrate Lean Manufacturing, Digitalization, and Sustainability: A Lean Enterprise Case Study in the Chemical Industry с расстоянием 443.5025634765625\n",
            "На позиции 3 стоит Enterprise Business Architecture as a Tool for Sustainable Development in an Enterprise - case study с расстоянием 446.1255187988281\n",
            "На позиции 4 стоит Разработка архитектуры предприятия с использованием TOGAF ADM (на примере PT Dirgamitra Pasifik) с расстоянием 447.31964111328125\n"
          ]
        }
      ]
    },
    {
      "cell_type": "code",
      "source": [
        "query = 'Транспорт газа'\n",
        "k=5 # Выводим 5 наиболее похожих тем\n",
        "print_results(query, k)"
      ],
      "metadata": {
        "colab": {
          "base_uri": "https://localhost:8080/"
        },
        "id": "ma-u5r-TNiLm",
        "outputId": "c9320595-df40-4227-a3c1-2e10e6b3dcc7"
      },
      "id": "ma-u5r-TNiLm",
      "execution_count": null,
      "outputs": [
        {
          "output_type": "stream",
          "name": "stdout",
          "text": [
            "На позиции 0 стоит Enterprise Architecture as a Tool for Digital Transformation of Mining Enterprises in the Arctic с расстоянием 418.7235107421875\n",
            "На позиции 1 стоит Using Enterprise Architecture to Integrate Lean Manufacturing, Digitalization, and Sustainability: A Lean Enterprise Case Study in the Chemical Industry с расстоянием 429.42791748046875\n",
            "На позиции 2 стоит Сетецентрическая модель и архитектура единого информационного пространства «Проектирование на заказ» сложных технических изделий с расстоянием 432.43463134765625\n",
            "На позиции 3 стоит Архитектура предприятия? Инжиниринг? Или информационно-управляющий комплекс? с расстоянием 434.4161071777344\n",
            "На позиции 4 стоит Современные тенденции применения архитектурного подхода в цифровой трансформации предприятия с расстоянием 434.77001953125\n"
          ]
        }
      ]
    },
    {
      "cell_type": "code",
      "source": [
        "query = 'Технологии управления данными'\n",
        "k=5 # Выводим 5 наиболее похожих тем\n",
        "print_results(query, k)"
      ],
      "metadata": {
        "colab": {
          "base_uri": "https://localhost:8080/"
        },
        "id": "7e_Qyy2nNwy5",
        "outputId": "4f083c3d-05a4-4212-ae6e-4a974463f161"
      },
      "id": "7e_Qyy2nNwy5",
      "execution_count": null,
      "outputs": [
        {
          "output_type": "stream",
          "name": "stdout",
          "text": [
            "На позиции 0 стоит Research on management informatization construction of electric power enterprise based on big data technology с расстоянием 370.6592102050781\n",
            "На позиции 1 стоит Архитектура предприятия? Инжиниринг? Или информационно-управляющий комплекс? с расстоянием 395.7164001464844\n",
            "На позиции 2 стоит Пути улучшения использования ИТ-архитектуры предприятия с расстоянием 396.37445068359375\n",
            "На позиции 3 стоит Decision Support Systems and Business Strategy: A Conceptual Framework for Strategic Information Systems Planning с расстоянием 402.53448486328125\n",
            "На позиции 4 стоит Data and Artificial Intelligence Strategy: A Conceptual Enterprise Big Data Cloud Architecture to Enable Market-Oriented Organisations с расстоянием 409.416748046875\n"
          ]
        }
      ]
    },
    {
      "cell_type": "code",
      "source": [
        "query = 'Искусственные нейронные сети'\n",
        "k=5 # Выводим 5 наиболее похожих тем\n",
        "print_results(query, k)"
      ],
      "metadata": {
        "colab": {
          "base_uri": "https://localhost:8080/"
        },
        "id": "pzstT3fRNwtb",
        "outputId": "39757569-fdad-41e0-9101-1b43c9067490"
      },
      "id": "pzstT3fRNwtb",
      "execution_count": null,
      "outputs": [
        {
          "output_type": "stream",
          "name": "stdout",
          "text": [
            "На позиции 0 стоит Сетецентрическая модель и архитектура единого информационного пространства «Проектирование на заказ» сложных технических изделий с расстоянием 396.43817138671875\n",
            "На позиции 1 стоит Cloud based cyber-physical systems: Network evaluation study с расстоянием 400.99468994140625\n",
            "На позиции 2 стоит A component-based design approach for energy flexibility in cyber-physical manufacturing systems с расстоянием 403.8536376953125\n",
            "На позиции 3 стоит Architecting the Firm – Coherency and Consistency in Managing the Enterprise с расстоянием 406.416015625\n",
            "На позиции 4 стоит Decision Support Systems and Business Strategy: A Conceptual Framework for Strategic Information Systems Planning с расстоянием 409.2617492675781\n"
          ]
        }
      ]
    },
    {
      "cell_type": "code",
      "source": [
        "query = 'Преподавание математики в школе'\n",
        "k=5 # Выводим 5 наиболее похожих тем\n",
        "print_results(query, k)"
      ],
      "metadata": {
        "colab": {
          "base_uri": "https://localhost:8080/"
        },
        "id": "RQ5Mz3nSNiJA",
        "outputId": "4a3f2dd1-f214-4e94-b971-275d3ac84a17"
      },
      "id": "RQ5Mz3nSNiJA",
      "execution_count": null,
      "outputs": [
        {
          "output_type": "stream",
          "name": "stdout",
          "text": [
            "На позиции 0 стоит ENTERPRISE ARCHITECTURE DESIGN VISION ARCHITECTURE AND BUSINESS ARCHITECTURE STAGE USING TOGAF ADM AT SMA ABC с расстоянием 395.53277587890625\n",
            "На позиции 1 стоит Enterprise Architecture as a Tool for Digital Transformation of Mining Enterprises in the Arctic с расстоянием 398.8237609863281\n",
            "На позиции 2 стоит Анализ и развитие подходов к формированию стратегии реализации цифровых продуктов и сервисов с расстоянием 400.983154296875\n",
            "На позиции 3 стоит Архитектура предприятия? Инжиниринг? Или информационно-управляющий комплекс? с расстоянием 404.331298828125\n",
            "На позиции 4 стоит Ретрофитинг цифровых двойников существующих систем с расстоянием 412.7614440917969\n"
          ]
        }
      ]
    },
    {
      "cell_type": "code",
      "source": [],
      "metadata": {
        "id": "VT528B9XM6aD"
      },
      "id": "VT528B9XM6aD",
      "execution_count": null,
      "outputs": []
    },
    {
      "cell_type": "code",
      "execution_count": null,
      "id": "02c23c98-ec75-4064-abf6-8aa4bda9704e",
      "metadata": {
        "colab": {
          "base_uri": "https://localhost:8080/"
        },
        "id": "02c23c98-ec75-4064-abf6-8aa4bda9704e",
        "outputId": "8c36cc4f-434c-4c9c-c05b-bd2c9686a764"
      },
      "outputs": [
        {
          "output_type": "stream",
          "name": "stdout",
          "text": [
            "На позиции 0 стоит Investment Models for Enterprise Architecture (EA) and IT Architecture Projects within the Open Innovation Concept с расстоянием 243.420654296875\n",
            "На позиции 1 стоит Пути улучшения использования ИТ-архитектуры предприятия с расстоянием 254.35882568359375\n",
            "На позиции 2 стоит От стратегии предприятия, через его архитектуру, к IT-стратегии с расстоянием 254.64300537109375\n",
            "На позиции 3 стоит Electronic Enterprise: Strategy and Architecture с расстоянием 263.44775390625\n",
            "На позиции 4 стоит Enterprise Architecture as Information Technology Strategy с расстоянием 266.9862365722656\n"
          ]
        }
      ],
      "source": [
        "query = 'ИТ-отрасль активно развивается\\n С ней связывается все больше аспектов человеческой и общественной жизни. Менеджмент на предприятиях — не исключение. Бизнес использует большое количество решений при выполнении поставленных задач. Информационные системы и технологии (ИТ) в сфере управления организацией — это методы, которые позволяют эффективно производить планирование, обмениваться данными, контролировать поставки, а также совершать другие действия, направленные на оптимизацию рабочих процессов и максимизации прибыли. Они выполняются на базе компьютеров или иной техники.'\n",
        "k=5 # Выводим 5 наиболее похожих тем\n",
        "print_results(query, k)"
      ]
    },
    {
      "cell_type": "code",
      "execution_count": null,
      "id": "903ee533-b1ff-4323-9e82-72a1abcaf17b",
      "metadata": {
        "colab": {
          "base_uri": "https://localhost:8080/"
        },
        "id": "903ee533-b1ff-4323-9e82-72a1abcaf17b",
        "outputId": "97bbfba8-1303-4bdc-d806-dbb09f919702"
      },
      "outputs": [
        {
          "output_type": "stream",
          "name": "stdout",
          "text": [
            "На позиции 0 стоит Систематизация принципов и методология стратегического планирования в условиях цифровой трансформации с расстоянием 238.10975646972656\n",
            "На позиции 1 стоит Стратегическое управление цифровой трансформацией предприятия: концепция и инструменты с расстоянием 268.57489013671875\n",
            "На позиции 2 стоит Архитектурный подход к разработке стратегии цифровой трансформации предприятия с расстоянием 275.68994140625\n",
            "На позиции 3 стоит AI-Driven Enterprise Architecture and Strategic Alignment с расстоянием 276.37164306640625\n",
            "На позиции 4 стоит Process for Leveraging Enterprise Architecture in Information Systems Strategic Planning: A Case of Developing a Strategy and Master Plan for a National Integrated Health Laboratory Information Management System in Uganda с расстоянием 281.1620178222656\n"
          ]
        }
      ],
      "source": [
        "query = 'Инновационный бизнес даже более других видов коммерческой деятельности нуждается в стратегическом планировании. Стратегическое планирование обеспечивает способность инновационного бизнеса быть конкурентоспособным через концентрацию инновационных ресурсов, существенное улучшение результатов инновационной деятельности и раскрытие тех инновационных возможностей, которые позволили бы получить инвестиционные ресурсы. Для тех инвесторов и кредиторов, которые рассматривают вопросы финансирования инновационного бизнеса, стратегия развития инновационного предприятия позволяет выделить предприятие из среды конкурентов и повысить шансы получения финансирования.'\n",
        "k=5 # Выводим 5 наиболее похожих тем\n",
        "print_results(query, k)"
      ]
    },
    {
      "cell_type": "code",
      "execution_count": null,
      "id": "95a49d84-480b-4d5b-b1d4-9739853eef98",
      "metadata": {
        "id": "95a49d84-480b-4d5b-b1d4-9739853eef98"
      },
      "outputs": [],
      "source": []
    }
  ],
  "metadata": {
    "kernelspec": {
      "display_name": "Python 3 (ipykernel)",
      "language": "python",
      "name": "python3"
    },
    "language_info": {
      "codemirror_mode": {
        "name": "ipython",
        "version": 3
      },
      "file_extension": ".py",
      "mimetype": "text/x-python",
      "name": "python",
      "nbconvert_exporter": "python",
      "pygments_lexer": "ipython3",
      "version": "3.10.15"
    },
    "colab": {
      "provenance": []
    },
    "widgets": {
      "application/vnd.jupyter.widget-state+json": {
        "14d5f9cb0fbf4fd0a9bd90b487584c5f": {
          "model_module": "@jupyter-widgets/controls",
          "model_name": "HBoxModel",
          "model_module_version": "1.5.0",
          "state": {
            "_dom_classes": [],
            "_model_module": "@jupyter-widgets/controls",
            "_model_module_version": "1.5.0",
            "_model_name": "HBoxModel",
            "_view_count": null,
            "_view_module": "@jupyter-widgets/controls",
            "_view_module_version": "1.5.0",
            "_view_name": "HBoxView",
            "box_style": "",
            "children": [
              "IPY_MODEL_1b6773b973af450b9961c76e8a6e87ff",
              "IPY_MODEL_9a96202f023140f38434b129c2110aba",
              "IPY_MODEL_f2b81c9131784f71ba9b767dbb1b2cec"
            ],
            "layout": "IPY_MODEL_6fda9bb895dc488d8838f9f09e773a52"
          }
        },
        "1b6773b973af450b9961c76e8a6e87ff": {
          "model_module": "@jupyter-widgets/controls",
          "model_name": "HTMLModel",
          "model_module_version": "1.5.0",
          "state": {
            "_dom_classes": [],
            "_model_module": "@jupyter-widgets/controls",
            "_model_module_version": "1.5.0",
            "_model_name": "HTMLModel",
            "_view_count": null,
            "_view_module": "@jupyter-widgets/controls",
            "_view_module_version": "1.5.0",
            "_view_name": "HTMLView",
            "description": "",
            "description_tooltip": null,
            "layout": "IPY_MODEL_a2d233e0aa3b41c8a8202aebc0caaabb",
            "placeholder": "​",
            "style": "IPY_MODEL_5a6137283f404b2598f3fe2812430b72",
            "value": "tokenizer_config.json: 100%"
          }
        },
        "9a96202f023140f38434b129c2110aba": {
          "model_module": "@jupyter-widgets/controls",
          "model_name": "FloatProgressModel",
          "model_module_version": "1.5.0",
          "state": {
            "_dom_classes": [],
            "_model_module": "@jupyter-widgets/controls",
            "_model_module_version": "1.5.0",
            "_model_name": "FloatProgressModel",
            "_view_count": null,
            "_view_module": "@jupyter-widgets/controls",
            "_view_module_version": "1.5.0",
            "_view_name": "ProgressView",
            "bar_style": "success",
            "description": "",
            "description_tooltip": null,
            "layout": "IPY_MODEL_fd8a624cfeb54bdcb0d7a36de5ec67d5",
            "max": 418,
            "min": 0,
            "orientation": "horizontal",
            "style": "IPY_MODEL_5b2c057bbddc407ab6fea64409764bba",
            "value": 418
          }
        },
        "f2b81c9131784f71ba9b767dbb1b2cec": {
          "model_module": "@jupyter-widgets/controls",
          "model_name": "HTMLModel",
          "model_module_version": "1.5.0",
          "state": {
            "_dom_classes": [],
            "_model_module": "@jupyter-widgets/controls",
            "_model_module_version": "1.5.0",
            "_model_name": "HTMLModel",
            "_view_count": null,
            "_view_module": "@jupyter-widgets/controls",
            "_view_module_version": "1.5.0",
            "_view_name": "HTMLView",
            "description": "",
            "description_tooltip": null,
            "layout": "IPY_MODEL_86ae3fbb23234cc88835468090475e34",
            "placeholder": "​",
            "style": "IPY_MODEL_3056bb10cdc74d4c86263c538552e051",
            "value": " 418/418 [00:00&lt;00:00, 8.38kB/s]"
          }
        },
        "6fda9bb895dc488d8838f9f09e773a52": {
          "model_module": "@jupyter-widgets/base",
          "model_name": "LayoutModel",
          "model_module_version": "1.2.0",
          "state": {
            "_model_module": "@jupyter-widgets/base",
            "_model_module_version": "1.2.0",
            "_model_name": "LayoutModel",
            "_view_count": null,
            "_view_module": "@jupyter-widgets/base",
            "_view_module_version": "1.2.0",
            "_view_name": "LayoutView",
            "align_content": null,
            "align_items": null,
            "align_self": null,
            "border": null,
            "bottom": null,
            "display": null,
            "flex": null,
            "flex_flow": null,
            "grid_area": null,
            "grid_auto_columns": null,
            "grid_auto_flow": null,
            "grid_auto_rows": null,
            "grid_column": null,
            "grid_gap": null,
            "grid_row": null,
            "grid_template_areas": null,
            "grid_template_columns": null,
            "grid_template_rows": null,
            "height": null,
            "justify_content": null,
            "justify_items": null,
            "left": null,
            "margin": null,
            "max_height": null,
            "max_width": null,
            "min_height": null,
            "min_width": null,
            "object_fit": null,
            "object_position": null,
            "order": null,
            "overflow": null,
            "overflow_x": null,
            "overflow_y": null,
            "padding": null,
            "right": null,
            "top": null,
            "visibility": null,
            "width": null
          }
        },
        "a2d233e0aa3b41c8a8202aebc0caaabb": {
          "model_module": "@jupyter-widgets/base",
          "model_name": "LayoutModel",
          "model_module_version": "1.2.0",
          "state": {
            "_model_module": "@jupyter-widgets/base",
            "_model_module_version": "1.2.0",
            "_model_name": "LayoutModel",
            "_view_count": null,
            "_view_module": "@jupyter-widgets/base",
            "_view_module_version": "1.2.0",
            "_view_name": "LayoutView",
            "align_content": null,
            "align_items": null,
            "align_self": null,
            "border": null,
            "bottom": null,
            "display": null,
            "flex": null,
            "flex_flow": null,
            "grid_area": null,
            "grid_auto_columns": null,
            "grid_auto_flow": null,
            "grid_auto_rows": null,
            "grid_column": null,
            "grid_gap": null,
            "grid_row": null,
            "grid_template_areas": null,
            "grid_template_columns": null,
            "grid_template_rows": null,
            "height": null,
            "justify_content": null,
            "justify_items": null,
            "left": null,
            "margin": null,
            "max_height": null,
            "max_width": null,
            "min_height": null,
            "min_width": null,
            "object_fit": null,
            "object_position": null,
            "order": null,
            "overflow": null,
            "overflow_x": null,
            "overflow_y": null,
            "padding": null,
            "right": null,
            "top": null,
            "visibility": null,
            "width": null
          }
        },
        "5a6137283f404b2598f3fe2812430b72": {
          "model_module": "@jupyter-widgets/controls",
          "model_name": "DescriptionStyleModel",
          "model_module_version": "1.5.0",
          "state": {
            "_model_module": "@jupyter-widgets/controls",
            "_model_module_version": "1.5.0",
            "_model_name": "DescriptionStyleModel",
            "_view_count": null,
            "_view_module": "@jupyter-widgets/base",
            "_view_module_version": "1.2.0",
            "_view_name": "StyleView",
            "description_width": ""
          }
        },
        "fd8a624cfeb54bdcb0d7a36de5ec67d5": {
          "model_module": "@jupyter-widgets/base",
          "model_name": "LayoutModel",
          "model_module_version": "1.2.0",
          "state": {
            "_model_module": "@jupyter-widgets/base",
            "_model_module_version": "1.2.0",
            "_model_name": "LayoutModel",
            "_view_count": null,
            "_view_module": "@jupyter-widgets/base",
            "_view_module_version": "1.2.0",
            "_view_name": "LayoutView",
            "align_content": null,
            "align_items": null,
            "align_self": null,
            "border": null,
            "bottom": null,
            "display": null,
            "flex": null,
            "flex_flow": null,
            "grid_area": null,
            "grid_auto_columns": null,
            "grid_auto_flow": null,
            "grid_auto_rows": null,
            "grid_column": null,
            "grid_gap": null,
            "grid_row": null,
            "grid_template_areas": null,
            "grid_template_columns": null,
            "grid_template_rows": null,
            "height": null,
            "justify_content": null,
            "justify_items": null,
            "left": null,
            "margin": null,
            "max_height": null,
            "max_width": null,
            "min_height": null,
            "min_width": null,
            "object_fit": null,
            "object_position": null,
            "order": null,
            "overflow": null,
            "overflow_x": null,
            "overflow_y": null,
            "padding": null,
            "right": null,
            "top": null,
            "visibility": null,
            "width": null
          }
        },
        "5b2c057bbddc407ab6fea64409764bba": {
          "model_module": "@jupyter-widgets/controls",
          "model_name": "ProgressStyleModel",
          "model_module_version": "1.5.0",
          "state": {
            "_model_module": "@jupyter-widgets/controls",
            "_model_module_version": "1.5.0",
            "_model_name": "ProgressStyleModel",
            "_view_count": null,
            "_view_module": "@jupyter-widgets/base",
            "_view_module_version": "1.2.0",
            "_view_name": "StyleView",
            "bar_color": null,
            "description_width": ""
          }
        },
        "86ae3fbb23234cc88835468090475e34": {
          "model_module": "@jupyter-widgets/base",
          "model_name": "LayoutModel",
          "model_module_version": "1.2.0",
          "state": {
            "_model_module": "@jupyter-widgets/base",
            "_model_module_version": "1.2.0",
            "_model_name": "LayoutModel",
            "_view_count": null,
            "_view_module": "@jupyter-widgets/base",
            "_view_module_version": "1.2.0",
            "_view_name": "LayoutView",
            "align_content": null,
            "align_items": null,
            "align_self": null,
            "border": null,
            "bottom": null,
            "display": null,
            "flex": null,
            "flex_flow": null,
            "grid_area": null,
            "grid_auto_columns": null,
            "grid_auto_flow": null,
            "grid_auto_rows": null,
            "grid_column": null,
            "grid_gap": null,
            "grid_row": null,
            "grid_template_areas": null,
            "grid_template_columns": null,
            "grid_template_rows": null,
            "height": null,
            "justify_content": null,
            "justify_items": null,
            "left": null,
            "margin": null,
            "max_height": null,
            "max_width": null,
            "min_height": null,
            "min_width": null,
            "object_fit": null,
            "object_position": null,
            "order": null,
            "overflow": null,
            "overflow_x": null,
            "overflow_y": null,
            "padding": null,
            "right": null,
            "top": null,
            "visibility": null,
            "width": null
          }
        },
        "3056bb10cdc74d4c86263c538552e051": {
          "model_module": "@jupyter-widgets/controls",
          "model_name": "DescriptionStyleModel",
          "model_module_version": "1.5.0",
          "state": {
            "_model_module": "@jupyter-widgets/controls",
            "_model_module_version": "1.5.0",
            "_model_name": "DescriptionStyleModel",
            "_view_count": null,
            "_view_module": "@jupyter-widgets/base",
            "_view_module_version": "1.2.0",
            "_view_name": "StyleView",
            "description_width": ""
          }
        },
        "2549180b5e874b0c99f45d16724b967f": {
          "model_module": "@jupyter-widgets/controls",
          "model_name": "HBoxModel",
          "model_module_version": "1.5.0",
          "state": {
            "_dom_classes": [],
            "_model_module": "@jupyter-widgets/controls",
            "_model_module_version": "1.5.0",
            "_model_name": "HBoxModel",
            "_view_count": null,
            "_view_module": "@jupyter-widgets/controls",
            "_view_module_version": "1.5.0",
            "_view_name": "HBoxView",
            "box_style": "",
            "children": [
              "IPY_MODEL_a584f3dcd88f45ccb3613c1be5650e4d",
              "IPY_MODEL_56e416acc4ab4dff860853de01485513",
              "IPY_MODEL_c2886af34da74bbb8a9eb7a687079bcb"
            ],
            "layout": "IPY_MODEL_58e456a81e964548ac3862dfaa7b8464"
          }
        },
        "a584f3dcd88f45ccb3613c1be5650e4d": {
          "model_module": "@jupyter-widgets/controls",
          "model_name": "HTMLModel",
          "model_module_version": "1.5.0",
          "state": {
            "_dom_classes": [],
            "_model_module": "@jupyter-widgets/controls",
            "_model_module_version": "1.5.0",
            "_model_name": "HTMLModel",
            "_view_count": null,
            "_view_module": "@jupyter-widgets/controls",
            "_view_module_version": "1.5.0",
            "_view_name": "HTMLView",
            "description": "",
            "description_tooltip": null,
            "layout": "IPY_MODEL_7de4c3c0aa82418483b57beaa8c6aca1",
            "placeholder": "​",
            "style": "IPY_MODEL_e117c48c1ad948bd81d9896dfcf11227",
            "value": "sentencepiece.bpe.model: 100%"
          }
        },
        "56e416acc4ab4dff860853de01485513": {
          "model_module": "@jupyter-widgets/controls",
          "model_name": "FloatProgressModel",
          "model_module_version": "1.5.0",
          "state": {
            "_dom_classes": [],
            "_model_module": "@jupyter-widgets/controls",
            "_model_module_version": "1.5.0",
            "_model_name": "FloatProgressModel",
            "_view_count": null,
            "_view_module": "@jupyter-widgets/controls",
            "_view_module_version": "1.5.0",
            "_view_name": "ProgressView",
            "bar_style": "success",
            "description": "",
            "description_tooltip": null,
            "layout": "IPY_MODEL_ff9f6cba044b43eb9692658ff5c06e89",
            "max": 5069051,
            "min": 0,
            "orientation": "horizontal",
            "style": "IPY_MODEL_2dcc9e4b59b9404190fd358d2280a842",
            "value": 5069051
          }
        },
        "c2886af34da74bbb8a9eb7a687079bcb": {
          "model_module": "@jupyter-widgets/controls",
          "model_name": "HTMLModel",
          "model_module_version": "1.5.0",
          "state": {
            "_dom_classes": [],
            "_model_module": "@jupyter-widgets/controls",
            "_model_module_version": "1.5.0",
            "_model_name": "HTMLModel",
            "_view_count": null,
            "_view_module": "@jupyter-widgets/controls",
            "_view_module_version": "1.5.0",
            "_view_name": "HTMLView",
            "description": "",
            "description_tooltip": null,
            "layout": "IPY_MODEL_8bc7524eea824604a14ba4810c298a2e",
            "placeholder": "​",
            "style": "IPY_MODEL_f57aa9b68f9747f4a64f1cdb5675a59a",
            "value": " 5.07M/5.07M [00:00&lt;00:00, 6.74MB/s]"
          }
        },
        "58e456a81e964548ac3862dfaa7b8464": {
          "model_module": "@jupyter-widgets/base",
          "model_name": "LayoutModel",
          "model_module_version": "1.2.0",
          "state": {
            "_model_module": "@jupyter-widgets/base",
            "_model_module_version": "1.2.0",
            "_model_name": "LayoutModel",
            "_view_count": null,
            "_view_module": "@jupyter-widgets/base",
            "_view_module_version": "1.2.0",
            "_view_name": "LayoutView",
            "align_content": null,
            "align_items": null,
            "align_self": null,
            "border": null,
            "bottom": null,
            "display": null,
            "flex": null,
            "flex_flow": null,
            "grid_area": null,
            "grid_auto_columns": null,
            "grid_auto_flow": null,
            "grid_auto_rows": null,
            "grid_column": null,
            "grid_gap": null,
            "grid_row": null,
            "grid_template_areas": null,
            "grid_template_columns": null,
            "grid_template_rows": null,
            "height": null,
            "justify_content": null,
            "justify_items": null,
            "left": null,
            "margin": null,
            "max_height": null,
            "max_width": null,
            "min_height": null,
            "min_width": null,
            "object_fit": null,
            "object_position": null,
            "order": null,
            "overflow": null,
            "overflow_x": null,
            "overflow_y": null,
            "padding": null,
            "right": null,
            "top": null,
            "visibility": null,
            "width": null
          }
        },
        "7de4c3c0aa82418483b57beaa8c6aca1": {
          "model_module": "@jupyter-widgets/base",
          "model_name": "LayoutModel",
          "model_module_version": "1.2.0",
          "state": {
            "_model_module": "@jupyter-widgets/base",
            "_model_module_version": "1.2.0",
            "_model_name": "LayoutModel",
            "_view_count": null,
            "_view_module": "@jupyter-widgets/base",
            "_view_module_version": "1.2.0",
            "_view_name": "LayoutView",
            "align_content": null,
            "align_items": null,
            "align_self": null,
            "border": null,
            "bottom": null,
            "display": null,
            "flex": null,
            "flex_flow": null,
            "grid_area": null,
            "grid_auto_columns": null,
            "grid_auto_flow": null,
            "grid_auto_rows": null,
            "grid_column": null,
            "grid_gap": null,
            "grid_row": null,
            "grid_template_areas": null,
            "grid_template_columns": null,
            "grid_template_rows": null,
            "height": null,
            "justify_content": null,
            "justify_items": null,
            "left": null,
            "margin": null,
            "max_height": null,
            "max_width": null,
            "min_height": null,
            "min_width": null,
            "object_fit": null,
            "object_position": null,
            "order": null,
            "overflow": null,
            "overflow_x": null,
            "overflow_y": null,
            "padding": null,
            "right": null,
            "top": null,
            "visibility": null,
            "width": null
          }
        },
        "e117c48c1ad948bd81d9896dfcf11227": {
          "model_module": "@jupyter-widgets/controls",
          "model_name": "DescriptionStyleModel",
          "model_module_version": "1.5.0",
          "state": {
            "_model_module": "@jupyter-widgets/controls",
            "_model_module_version": "1.5.0",
            "_model_name": "DescriptionStyleModel",
            "_view_count": null,
            "_view_module": "@jupyter-widgets/base",
            "_view_module_version": "1.2.0",
            "_view_name": "StyleView",
            "description_width": ""
          }
        },
        "ff9f6cba044b43eb9692658ff5c06e89": {
          "model_module": "@jupyter-widgets/base",
          "model_name": "LayoutModel",
          "model_module_version": "1.2.0",
          "state": {
            "_model_module": "@jupyter-widgets/base",
            "_model_module_version": "1.2.0",
            "_model_name": "LayoutModel",
            "_view_count": null,
            "_view_module": "@jupyter-widgets/base",
            "_view_module_version": "1.2.0",
            "_view_name": "LayoutView",
            "align_content": null,
            "align_items": null,
            "align_self": null,
            "border": null,
            "bottom": null,
            "display": null,
            "flex": null,
            "flex_flow": null,
            "grid_area": null,
            "grid_auto_columns": null,
            "grid_auto_flow": null,
            "grid_auto_rows": null,
            "grid_column": null,
            "grid_gap": null,
            "grid_row": null,
            "grid_template_areas": null,
            "grid_template_columns": null,
            "grid_template_rows": null,
            "height": null,
            "justify_content": null,
            "justify_items": null,
            "left": null,
            "margin": null,
            "max_height": null,
            "max_width": null,
            "min_height": null,
            "min_width": null,
            "object_fit": null,
            "object_position": null,
            "order": null,
            "overflow": null,
            "overflow_x": null,
            "overflow_y": null,
            "padding": null,
            "right": null,
            "top": null,
            "visibility": null,
            "width": null
          }
        },
        "2dcc9e4b59b9404190fd358d2280a842": {
          "model_module": "@jupyter-widgets/controls",
          "model_name": "ProgressStyleModel",
          "model_module_version": "1.5.0",
          "state": {
            "_model_module": "@jupyter-widgets/controls",
            "_model_module_version": "1.5.0",
            "_model_name": "ProgressStyleModel",
            "_view_count": null,
            "_view_module": "@jupyter-widgets/base",
            "_view_module_version": "1.2.0",
            "_view_name": "StyleView",
            "bar_color": null,
            "description_width": ""
          }
        },
        "8bc7524eea824604a14ba4810c298a2e": {
          "model_module": "@jupyter-widgets/base",
          "model_name": "LayoutModel",
          "model_module_version": "1.2.0",
          "state": {
            "_model_module": "@jupyter-widgets/base",
            "_model_module_version": "1.2.0",
            "_model_name": "LayoutModel",
            "_view_count": null,
            "_view_module": "@jupyter-widgets/base",
            "_view_module_version": "1.2.0",
            "_view_name": "LayoutView",
            "align_content": null,
            "align_items": null,
            "align_self": null,
            "border": null,
            "bottom": null,
            "display": null,
            "flex": null,
            "flex_flow": null,
            "grid_area": null,
            "grid_auto_columns": null,
            "grid_auto_flow": null,
            "grid_auto_rows": null,
            "grid_column": null,
            "grid_gap": null,
            "grid_row": null,
            "grid_template_areas": null,
            "grid_template_columns": null,
            "grid_template_rows": null,
            "height": null,
            "justify_content": null,
            "justify_items": null,
            "left": null,
            "margin": null,
            "max_height": null,
            "max_width": null,
            "min_height": null,
            "min_width": null,
            "object_fit": null,
            "object_position": null,
            "order": null,
            "overflow": null,
            "overflow_x": null,
            "overflow_y": null,
            "padding": null,
            "right": null,
            "top": null,
            "visibility": null,
            "width": null
          }
        },
        "f57aa9b68f9747f4a64f1cdb5675a59a": {
          "model_module": "@jupyter-widgets/controls",
          "model_name": "DescriptionStyleModel",
          "model_module_version": "1.5.0",
          "state": {
            "_model_module": "@jupyter-widgets/controls",
            "_model_module_version": "1.5.0",
            "_model_name": "DescriptionStyleModel",
            "_view_count": null,
            "_view_module": "@jupyter-widgets/base",
            "_view_module_version": "1.2.0",
            "_view_name": "StyleView",
            "description_width": ""
          }
        },
        "13a52ea0d3de4d7e8e513e66839e8c04": {
          "model_module": "@jupyter-widgets/controls",
          "model_name": "HBoxModel",
          "model_module_version": "1.5.0",
          "state": {
            "_dom_classes": [],
            "_model_module": "@jupyter-widgets/controls",
            "_model_module_version": "1.5.0",
            "_model_name": "HBoxModel",
            "_view_count": null,
            "_view_module": "@jupyter-widgets/controls",
            "_view_module_version": "1.5.0",
            "_view_name": "HBoxView",
            "box_style": "",
            "children": [
              "IPY_MODEL_c7bdb3b586c84a01bbee9125df3ba744",
              "IPY_MODEL_ae93cd444392478ab9cc4fe19d0b5941",
              "IPY_MODEL_aa7f3c239aab414b9c86d37a50511043"
            ],
            "layout": "IPY_MODEL_842f1c3d2e7d46c3bb3b0dcdb35c3fbd"
          }
        },
        "c7bdb3b586c84a01bbee9125df3ba744": {
          "model_module": "@jupyter-widgets/controls",
          "model_name": "HTMLModel",
          "model_module_version": "1.5.0",
          "state": {
            "_dom_classes": [],
            "_model_module": "@jupyter-widgets/controls",
            "_model_module_version": "1.5.0",
            "_model_name": "HTMLModel",
            "_view_count": null,
            "_view_module": "@jupyter-widgets/controls",
            "_view_module_version": "1.5.0",
            "_view_name": "HTMLView",
            "description": "",
            "description_tooltip": null,
            "layout": "IPY_MODEL_e5771d2a7ce64db4b8671109fa4c948b",
            "placeholder": "​",
            "style": "IPY_MODEL_0fa30e8f6c1d42f6aba89b02ada7c9f0",
            "value": "tokenizer.json: 100%"
          }
        },
        "ae93cd444392478ab9cc4fe19d0b5941": {
          "model_module": "@jupyter-widgets/controls",
          "model_name": "FloatProgressModel",
          "model_module_version": "1.5.0",
          "state": {
            "_dom_classes": [],
            "_model_module": "@jupyter-widgets/controls",
            "_model_module_version": "1.5.0",
            "_model_name": "FloatProgressModel",
            "_view_count": null,
            "_view_module": "@jupyter-widgets/controls",
            "_view_module_version": "1.5.0",
            "_view_name": "ProgressView",
            "bar_style": "success",
            "description": "",
            "description_tooltip": null,
            "layout": "IPY_MODEL_88b6eb53de6e4d5eaa50c957954edc96",
            "max": 17082660,
            "min": 0,
            "orientation": "horizontal",
            "style": "IPY_MODEL_ae28a2bb6e4145c1a6841ebc1cd58704",
            "value": 17082660
          }
        },
        "aa7f3c239aab414b9c86d37a50511043": {
          "model_module": "@jupyter-widgets/controls",
          "model_name": "HTMLModel",
          "model_module_version": "1.5.0",
          "state": {
            "_dom_classes": [],
            "_model_module": "@jupyter-widgets/controls",
            "_model_module_version": "1.5.0",
            "_model_name": "HTMLModel",
            "_view_count": null,
            "_view_module": "@jupyter-widgets/controls",
            "_view_module_version": "1.5.0",
            "_view_name": "HTMLView",
            "description": "",
            "description_tooltip": null,
            "layout": "IPY_MODEL_7cab051bbb844d99a07f132f5ebd2837",
            "placeholder": "​",
            "style": "IPY_MODEL_90019a697254478a94c99ff1d8cbf55d",
            "value": " 17.1M/17.1M [00:00&lt;00:00, 41.5MB/s]"
          }
        },
        "842f1c3d2e7d46c3bb3b0dcdb35c3fbd": {
          "model_module": "@jupyter-widgets/base",
          "model_name": "LayoutModel",
          "model_module_version": "1.2.0",
          "state": {
            "_model_module": "@jupyter-widgets/base",
            "_model_module_version": "1.2.0",
            "_model_name": "LayoutModel",
            "_view_count": null,
            "_view_module": "@jupyter-widgets/base",
            "_view_module_version": "1.2.0",
            "_view_name": "LayoutView",
            "align_content": null,
            "align_items": null,
            "align_self": null,
            "border": null,
            "bottom": null,
            "display": null,
            "flex": null,
            "flex_flow": null,
            "grid_area": null,
            "grid_auto_columns": null,
            "grid_auto_flow": null,
            "grid_auto_rows": null,
            "grid_column": null,
            "grid_gap": null,
            "grid_row": null,
            "grid_template_areas": null,
            "grid_template_columns": null,
            "grid_template_rows": null,
            "height": null,
            "justify_content": null,
            "justify_items": null,
            "left": null,
            "margin": null,
            "max_height": null,
            "max_width": null,
            "min_height": null,
            "min_width": null,
            "object_fit": null,
            "object_position": null,
            "order": null,
            "overflow": null,
            "overflow_x": null,
            "overflow_y": null,
            "padding": null,
            "right": null,
            "top": null,
            "visibility": null,
            "width": null
          }
        },
        "e5771d2a7ce64db4b8671109fa4c948b": {
          "model_module": "@jupyter-widgets/base",
          "model_name": "LayoutModel",
          "model_module_version": "1.2.0",
          "state": {
            "_model_module": "@jupyter-widgets/base",
            "_model_module_version": "1.2.0",
            "_model_name": "LayoutModel",
            "_view_count": null,
            "_view_module": "@jupyter-widgets/base",
            "_view_module_version": "1.2.0",
            "_view_name": "LayoutView",
            "align_content": null,
            "align_items": null,
            "align_self": null,
            "border": null,
            "bottom": null,
            "display": null,
            "flex": null,
            "flex_flow": null,
            "grid_area": null,
            "grid_auto_columns": null,
            "grid_auto_flow": null,
            "grid_auto_rows": null,
            "grid_column": null,
            "grid_gap": null,
            "grid_row": null,
            "grid_template_areas": null,
            "grid_template_columns": null,
            "grid_template_rows": null,
            "height": null,
            "justify_content": null,
            "justify_items": null,
            "left": null,
            "margin": null,
            "max_height": null,
            "max_width": null,
            "min_height": null,
            "min_width": null,
            "object_fit": null,
            "object_position": null,
            "order": null,
            "overflow": null,
            "overflow_x": null,
            "overflow_y": null,
            "padding": null,
            "right": null,
            "top": null,
            "visibility": null,
            "width": null
          }
        },
        "0fa30e8f6c1d42f6aba89b02ada7c9f0": {
          "model_module": "@jupyter-widgets/controls",
          "model_name": "DescriptionStyleModel",
          "model_module_version": "1.5.0",
          "state": {
            "_model_module": "@jupyter-widgets/controls",
            "_model_module_version": "1.5.0",
            "_model_name": "DescriptionStyleModel",
            "_view_count": null,
            "_view_module": "@jupyter-widgets/base",
            "_view_module_version": "1.2.0",
            "_view_name": "StyleView",
            "description_width": ""
          }
        },
        "88b6eb53de6e4d5eaa50c957954edc96": {
          "model_module": "@jupyter-widgets/base",
          "model_name": "LayoutModel",
          "model_module_version": "1.2.0",
          "state": {
            "_model_module": "@jupyter-widgets/base",
            "_model_module_version": "1.2.0",
            "_model_name": "LayoutModel",
            "_view_count": null,
            "_view_module": "@jupyter-widgets/base",
            "_view_module_version": "1.2.0",
            "_view_name": "LayoutView",
            "align_content": null,
            "align_items": null,
            "align_self": null,
            "border": null,
            "bottom": null,
            "display": null,
            "flex": null,
            "flex_flow": null,
            "grid_area": null,
            "grid_auto_columns": null,
            "grid_auto_flow": null,
            "grid_auto_rows": null,
            "grid_column": null,
            "grid_gap": null,
            "grid_row": null,
            "grid_template_areas": null,
            "grid_template_columns": null,
            "grid_template_rows": null,
            "height": null,
            "justify_content": null,
            "justify_items": null,
            "left": null,
            "margin": null,
            "max_height": null,
            "max_width": null,
            "min_height": null,
            "min_width": null,
            "object_fit": null,
            "object_position": null,
            "order": null,
            "overflow": null,
            "overflow_x": null,
            "overflow_y": null,
            "padding": null,
            "right": null,
            "top": null,
            "visibility": null,
            "width": null
          }
        },
        "ae28a2bb6e4145c1a6841ebc1cd58704": {
          "model_module": "@jupyter-widgets/controls",
          "model_name": "ProgressStyleModel",
          "model_module_version": "1.5.0",
          "state": {
            "_model_module": "@jupyter-widgets/controls",
            "_model_module_version": "1.5.0",
            "_model_name": "ProgressStyleModel",
            "_view_count": null,
            "_view_module": "@jupyter-widgets/base",
            "_view_module_version": "1.2.0",
            "_view_name": "StyleView",
            "bar_color": null,
            "description_width": ""
          }
        },
        "7cab051bbb844d99a07f132f5ebd2837": {
          "model_module": "@jupyter-widgets/base",
          "model_name": "LayoutModel",
          "model_module_version": "1.2.0",
          "state": {
            "_model_module": "@jupyter-widgets/base",
            "_model_module_version": "1.2.0",
            "_model_name": "LayoutModel",
            "_view_count": null,
            "_view_module": "@jupyter-widgets/base",
            "_view_module_version": "1.2.0",
            "_view_name": "LayoutView",
            "align_content": null,
            "align_items": null,
            "align_self": null,
            "border": null,
            "bottom": null,
            "display": null,
            "flex": null,
            "flex_flow": null,
            "grid_area": null,
            "grid_auto_columns": null,
            "grid_auto_flow": null,
            "grid_auto_rows": null,
            "grid_column": null,
            "grid_gap": null,
            "grid_row": null,
            "grid_template_areas": null,
            "grid_template_columns": null,
            "grid_template_rows": null,
            "height": null,
            "justify_content": null,
            "justify_items": null,
            "left": null,
            "margin": null,
            "max_height": null,
            "max_width": null,
            "min_height": null,
            "min_width": null,
            "object_fit": null,
            "object_position": null,
            "order": null,
            "overflow": null,
            "overflow_x": null,
            "overflow_y": null,
            "padding": null,
            "right": null,
            "top": null,
            "visibility": null,
            "width": null
          }
        },
        "90019a697254478a94c99ff1d8cbf55d": {
          "model_module": "@jupyter-widgets/controls",
          "model_name": "DescriptionStyleModel",
          "model_module_version": "1.5.0",
          "state": {
            "_model_module": "@jupyter-widgets/controls",
            "_model_module_version": "1.5.0",
            "_model_name": "DescriptionStyleModel",
            "_view_count": null,
            "_view_module": "@jupyter-widgets/base",
            "_view_module_version": "1.2.0",
            "_view_name": "StyleView",
            "description_width": ""
          }
        },
        "8d1c6085ee0448b09021e76a2c88e288": {
          "model_module": "@jupyter-widgets/controls",
          "model_name": "HBoxModel",
          "model_module_version": "1.5.0",
          "state": {
            "_dom_classes": [],
            "_model_module": "@jupyter-widgets/controls",
            "_model_module_version": "1.5.0",
            "_model_name": "HBoxModel",
            "_view_count": null,
            "_view_module": "@jupyter-widgets/controls",
            "_view_module_version": "1.5.0",
            "_view_name": "HBoxView",
            "box_style": "",
            "children": [
              "IPY_MODEL_760142fb984a4077911ea9b22301ebbb",
              "IPY_MODEL_d2677d8266c946379d984af58b311fbe",
              "IPY_MODEL_c5d7a77423394d3e802cbb96738ba09a"
            ],
            "layout": "IPY_MODEL_79a5761dd4174735b924f92018c62015"
          }
        },
        "760142fb984a4077911ea9b22301ebbb": {
          "model_module": "@jupyter-widgets/controls",
          "model_name": "HTMLModel",
          "model_module_version": "1.5.0",
          "state": {
            "_dom_classes": [],
            "_model_module": "@jupyter-widgets/controls",
            "_model_module_version": "1.5.0",
            "_model_name": "HTMLModel",
            "_view_count": null,
            "_view_module": "@jupyter-widgets/controls",
            "_view_module_version": "1.5.0",
            "_view_name": "HTMLView",
            "description": "",
            "description_tooltip": null,
            "layout": "IPY_MODEL_0ff7e12fbb0b4351b01f1def0065ad3e",
            "placeholder": "​",
            "style": "IPY_MODEL_35845417f58542d4a9c4cdd89f4eeee0",
            "value": "special_tokens_map.json: 100%"
          }
        },
        "d2677d8266c946379d984af58b311fbe": {
          "model_module": "@jupyter-widgets/controls",
          "model_name": "FloatProgressModel",
          "model_module_version": "1.5.0",
          "state": {
            "_dom_classes": [],
            "_model_module": "@jupyter-widgets/controls",
            "_model_module_version": "1.5.0",
            "_model_name": "FloatProgressModel",
            "_view_count": null,
            "_view_module": "@jupyter-widgets/controls",
            "_view_module_version": "1.5.0",
            "_view_name": "ProgressView",
            "bar_style": "success",
            "description": "",
            "description_tooltip": null,
            "layout": "IPY_MODEL_98992b71b8d04ce7a27194726378d6b5",
            "max": 280,
            "min": 0,
            "orientation": "horizontal",
            "style": "IPY_MODEL_8488024dbba74ee3b2fa77224a838864",
            "value": 280
          }
        },
        "c5d7a77423394d3e802cbb96738ba09a": {
          "model_module": "@jupyter-widgets/controls",
          "model_name": "HTMLModel",
          "model_module_version": "1.5.0",
          "state": {
            "_dom_classes": [],
            "_model_module": "@jupyter-widgets/controls",
            "_model_module_version": "1.5.0",
            "_model_name": "HTMLModel",
            "_view_count": null,
            "_view_module": "@jupyter-widgets/controls",
            "_view_module_version": "1.5.0",
            "_view_name": "HTMLView",
            "description": "",
            "description_tooltip": null,
            "layout": "IPY_MODEL_09743f5b6103476780bb2c183e2dfa03",
            "placeholder": "​",
            "style": "IPY_MODEL_13f42a17c8924a70b07247e56ac4c3cb",
            "value": " 280/280 [00:00&lt;00:00, 5.56kB/s]"
          }
        },
        "79a5761dd4174735b924f92018c62015": {
          "model_module": "@jupyter-widgets/base",
          "model_name": "LayoutModel",
          "model_module_version": "1.2.0",
          "state": {
            "_model_module": "@jupyter-widgets/base",
            "_model_module_version": "1.2.0",
            "_model_name": "LayoutModel",
            "_view_count": null,
            "_view_module": "@jupyter-widgets/base",
            "_view_module_version": "1.2.0",
            "_view_name": "LayoutView",
            "align_content": null,
            "align_items": null,
            "align_self": null,
            "border": null,
            "bottom": null,
            "display": null,
            "flex": null,
            "flex_flow": null,
            "grid_area": null,
            "grid_auto_columns": null,
            "grid_auto_flow": null,
            "grid_auto_rows": null,
            "grid_column": null,
            "grid_gap": null,
            "grid_row": null,
            "grid_template_areas": null,
            "grid_template_columns": null,
            "grid_template_rows": null,
            "height": null,
            "justify_content": null,
            "justify_items": null,
            "left": null,
            "margin": null,
            "max_height": null,
            "max_width": null,
            "min_height": null,
            "min_width": null,
            "object_fit": null,
            "object_position": null,
            "order": null,
            "overflow": null,
            "overflow_x": null,
            "overflow_y": null,
            "padding": null,
            "right": null,
            "top": null,
            "visibility": null,
            "width": null
          }
        },
        "0ff7e12fbb0b4351b01f1def0065ad3e": {
          "model_module": "@jupyter-widgets/base",
          "model_name": "LayoutModel",
          "model_module_version": "1.2.0",
          "state": {
            "_model_module": "@jupyter-widgets/base",
            "_model_module_version": "1.2.0",
            "_model_name": "LayoutModel",
            "_view_count": null,
            "_view_module": "@jupyter-widgets/base",
            "_view_module_version": "1.2.0",
            "_view_name": "LayoutView",
            "align_content": null,
            "align_items": null,
            "align_self": null,
            "border": null,
            "bottom": null,
            "display": null,
            "flex": null,
            "flex_flow": null,
            "grid_area": null,
            "grid_auto_columns": null,
            "grid_auto_flow": null,
            "grid_auto_rows": null,
            "grid_column": null,
            "grid_gap": null,
            "grid_row": null,
            "grid_template_areas": null,
            "grid_template_columns": null,
            "grid_template_rows": null,
            "height": null,
            "justify_content": null,
            "justify_items": null,
            "left": null,
            "margin": null,
            "max_height": null,
            "max_width": null,
            "min_height": null,
            "min_width": null,
            "object_fit": null,
            "object_position": null,
            "order": null,
            "overflow": null,
            "overflow_x": null,
            "overflow_y": null,
            "padding": null,
            "right": null,
            "top": null,
            "visibility": null,
            "width": null
          }
        },
        "35845417f58542d4a9c4cdd89f4eeee0": {
          "model_module": "@jupyter-widgets/controls",
          "model_name": "DescriptionStyleModel",
          "model_module_version": "1.5.0",
          "state": {
            "_model_module": "@jupyter-widgets/controls",
            "_model_module_version": "1.5.0",
            "_model_name": "DescriptionStyleModel",
            "_view_count": null,
            "_view_module": "@jupyter-widgets/base",
            "_view_module_version": "1.2.0",
            "_view_name": "StyleView",
            "description_width": ""
          }
        },
        "98992b71b8d04ce7a27194726378d6b5": {
          "model_module": "@jupyter-widgets/base",
          "model_name": "LayoutModel",
          "model_module_version": "1.2.0",
          "state": {
            "_model_module": "@jupyter-widgets/base",
            "_model_module_version": "1.2.0",
            "_model_name": "LayoutModel",
            "_view_count": null,
            "_view_module": "@jupyter-widgets/base",
            "_view_module_version": "1.2.0",
            "_view_name": "LayoutView",
            "align_content": null,
            "align_items": null,
            "align_self": null,
            "border": null,
            "bottom": null,
            "display": null,
            "flex": null,
            "flex_flow": null,
            "grid_area": null,
            "grid_auto_columns": null,
            "grid_auto_flow": null,
            "grid_auto_rows": null,
            "grid_column": null,
            "grid_gap": null,
            "grid_row": null,
            "grid_template_areas": null,
            "grid_template_columns": null,
            "grid_template_rows": null,
            "height": null,
            "justify_content": null,
            "justify_items": null,
            "left": null,
            "margin": null,
            "max_height": null,
            "max_width": null,
            "min_height": null,
            "min_width": null,
            "object_fit": null,
            "object_position": null,
            "order": null,
            "overflow": null,
            "overflow_x": null,
            "overflow_y": null,
            "padding": null,
            "right": null,
            "top": null,
            "visibility": null,
            "width": null
          }
        },
        "8488024dbba74ee3b2fa77224a838864": {
          "model_module": "@jupyter-widgets/controls",
          "model_name": "ProgressStyleModel",
          "model_module_version": "1.5.0",
          "state": {
            "_model_module": "@jupyter-widgets/controls",
            "_model_module_version": "1.5.0",
            "_model_name": "ProgressStyleModel",
            "_view_count": null,
            "_view_module": "@jupyter-widgets/base",
            "_view_module_version": "1.2.0",
            "_view_name": "StyleView",
            "bar_color": null,
            "description_width": ""
          }
        },
        "09743f5b6103476780bb2c183e2dfa03": {
          "model_module": "@jupyter-widgets/base",
          "model_name": "LayoutModel",
          "model_module_version": "1.2.0",
          "state": {
            "_model_module": "@jupyter-widgets/base",
            "_model_module_version": "1.2.0",
            "_model_name": "LayoutModel",
            "_view_count": null,
            "_view_module": "@jupyter-widgets/base",
            "_view_module_version": "1.2.0",
            "_view_name": "LayoutView",
            "align_content": null,
            "align_items": null,
            "align_self": null,
            "border": null,
            "bottom": null,
            "display": null,
            "flex": null,
            "flex_flow": null,
            "grid_area": null,
            "grid_auto_columns": null,
            "grid_auto_flow": null,
            "grid_auto_rows": null,
            "grid_column": null,
            "grid_gap": null,
            "grid_row": null,
            "grid_template_areas": null,
            "grid_template_columns": null,
            "grid_template_rows": null,
            "height": null,
            "justify_content": null,
            "justify_items": null,
            "left": null,
            "margin": null,
            "max_height": null,
            "max_width": null,
            "min_height": null,
            "min_width": null,
            "object_fit": null,
            "object_position": null,
            "order": null,
            "overflow": null,
            "overflow_x": null,
            "overflow_y": null,
            "padding": null,
            "right": null,
            "top": null,
            "visibility": null,
            "width": null
          }
        },
        "13f42a17c8924a70b07247e56ac4c3cb": {
          "model_module": "@jupyter-widgets/controls",
          "model_name": "DescriptionStyleModel",
          "model_module_version": "1.5.0",
          "state": {
            "_model_module": "@jupyter-widgets/controls",
            "_model_module_version": "1.5.0",
            "_model_name": "DescriptionStyleModel",
            "_view_count": null,
            "_view_module": "@jupyter-widgets/base",
            "_view_module_version": "1.2.0",
            "_view_name": "StyleView",
            "description_width": ""
          }
        },
        "5533a3d23b3f47febc5dfea13ae0f88d": {
          "model_module": "@jupyter-widgets/controls",
          "model_name": "HBoxModel",
          "model_module_version": "1.5.0",
          "state": {
            "_dom_classes": [],
            "_model_module": "@jupyter-widgets/controls",
            "_model_module_version": "1.5.0",
            "_model_name": "HBoxModel",
            "_view_count": null,
            "_view_module": "@jupyter-widgets/controls",
            "_view_module_version": "1.5.0",
            "_view_name": "HBoxView",
            "box_style": "",
            "children": [
              "IPY_MODEL_ae82e7c101d14da3939397b448b7e9d3",
              "IPY_MODEL_9abf9c13f79045a7bd7d774a0362c40f",
              "IPY_MODEL_fd616e6ebbc940168cc200e956c4a884"
            ],
            "layout": "IPY_MODEL_6a41ca3f34ba49778345c40c50c26862"
          }
        },
        "ae82e7c101d14da3939397b448b7e9d3": {
          "model_module": "@jupyter-widgets/controls",
          "model_name": "HTMLModel",
          "model_module_version": "1.5.0",
          "state": {
            "_dom_classes": [],
            "_model_module": "@jupyter-widgets/controls",
            "_model_module_version": "1.5.0",
            "_model_name": "HTMLModel",
            "_view_count": null,
            "_view_module": "@jupyter-widgets/controls",
            "_view_module_version": "1.5.0",
            "_view_name": "HTMLView",
            "description": "",
            "description_tooltip": null,
            "layout": "IPY_MODEL_06a12e96e14f4fd280b531459be2aa70",
            "placeholder": "​",
            "style": "IPY_MODEL_c1dcabdff6d14cfe969f339a601db1c7",
            "value": "config.json: 100%"
          }
        },
        "9abf9c13f79045a7bd7d774a0362c40f": {
          "model_module": "@jupyter-widgets/controls",
          "model_name": "FloatProgressModel",
          "model_module_version": "1.5.0",
          "state": {
            "_dom_classes": [],
            "_model_module": "@jupyter-widgets/controls",
            "_model_module_version": "1.5.0",
            "_model_name": "FloatProgressModel",
            "_view_count": null,
            "_view_module": "@jupyter-widgets/controls",
            "_view_module_version": "1.5.0",
            "_view_name": "ProgressView",
            "bar_style": "success",
            "description": "",
            "description_tooltip": null,
            "layout": "IPY_MODEL_456617185d4946fd99c1e5e9563de413",
            "max": 690,
            "min": 0,
            "orientation": "horizontal",
            "style": "IPY_MODEL_ab1c6885939f48bf9860da6e5691b432",
            "value": 690
          }
        },
        "fd616e6ebbc940168cc200e956c4a884": {
          "model_module": "@jupyter-widgets/controls",
          "model_name": "HTMLModel",
          "model_module_version": "1.5.0",
          "state": {
            "_dom_classes": [],
            "_model_module": "@jupyter-widgets/controls",
            "_model_module_version": "1.5.0",
            "_model_name": "HTMLModel",
            "_view_count": null,
            "_view_module": "@jupyter-widgets/controls",
            "_view_module_version": "1.5.0",
            "_view_name": "HTMLView",
            "description": "",
            "description_tooltip": null,
            "layout": "IPY_MODEL_3bc413f0cb3848a3b75fe40ecde88eb8",
            "placeholder": "​",
            "style": "IPY_MODEL_fafdfa60f9c14ada822871f8c04f7363",
            "value": " 690/690 [00:00&lt;00:00, 11.1kB/s]"
          }
        },
        "6a41ca3f34ba49778345c40c50c26862": {
          "model_module": "@jupyter-widgets/base",
          "model_name": "LayoutModel",
          "model_module_version": "1.2.0",
          "state": {
            "_model_module": "@jupyter-widgets/base",
            "_model_module_version": "1.2.0",
            "_model_name": "LayoutModel",
            "_view_count": null,
            "_view_module": "@jupyter-widgets/base",
            "_view_module_version": "1.2.0",
            "_view_name": "LayoutView",
            "align_content": null,
            "align_items": null,
            "align_self": null,
            "border": null,
            "bottom": null,
            "display": null,
            "flex": null,
            "flex_flow": null,
            "grid_area": null,
            "grid_auto_columns": null,
            "grid_auto_flow": null,
            "grid_auto_rows": null,
            "grid_column": null,
            "grid_gap": null,
            "grid_row": null,
            "grid_template_areas": null,
            "grid_template_columns": null,
            "grid_template_rows": null,
            "height": null,
            "justify_content": null,
            "justify_items": null,
            "left": null,
            "margin": null,
            "max_height": null,
            "max_width": null,
            "min_height": null,
            "min_width": null,
            "object_fit": null,
            "object_position": null,
            "order": null,
            "overflow": null,
            "overflow_x": null,
            "overflow_y": null,
            "padding": null,
            "right": null,
            "top": null,
            "visibility": null,
            "width": null
          }
        },
        "06a12e96e14f4fd280b531459be2aa70": {
          "model_module": "@jupyter-widgets/base",
          "model_name": "LayoutModel",
          "model_module_version": "1.2.0",
          "state": {
            "_model_module": "@jupyter-widgets/base",
            "_model_module_version": "1.2.0",
            "_model_name": "LayoutModel",
            "_view_count": null,
            "_view_module": "@jupyter-widgets/base",
            "_view_module_version": "1.2.0",
            "_view_name": "LayoutView",
            "align_content": null,
            "align_items": null,
            "align_self": null,
            "border": null,
            "bottom": null,
            "display": null,
            "flex": null,
            "flex_flow": null,
            "grid_area": null,
            "grid_auto_columns": null,
            "grid_auto_flow": null,
            "grid_auto_rows": null,
            "grid_column": null,
            "grid_gap": null,
            "grid_row": null,
            "grid_template_areas": null,
            "grid_template_columns": null,
            "grid_template_rows": null,
            "height": null,
            "justify_content": null,
            "justify_items": null,
            "left": null,
            "margin": null,
            "max_height": null,
            "max_width": null,
            "min_height": null,
            "min_width": null,
            "object_fit": null,
            "object_position": null,
            "order": null,
            "overflow": null,
            "overflow_x": null,
            "overflow_y": null,
            "padding": null,
            "right": null,
            "top": null,
            "visibility": null,
            "width": null
          }
        },
        "c1dcabdff6d14cfe969f339a601db1c7": {
          "model_module": "@jupyter-widgets/controls",
          "model_name": "DescriptionStyleModel",
          "model_module_version": "1.5.0",
          "state": {
            "_model_module": "@jupyter-widgets/controls",
            "_model_module_version": "1.5.0",
            "_model_name": "DescriptionStyleModel",
            "_view_count": null,
            "_view_module": "@jupyter-widgets/base",
            "_view_module_version": "1.2.0",
            "_view_name": "StyleView",
            "description_width": ""
          }
        },
        "456617185d4946fd99c1e5e9563de413": {
          "model_module": "@jupyter-widgets/base",
          "model_name": "LayoutModel",
          "model_module_version": "1.2.0",
          "state": {
            "_model_module": "@jupyter-widgets/base",
            "_model_module_version": "1.2.0",
            "_model_name": "LayoutModel",
            "_view_count": null,
            "_view_module": "@jupyter-widgets/base",
            "_view_module_version": "1.2.0",
            "_view_name": "LayoutView",
            "align_content": null,
            "align_items": null,
            "align_self": null,
            "border": null,
            "bottom": null,
            "display": null,
            "flex": null,
            "flex_flow": null,
            "grid_area": null,
            "grid_auto_columns": null,
            "grid_auto_flow": null,
            "grid_auto_rows": null,
            "grid_column": null,
            "grid_gap": null,
            "grid_row": null,
            "grid_template_areas": null,
            "grid_template_columns": null,
            "grid_template_rows": null,
            "height": null,
            "justify_content": null,
            "justify_items": null,
            "left": null,
            "margin": null,
            "max_height": null,
            "max_width": null,
            "min_height": null,
            "min_width": null,
            "object_fit": null,
            "object_position": null,
            "order": null,
            "overflow": null,
            "overflow_x": null,
            "overflow_y": null,
            "padding": null,
            "right": null,
            "top": null,
            "visibility": null,
            "width": null
          }
        },
        "ab1c6885939f48bf9860da6e5691b432": {
          "model_module": "@jupyter-widgets/controls",
          "model_name": "ProgressStyleModel",
          "model_module_version": "1.5.0",
          "state": {
            "_model_module": "@jupyter-widgets/controls",
            "_model_module_version": "1.5.0",
            "_model_name": "ProgressStyleModel",
            "_view_count": null,
            "_view_module": "@jupyter-widgets/base",
            "_view_module_version": "1.2.0",
            "_view_name": "StyleView",
            "bar_color": null,
            "description_width": ""
          }
        },
        "3bc413f0cb3848a3b75fe40ecde88eb8": {
          "model_module": "@jupyter-widgets/base",
          "model_name": "LayoutModel",
          "model_module_version": "1.2.0",
          "state": {
            "_model_module": "@jupyter-widgets/base",
            "_model_module_version": "1.2.0",
            "_model_name": "LayoutModel",
            "_view_count": null,
            "_view_module": "@jupyter-widgets/base",
            "_view_module_version": "1.2.0",
            "_view_name": "LayoutView",
            "align_content": null,
            "align_items": null,
            "align_self": null,
            "border": null,
            "bottom": null,
            "display": null,
            "flex": null,
            "flex_flow": null,
            "grid_area": null,
            "grid_auto_columns": null,
            "grid_auto_flow": null,
            "grid_auto_rows": null,
            "grid_column": null,
            "grid_gap": null,
            "grid_row": null,
            "grid_template_areas": null,
            "grid_template_columns": null,
            "grid_template_rows": null,
            "height": null,
            "justify_content": null,
            "justify_items": null,
            "left": null,
            "margin": null,
            "max_height": null,
            "max_width": null,
            "min_height": null,
            "min_width": null,
            "object_fit": null,
            "object_position": null,
            "order": null,
            "overflow": null,
            "overflow_x": null,
            "overflow_y": null,
            "padding": null,
            "right": null,
            "top": null,
            "visibility": null,
            "width": null
          }
        },
        "fafdfa60f9c14ada822871f8c04f7363": {
          "model_module": "@jupyter-widgets/controls",
          "model_name": "DescriptionStyleModel",
          "model_module_version": "1.5.0",
          "state": {
            "_model_module": "@jupyter-widgets/controls",
            "_model_module_version": "1.5.0",
            "_model_name": "DescriptionStyleModel",
            "_view_count": null,
            "_view_module": "@jupyter-widgets/base",
            "_view_module_version": "1.2.0",
            "_view_name": "StyleView",
            "description_width": ""
          }
        },
        "e83f06c39ebe4f4f88be72f34e7eab3c": {
          "model_module": "@jupyter-widgets/controls",
          "model_name": "HBoxModel",
          "model_module_version": "1.5.0",
          "state": {
            "_dom_classes": [],
            "_model_module": "@jupyter-widgets/controls",
            "_model_module_version": "1.5.0",
            "_model_name": "HBoxModel",
            "_view_count": null,
            "_view_module": "@jupyter-widgets/controls",
            "_view_module_version": "1.5.0",
            "_view_name": "HBoxView",
            "box_style": "",
            "children": [
              "IPY_MODEL_3f211383353945daa3742d4671291f73",
              "IPY_MODEL_6bdba6c10fa54cd182d055bcab13160f",
              "IPY_MODEL_930b636d96354f62870e03e0c0f1f813"
            ],
            "layout": "IPY_MODEL_145c99385a154744b7cb73eed816289e"
          }
        },
        "3f211383353945daa3742d4671291f73": {
          "model_module": "@jupyter-widgets/controls",
          "model_name": "HTMLModel",
          "model_module_version": "1.5.0",
          "state": {
            "_dom_classes": [],
            "_model_module": "@jupyter-widgets/controls",
            "_model_module_version": "1.5.0",
            "_model_name": "HTMLModel",
            "_view_count": null,
            "_view_module": "@jupyter-widgets/controls",
            "_view_module_version": "1.5.0",
            "_view_name": "HTMLView",
            "description": "",
            "description_tooltip": null,
            "layout": "IPY_MODEL_0307a72957d64a3c8a8ff57b39dc430a",
            "placeholder": "​",
            "style": "IPY_MODEL_7641ceea76604559a4ece874c920c9b5",
            "value": "model.safetensors: 100%"
          }
        },
        "6bdba6c10fa54cd182d055bcab13160f": {
          "model_module": "@jupyter-widgets/controls",
          "model_name": "FloatProgressModel",
          "model_module_version": "1.5.0",
          "state": {
            "_dom_classes": [],
            "_model_module": "@jupyter-widgets/controls",
            "_model_module_version": "1.5.0",
            "_model_name": "FloatProgressModel",
            "_view_count": null,
            "_view_module": "@jupyter-widgets/controls",
            "_view_module_version": "1.5.0",
            "_view_name": "ProgressView",
            "bar_style": "success",
            "description": "",
            "description_tooltip": null,
            "layout": "IPY_MODEL_c985fdb177d0431fb2d35f5c0157a59c",
            "max": 2239611368,
            "min": 0,
            "orientation": "horizontal",
            "style": "IPY_MODEL_6c276da607f24672ab10116fa9b09427",
            "value": 2239611368
          }
        },
        "930b636d96354f62870e03e0c0f1f813": {
          "model_module": "@jupyter-widgets/controls",
          "model_name": "HTMLModel",
          "model_module_version": "1.5.0",
          "state": {
            "_dom_classes": [],
            "_model_module": "@jupyter-widgets/controls",
            "_model_module_version": "1.5.0",
            "_model_name": "HTMLModel",
            "_view_count": null,
            "_view_module": "@jupyter-widgets/controls",
            "_view_module_version": "1.5.0",
            "_view_name": "HTMLView",
            "description": "",
            "description_tooltip": null,
            "layout": "IPY_MODEL_6d7a73788fec412c9ce26c3ee5c29587",
            "placeholder": "​",
            "style": "IPY_MODEL_7209b7171d5c4ce6aed0feb50a0e643c",
            "value": " 2.24G/2.24G [00:59&lt;00:00, 41.7MB/s]"
          }
        },
        "145c99385a154744b7cb73eed816289e": {
          "model_module": "@jupyter-widgets/base",
          "model_name": "LayoutModel",
          "model_module_version": "1.2.0",
          "state": {
            "_model_module": "@jupyter-widgets/base",
            "_model_module_version": "1.2.0",
            "_model_name": "LayoutModel",
            "_view_count": null,
            "_view_module": "@jupyter-widgets/base",
            "_view_module_version": "1.2.0",
            "_view_name": "LayoutView",
            "align_content": null,
            "align_items": null,
            "align_self": null,
            "border": null,
            "bottom": null,
            "display": null,
            "flex": null,
            "flex_flow": null,
            "grid_area": null,
            "grid_auto_columns": null,
            "grid_auto_flow": null,
            "grid_auto_rows": null,
            "grid_column": null,
            "grid_gap": null,
            "grid_row": null,
            "grid_template_areas": null,
            "grid_template_columns": null,
            "grid_template_rows": null,
            "height": null,
            "justify_content": null,
            "justify_items": null,
            "left": null,
            "margin": null,
            "max_height": null,
            "max_width": null,
            "min_height": null,
            "min_width": null,
            "object_fit": null,
            "object_position": null,
            "order": null,
            "overflow": null,
            "overflow_x": null,
            "overflow_y": null,
            "padding": null,
            "right": null,
            "top": null,
            "visibility": null,
            "width": null
          }
        },
        "0307a72957d64a3c8a8ff57b39dc430a": {
          "model_module": "@jupyter-widgets/base",
          "model_name": "LayoutModel",
          "model_module_version": "1.2.0",
          "state": {
            "_model_module": "@jupyter-widgets/base",
            "_model_module_version": "1.2.0",
            "_model_name": "LayoutModel",
            "_view_count": null,
            "_view_module": "@jupyter-widgets/base",
            "_view_module_version": "1.2.0",
            "_view_name": "LayoutView",
            "align_content": null,
            "align_items": null,
            "align_self": null,
            "border": null,
            "bottom": null,
            "display": null,
            "flex": null,
            "flex_flow": null,
            "grid_area": null,
            "grid_auto_columns": null,
            "grid_auto_flow": null,
            "grid_auto_rows": null,
            "grid_column": null,
            "grid_gap": null,
            "grid_row": null,
            "grid_template_areas": null,
            "grid_template_columns": null,
            "grid_template_rows": null,
            "height": null,
            "justify_content": null,
            "justify_items": null,
            "left": null,
            "margin": null,
            "max_height": null,
            "max_width": null,
            "min_height": null,
            "min_width": null,
            "object_fit": null,
            "object_position": null,
            "order": null,
            "overflow": null,
            "overflow_x": null,
            "overflow_y": null,
            "padding": null,
            "right": null,
            "top": null,
            "visibility": null,
            "width": null
          }
        },
        "7641ceea76604559a4ece874c920c9b5": {
          "model_module": "@jupyter-widgets/controls",
          "model_name": "DescriptionStyleModel",
          "model_module_version": "1.5.0",
          "state": {
            "_model_module": "@jupyter-widgets/controls",
            "_model_module_version": "1.5.0",
            "_model_name": "DescriptionStyleModel",
            "_view_count": null,
            "_view_module": "@jupyter-widgets/base",
            "_view_module_version": "1.2.0",
            "_view_name": "StyleView",
            "description_width": ""
          }
        },
        "c985fdb177d0431fb2d35f5c0157a59c": {
          "model_module": "@jupyter-widgets/base",
          "model_name": "LayoutModel",
          "model_module_version": "1.2.0",
          "state": {
            "_model_module": "@jupyter-widgets/base",
            "_model_module_version": "1.2.0",
            "_model_name": "LayoutModel",
            "_view_count": null,
            "_view_module": "@jupyter-widgets/base",
            "_view_module_version": "1.2.0",
            "_view_name": "LayoutView",
            "align_content": null,
            "align_items": null,
            "align_self": null,
            "border": null,
            "bottom": null,
            "display": null,
            "flex": null,
            "flex_flow": null,
            "grid_area": null,
            "grid_auto_columns": null,
            "grid_auto_flow": null,
            "grid_auto_rows": null,
            "grid_column": null,
            "grid_gap": null,
            "grid_row": null,
            "grid_template_areas": null,
            "grid_template_columns": null,
            "grid_template_rows": null,
            "height": null,
            "justify_content": null,
            "justify_items": null,
            "left": null,
            "margin": null,
            "max_height": null,
            "max_width": null,
            "min_height": null,
            "min_width": null,
            "object_fit": null,
            "object_position": null,
            "order": null,
            "overflow": null,
            "overflow_x": null,
            "overflow_y": null,
            "padding": null,
            "right": null,
            "top": null,
            "visibility": null,
            "width": null
          }
        },
        "6c276da607f24672ab10116fa9b09427": {
          "model_module": "@jupyter-widgets/controls",
          "model_name": "ProgressStyleModel",
          "model_module_version": "1.5.0",
          "state": {
            "_model_module": "@jupyter-widgets/controls",
            "_model_module_version": "1.5.0",
            "_model_name": "ProgressStyleModel",
            "_view_count": null,
            "_view_module": "@jupyter-widgets/base",
            "_view_module_version": "1.2.0",
            "_view_name": "StyleView",
            "bar_color": null,
            "description_width": ""
          }
        },
        "6d7a73788fec412c9ce26c3ee5c29587": {
          "model_module": "@jupyter-widgets/base",
          "model_name": "LayoutModel",
          "model_module_version": "1.2.0",
          "state": {
            "_model_module": "@jupyter-widgets/base",
            "_model_module_version": "1.2.0",
            "_model_name": "LayoutModel",
            "_view_count": null,
            "_view_module": "@jupyter-widgets/base",
            "_view_module_version": "1.2.0",
            "_view_name": "LayoutView",
            "align_content": null,
            "align_items": null,
            "align_self": null,
            "border": null,
            "bottom": null,
            "display": null,
            "flex": null,
            "flex_flow": null,
            "grid_area": null,
            "grid_auto_columns": null,
            "grid_auto_flow": null,
            "grid_auto_rows": null,
            "grid_column": null,
            "grid_gap": null,
            "grid_row": null,
            "grid_template_areas": null,
            "grid_template_columns": null,
            "grid_template_rows": null,
            "height": null,
            "justify_content": null,
            "justify_items": null,
            "left": null,
            "margin": null,
            "max_height": null,
            "max_width": null,
            "min_height": null,
            "min_width": null,
            "object_fit": null,
            "object_position": null,
            "order": null,
            "overflow": null,
            "overflow_x": null,
            "overflow_y": null,
            "padding": null,
            "right": null,
            "top": null,
            "visibility": null,
            "width": null
          }
        },
        "7209b7171d5c4ce6aed0feb50a0e643c": {
          "model_module": "@jupyter-widgets/controls",
          "model_name": "DescriptionStyleModel",
          "model_module_version": "1.5.0",
          "state": {
            "_model_module": "@jupyter-widgets/controls",
            "_model_module_version": "1.5.0",
            "_model_name": "DescriptionStyleModel",
            "_view_count": null,
            "_view_module": "@jupyter-widgets/base",
            "_view_module_version": "1.2.0",
            "_view_name": "StyleView",
            "description_width": ""
          }
        }
      }
    }
  },
  "nbformat": 4,
  "nbformat_minor": 5
}